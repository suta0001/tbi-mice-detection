{
 "cells": [
  {
   "cell_type": "markdown",
   "metadata": {},
   "source": [
    "# Combine mice and human data"
   ]
  },
  {
   "cell_type": "markdown",
   "metadata": {},
   "source": [
    "# Mice data"
   ]
  },
  {
   "cell_type": "markdown",
   "metadata": {},
   "source": [
    "Import necessary lib"
   ]
  },
  {
   "cell_type": "code",
   "execution_count": 1,
   "metadata": {},
   "outputs": [],
   "source": [
    "import pandas as pd\n",
    "import numpy as np\n",
    "import matplotlib.pyplot as plt\n",
    "#%matplotlib notebook\n",
    "%matplotlib inline\n",
    "from scipy.signal import butter, lfilter"
   ]
  },
  {
   "cell_type": "markdown",
   "metadata": {},
   "source": [
    "Read two TBI and two Control Mouse data"
   ]
  },
  {
   "cell_type": "code",
   "execution_count": 2,
   "metadata": {},
   "outputs": [],
   "source": [
    "sham1=pd.read_csv('Sham102_BL5.csv', header=None, index_col=None)#load data\n",
    "sham2=pd.read_csv('Sham103_BL5.csv', header=None, index_col=None)#load data\n",
    "\n",
    "tbi1=pd.read_csv('TBI104_BL5.csv', header=None, index_col=None)#load data\n",
    "tbi2=pd.read_csv('TBI106_BL5.csv', header=None, index_col=None)#load data\n",
    "\n",
    "sham1.columns=['Timestamp_Index','Wake','NREM','REM','EEG','EMG','Mouse_Label']\n",
    "sham2.columns=['Timestamp_Index','Wake','NREM','REM','EEG','EMG','Mouse_Label']\n",
    "\n",
    "tbi1.columns=['Timestamp_Index','Wake','NREM','REM','EEG','EMG','Mouse_Label']\n",
    "tbi2.columns=['Timestamp_Index','Wake','NREM','REM','EEG','EMG','Mouse_Label']"
   ]
  },
  {
   "cell_type": "markdown",
   "metadata": {},
   "source": [
    "Initialize common variable"
   ]
  },
  {
   "cell_type": "code",
   "execution_count": 3,
   "metadata": {},
   "outputs": [],
   "source": [
    "hours = 24 #initialize common variables\n",
    "epoch = 4\n",
    "num_epoch = int(hours * 60 * 60 / epoch)"
   ]
  },
  {
   "cell_type": "markdown",
   "metadata": {},
   "source": [
    "Extract 1min wake data"
   ]
  },
  {
   "cell_type": "code",
   "execution_count": 4,
   "metadata": {},
   "outputs": [],
   "source": [
    "#extract 1min wake data from Control mouse\n",
    "start1=[]\n",
    "stop1=[]\n",
    "check1=[]\n",
    "sham_extract1=list()\n",
    "j1=0\n",
    "l1=0\n",
    "for i in range((24*60*60*256)-60):\n",
    "    if i == 0:\n",
    "        if sham1.iloc[:,1][i]==1:\n",
    "            if sum(sham1.iloc[:,1][i:i+(60*256)])==256*60:\n",
    "                chunk1=sham1.iloc[:,4][i:i+(60*256)]\n",
    "                sham_extract1.append(chunk1)\n",
    "\n",
    "                j1=i\n",
    "                start1.append(j1)\n",
    "                k1=i+(60*256)-1\n",
    "                stop1.append(k1)\n",
    "                l1=l1+1\n",
    "    else:\n",
    "        if i > stop1[l1-1]:\n",
    "            if sham1.iloc[:,1][i]==1:\n",
    "                if sum(sham1.iloc[:,1][i:i+(60*256)])==256*60:\n",
    "                    chunk1=sham1.iloc[:,4][i:i+(60*256)]\n",
    "                    sham_extract1.append(chunk1)\n",
    "\n",
    "                    j1=i\n",
    "                    start1.append(j1)\n",
    "                    k1=i+(60*256)-1\n",
    "                    stop1.append(k1)\n",
    "                    l1=l1+1"
   ]
  },
  {
   "cell_type": "code",
   "execution_count": 5,
   "metadata": {},
   "outputs": [],
   "source": [
    "#extract 1min wake data from Control mouse\n",
    "start2=[]\n",
    "stop2=[]\n",
    "check2=[]\n",
    "sham_extract2=list()\n",
    "j2=0\n",
    "l2=0\n",
    "for i in range((24*60*60*256)-60):\n",
    "    if i == 0:\n",
    "        if sham2.iloc[:,1][i]==1:\n",
    "            if sum(sham2.iloc[:,1][i:i+(60*256)])==256*60:\n",
    "                chunk2=sham2.iloc[:,4][i:i+(60*256)]\n",
    "                sham_extract2.append(chunk2)\n",
    "\n",
    "                j2=i\n",
    "                start2.append(j2)\n",
    "                k2=i+(60*256)-1\n",
    "                stop2.append(k2)\n",
    "                l2=l2+1\n",
    "    else:\n",
    "        if i > stop2[l2-1]:\n",
    "            if sham2.iloc[:,1][i]==1:\n",
    "                if sum(sham2.iloc[:,1][i:i+(60*256)])==256*60:\n",
    "                    chunk2=sham2.iloc[:,4][i:i+(60*256)]\n",
    "                    sham_extract2.append(chunk2)\n",
    "\n",
    "                    j2=i\n",
    "                    start2.append(j2)\n",
    "                    k2=i+(60*256)-1\n",
    "                    stop2.append(k2)\n",
    "                    l2=l2+1"
   ]
  },
  {
   "cell_type": "code",
   "execution_count": 6,
   "metadata": {},
   "outputs": [],
   "source": [
    "#extract 1min wake data from TBI mouse\n",
    "start3=[]\n",
    "stop3=[]\n",
    "check3=[]\n",
    "tbi_extract1=list()\n",
    "j3=0\n",
    "l3=0\n",
    "for i in range((24*60*60*256)-60):\n",
    "    if i == 0:\n",
    "        if tbi1.iloc[:,1][i]==1:\n",
    "            if sum(tbi1.iloc[:,1][i:i+(60*256)])==256*60:\n",
    "                chunk3=tbi1.iloc[:,4][i:i+(60*256)]\n",
    "                tbi_extract1.append(chunk3)\n",
    "\n",
    "                j3=i\n",
    "                start3.append(j3)\n",
    "                k3=i+(60*256)-1\n",
    "                stop3.append(k3)\n",
    "                l3=l3+1\n",
    "    else:\n",
    "        if i > stop3[l3-1]:\n",
    "            if tbi1.iloc[:,1][i]==1:\n",
    "                if sum(tbi1.iloc[:,1][i:i+(60*256)])==256*60:\n",
    "                    chunk3=tbi1.iloc[:,4][i:i+(60*256)]\n",
    "                    tbi_extract1.append(chunk3)\n",
    "\n",
    "                    j3=i\n",
    "                    start3.append(j3)\n",
    "                    k3=i+(60*256)-1\n",
    "                    stop3.append(k3)\n",
    "                    l3=l3+1"
   ]
  },
  {
   "cell_type": "code",
   "execution_count": 7,
   "metadata": {},
   "outputs": [],
   "source": [
    "#extract 1min wake data from TBI mouse\n",
    "start4=[]\n",
    "stop4=[]\n",
    "check4=[]\n",
    "tbi_extract2=list()\n",
    "j4=0\n",
    "l4=0\n",
    "for i in range((24*60*60*256)-60):\n",
    "    if i == 0:\n",
    "        if tbi2.iloc[:,1][i]==1:\n",
    "            if sum(tbi2.iloc[:,1][i:i+(60*256)])==256*60:\n",
    "                chunk4=tbi2.iloc[:,4][i:i+(60*256)]\n",
    "                tbi_extract2.append(chunk4)\n",
    "\n",
    "                j4=i\n",
    "                start4.append(j4)\n",
    "                k4=i+(60*256)-1\n",
    "                stop4.append(k4)\n",
    "                l4=l4+1\n",
    "    else:\n",
    "        if i > stop4[l4-1]:\n",
    "            if tbi2.iloc[:,1][i]==1:\n",
    "                if sum(tbi2.iloc[:,1][i:i+(60*256)])==256*60:\n",
    "                    chunk4=tbi2.iloc[:,4][i:i+(60*256)]\n",
    "                    tbi_extract2.append(chunk4)\n",
    "\n",
    "                    j4=i\n",
    "                    start4.append(j4)\n",
    "                    k4=i+(60*256)-1\n",
    "                    stop4.append(k4)\n",
    "                    l4=l4+1"
   ]
  },
  {
   "cell_type": "code",
   "execution_count": 254,
   "metadata": {},
   "outputs": [
    {
     "data": {
      "text/plain": [
       "[<matplotlib.lines.Line2D at 0x27e50e206d8>]"
      ]
     },
     "execution_count": 254,
     "metadata": {},
     "output_type": "execute_result"
    },
    {
     "data": {
      "image/png": "[encoded data removed]",
      "text/plain": [
       "<Figure size 432x288 with 1 Axes>"
      ]
     },
     "metadata": {
      "needs_background": "light"
     },
     "output_type": "display_data"
    }
   ],
   "source": [
    "plt.plot(start1)\n",
    "plt.plot(start2)\n",
    "plt.plot(start3)\n",
    "plt.plot(start4)"
   ]
  },
  {
   "cell_type": "code",
   "execution_count": 255,
   "metadata": {},
   "outputs": [
    {
     "name": "stdout",
     "output_type": "stream",
     "text": [
      "Number of 1min wake epochs in control1 =  736\n",
      "Number of 1min wake epochs in control2 =  637\n",
      "Number of 1min wake epochs in TBI1 =  207\n",
      "Number of 1min wake epochs in TBI2 =  458\n"
     ]
    }
   ],
   "source": [
    "print('Number of 1min wake epochs in control1 = ',len(sham_extract1))\n",
    "print('Number of 1min wake epochs in control2 = ',len(sham_extract2))\n",
    "print('Number of 1min wake epochs in TBI1 = ',len(tbi_extract1))\n",
    "print('Number of 1min wake epochs in TBI2 = ',len(tbi_extract2))"
   ]
  },
  {
   "cell_type": "code",
   "execution_count": 256,
   "metadata": {},
   "outputs": [
    {
     "name": "stdout",
     "output_type": "stream",
     "text": [
      "Number of samples in each epoch = (256*60) =  15360\n"
     ]
    }
   ],
   "source": [
    "print('Number of samples in each epoch = (256*60) = ',len(sham_extract1[0]))"
   ]
  },
  {
   "cell_type": "markdown",
   "metadata": {},
   "source": [
    "Define filter"
   ]
  },
  {
   "cell_type": "code",
   "execution_count": 257,
   "metadata": {},
   "outputs": [],
   "source": [
    "def butter_bandpass(lowcut, highcut, fs, order): #design bandpass filter\n",
    "    nyq = 0.5 * fs\n",
    "    low = lowcut / nyq\n",
    "    high = highcut / nyq\n",
    "    b, a = butter(order, [low, high], btype='band', analog=False)\n",
    "    return b, a\n",
    "def butter_bandpass_filter(data, lowcut, highcut, fs, order):\n",
    "    b, a = butter_bandpass(lowcut, highcut, fs, order)\n",
    "    y = lfilter(b, a, data)\n",
    "    return y"
   ]
  },
  {
   "cell_type": "markdown",
   "metadata": {},
   "source": [
    "Filter data"
   ]
  },
  {
   "cell_type": "code",
   "execution_count": 258,
   "metadata": {},
   "outputs": [],
   "source": [
    "s1=(len(sham_extract1),256*60)\n",
    "sham_fil_theta1=np.zeros(s1)\n",
    "sham_fil_alpha1=np.zeros(s1)\n",
    "sham_fil_sigma1=np.zeros(s1)\n",
    "sham_fil_beta1=np.zeros(s1)\n",
    "sham_fil_gama1=np.zeros(s1)\n",
    "sham_fil_all1=np.zeros(s1)\n",
    "\n",
    "for i in range(len(sham_extract1)):\n",
    "    sham_fil_theta1[i]= butter_bandpass_filter(sham_extract1[i], 4, 7.5, 256, 6)\n",
    "    sham_fil_alpha1[i]= butter_bandpass_filter(sham_extract1[i], 8, 12, 256, 6)\n",
    "    sham_fil_sigma1[i] = butter_bandpass_filter(sham_extract1[i], 13, 16, 256, 6)\n",
    "    sham_fil_beta1[i] = butter_bandpass_filter(sham_extract1[i], 16.5, 25, 256, 6)\n",
    "    sham_fil_gama1[i] = butter_bandpass_filter(sham_extract1[i], 30, 35, 256, 6)\n",
    "    sham_fil_all1[i] = butter_bandpass_filter(sham_extract1[i], 4, 35, 256, 6)\n",
    "    \n",
    "sham_fft_theta1=[0]*len(sham_extract1)\n",
    "sham_fft_alpha1=[0]*len(sham_extract1)\n",
    "sham_fft_sigma1=[0]*len(sham_extract1)\n",
    "sham_fft_beta1=[0]*len(sham_extract1)\n",
    "sham_fft_gama1=[0]*len(sham_extract1)\n",
    "sham_fft_all1=[0]*len(sham_extract1)\n",
    "\n",
    "for i in range(len(sham_extract1)):\n",
    "    sham_fft_theta1[i] = (abs(np.fft.fft(sham_fil_theta1[i])))**2\n",
    "    sham_fft_alpha1[i] = (abs(np.fft.fft(sham_fil_alpha1[i])))**2\n",
    "    sham_fft_sigma1[i] = (abs(np.fft.fft(sham_fil_sigma1[i])))**2\n",
    "    sham_fft_beta1[i] = (abs(np.fft.fft(sham_fil_beta1[i])))**2\n",
    "    sham_fft_gama1[i] = (abs(np.fft.fft(sham_fil_gama1[i])))**2\n",
    "    sham_fft_all1[i] = (abs(np.fft.fft(sham_fil_all1[i])))**2\n",
    "\n",
    "sham_mean_theta1=np.mean(sham_fft_theta1,axis=1)\n",
    "sham_mean_alpha1=np.mean(sham_fft_alpha1,axis=1)\n",
    "sham_mean_sigma1=np.mean(sham_fft_sigma1,axis=1)\n",
    "sham_mean_beta1=np.mean(sham_fft_beta1,axis=1)\n",
    "sham_mean_gama1=np.mean(sham_fft_gama1,axis=1)\n",
    "sham_mean_all1=np.mean(sham_fft_all1,axis=1)"
   ]
  },
  {
   "cell_type": "code",
   "execution_count": 259,
   "metadata": {},
   "outputs": [],
   "source": [
    "s2=(len(sham_extract2),256*60)\n",
    "sham_fil_theta2=np.zeros(s2)\n",
    "sham_fil_alpha2=np.zeros(s2)\n",
    "sham_fil_sigma2=np.zeros(s2)\n",
    "sham_fil_beta2=np.zeros(s2)\n",
    "sham_fil_gama2=np.zeros(s2)\n",
    "sham_fil_all2=np.zeros(s2)\n",
    "\n",
    "for i in range(len(sham_extract2)):\n",
    "    sham_fil_theta2[i]= butter_bandpass_filter(sham_extract2[i], 4, 7.5, 256, 6)\n",
    "    sham_fil_alpha2[i]= butter_bandpass_filter(sham_extract2[i], 8, 12, 256, 6)\n",
    "    sham_fil_sigma2[i] = butter_bandpass_filter(sham_extract2[i], 13, 16, 256, 6)\n",
    "    sham_fil_beta2[i] = butter_bandpass_filter(sham_extract2[i], 16.5, 25, 256, 6)\n",
    "    sham_fil_gama2[i] = butter_bandpass_filter(sham_extract2[i], 30, 35, 256, 6)\n",
    "    sham_fil_all2[i] = butter_bandpass_filter(sham_extract2[i], 4, 35, 256, 6)\n",
    "    \n",
    "sham_fft_theta2=[0]*len(sham_extract2)\n",
    "sham_fft_alpha2=[0]*len(sham_extract2)\n",
    "sham_fft_sigma2=[0]*len(sham_extract2)\n",
    "sham_fft_beta2=[0]*len(sham_extract2)\n",
    "sham_fft_gama2=[0]*len(sham_extract2)\n",
    "sham_fft_all2=[0]*len(sham_extract2)\n",
    "\n",
    "for i in range(len(sham_extract2)):\n",
    "    sham_fft_theta2[i] = (abs(np.fft.fft(sham_fil_theta2[i])))**2\n",
    "    sham_fft_alpha2[i] = (abs(np.fft.fft(sham_fil_alpha2[i])))**2\n",
    "    sham_fft_sigma2[i] = (abs(np.fft.fft(sham_fil_sigma2[i])))**2\n",
    "    sham_fft_beta2[i] = (abs(np.fft.fft(sham_fil_beta2[i])))**2\n",
    "    sham_fft_gama2[i] = (abs(np.fft.fft(sham_fil_gama2[i])))**2\n",
    "    sham_fft_all2[i] = (abs(np.fft.fft(sham_fil_all2[i])))**2\n",
    "\n",
    "sham_mean_theta2=np.mean(sham_fft_theta2,axis=1)\n",
    "sham_mean_alpha2=np.mean(sham_fft_alpha2,axis=1)\n",
    "sham_mean_sigma2=np.mean(sham_fft_sigma2,axis=1)\n",
    "sham_mean_beta2=np.mean(sham_fft_beta2,axis=1)\n",
    "sham_mean_gama2=np.mean(sham_fft_gama2,axis=1)\n",
    "sham_mean_all2=np.mean(sham_fft_all2,axis=1)"
   ]
  },
  {
   "cell_type": "code",
   "execution_count": 260,
   "metadata": {},
   "outputs": [],
   "source": [
    "s3=(len(tbi_extract1),256*60)\n",
    "tbi_fil_theta1=np.zeros(s3)\n",
    "tbi_fil_alpha1=np.zeros(s3)\n",
    "tbi_fil_sigma1=np.zeros(s3)\n",
    "tbi_fil_beta1=np.zeros(s3)\n",
    "tbi_fil_gama1=np.zeros(s3)\n",
    "tbi_fil_all1=np.zeros(s3)\n",
    "\n",
    "for i in range(len(tbi_extract1)):\n",
    "    tbi_fil_theta1[i]= butter_bandpass_filter(tbi_extract1[i], 4, 7.5, 256, 6)\n",
    "    tbi_fil_alpha1[i]= butter_bandpass_filter(tbi_extract1[i], 8, 12, 256, 6)\n",
    "    tbi_fil_sigma1[i] = butter_bandpass_filter(tbi_extract1[i], 13, 16, 256, 6)\n",
    "    tbi_fil_beta1[i] = butter_bandpass_filter(tbi_extract1[i], 16.5, 25, 256, 6)\n",
    "    tbi_fil_gama1[i] = butter_bandpass_filter(tbi_extract1[i], 30, 35, 256, 6)\n",
    "    tbi_fil_all1[i] = butter_bandpass_filter(tbi_extract1[i], 4, 35, 256, 6)\n",
    "    \n",
    "tbi_fft_theta1=[0]*len(tbi_extract1)\n",
    "tbi_fft_alpha1=[0]*len(tbi_extract1)\n",
    "tbi_fft_sigma1=[0]*len(tbi_extract1)\n",
    "tbi_fft_beta1=[0]*len(tbi_extract1)\n",
    "tbi_fft_gama1=[0]*len(tbi_extract1)\n",
    "tbi_fft_all1=[0]*len(tbi_extract1)\n",
    "\n",
    "for i in range(len(tbi_extract1)):\n",
    "    tbi_fft_theta1[i] = (abs(np.fft.fft(tbi_fil_theta1[i])))**2\n",
    "    tbi_fft_alpha1[i] = (abs(np.fft.fft(tbi_fil_alpha1[i])))**2\n",
    "    tbi_fft_sigma1[i] = (abs(np.fft.fft(tbi_fil_sigma1[i])))**2\n",
    "    tbi_fft_beta1[i] = (abs(np.fft.fft(tbi_fil_beta1[i])))**2\n",
    "    tbi_fft_gama1[i] = (abs(np.fft.fft(tbi_fil_gama1[i])))**2\n",
    "    tbi_fft_all1[i] = (abs(np.fft.fft(tbi_fil_all1[i])))**2\n",
    "\n",
    "tbi_mean_theta1=np.mean(tbi_fft_theta1,axis=1)\n",
    "tbi_mean_alpha1=np.mean(tbi_fft_alpha1,axis=1)\n",
    "tbi_mean_sigma1=np.mean(tbi_fft_sigma1,axis=1)\n",
    "tbi_mean_beta1=np.mean(tbi_fft_beta1,axis=1)\n",
    "tbi_mean_gama1=np.mean(tbi_fft_gama1,axis=1)\n",
    "tbi_mean_all1=np.mean(tbi_fft_all1,axis=1)"
   ]
  },
  {
   "cell_type": "code",
   "execution_count": 261,
   "metadata": {},
   "outputs": [],
   "source": [
    "s4=(len(tbi_extract2),256*60)\n",
    "tbi_fil_theta2=np.zeros(s4)\n",
    "tbi_fil_alpha2=np.zeros(s4)\n",
    "tbi_fil_sigma2=np.zeros(s4)\n",
    "tbi_fil_beta2=np.zeros(s4)\n",
    "tbi_fil_gama2=np.zeros(s4)\n",
    "tbi_fil_all2=np.zeros(s4)\n",
    "\n",
    "for i in range(len(tbi_extract2)):\n",
    "    tbi_fil_theta2[i]= butter_bandpass_filter(tbi_extract2[i], 4, 7.5, 256, 6)\n",
    "    tbi_fil_alpha2[i]= butter_bandpass_filter(tbi_extract2[i], 8, 12, 256, 6)\n",
    "    tbi_fil_sigma2[i] = butter_bandpass_filter(tbi_extract2[i], 13, 16, 256, 6)\n",
    "    tbi_fil_beta2[i] = butter_bandpass_filter(tbi_extract2[i], 16.5, 25, 256, 6)\n",
    "    tbi_fil_gama2[i] = butter_bandpass_filter(tbi_extract2[i], 30, 35, 256, 6)\n",
    "    tbi_fil_all2[i] = butter_bandpass_filter(tbi_extract2[i], 4, 35, 256, 6)\n",
    "    \n",
    "tbi_fft_theta2=[0]*len(tbi_extract2)\n",
    "tbi_fft_alpha2=[0]*len(tbi_extract2)\n",
    "tbi_fft_sigma2=[0]*len(tbi_extract2)\n",
    "tbi_fft_beta2=[0]*len(tbi_extract2)\n",
    "tbi_fft_gama2=[0]*len(tbi_extract2)\n",
    "tbi_fft_all2=[0]*len(tbi_extract2)\n",
    "\n",
    "for i in range(len(tbi_extract2)):\n",
    "    tbi_fft_theta2[i] = (abs(np.fft.fft(tbi_fil_theta2[i])))**2\n",
    "    tbi_fft_alpha2[i] = (abs(np.fft.fft(tbi_fil_alpha2[i])))**2\n",
    "    tbi_fft_sigma2[i] = (abs(np.fft.fft(tbi_fil_sigma2[i])))**2\n",
    "    tbi_fft_beta2[i] = (abs(np.fft.fft(tbi_fil_beta2[i])))**2\n",
    "    tbi_fft_gama2[i] = (abs(np.fft.fft(tbi_fil_gama2[i])))**2\n",
    "    tbi_fft_all2[i] = (abs(np.fft.fft(tbi_fil_all2[i])))**2\n",
    "\n",
    "tbi_mean_theta2=np.mean(tbi_fft_theta2,axis=1)\n",
    "tbi_mean_alpha2=np.mean(tbi_fft_alpha2,axis=1)\n",
    "tbi_mean_sigma2=np.mean(tbi_fft_sigma2,axis=1)\n",
    "tbi_mean_beta2=np.mean(tbi_fft_beta2,axis=1)\n",
    "tbi_mean_gama2=np.mean(tbi_fft_gama2,axis=1)\n",
    "tbi_mean_all2=np.mean(tbi_fft_all2,axis=1)"
   ]
  },
  {
   "cell_type": "markdown",
   "metadata": {},
   "source": [
    "Create Dataframe"
   ]
  },
  {
   "cell_type": "code",
   "execution_count": 3052,
   "metadata": {},
   "outputs": [],
   "source": [
    "new_sham1= pd.DataFrame({\n",
    "    'mean_theta':sham_mean_theta1,\n",
    "    'mean_alpha':sham_mean_alpha1,\n",
    "    'mean_sigma':sham_mean_sigma1,\n",
    "    'mean_beta':sham_mean_beta1,\n",
    "    'mean_gama':sham_mean_gama1,\n",
    "    #'low_high':sham_mean_theta1/sham_mean_alpha1,\n",
    "    'label':0\n",
    "})\n"
   ]
  },
  {
   "cell_type": "code",
   "execution_count": 3053,
   "metadata": {},
   "outputs": [],
   "source": [
    "new_sham2= pd.DataFrame({\n",
    "    'mean_theta':sham_mean_theta2,\n",
    "    'mean_alpha':sham_mean_alpha2,\n",
    "    'mean_sigma':sham_mean_sigma2,\n",
    "    'mean_beta':sham_mean_beta2,\n",
    "    'mean_gama':sham_mean_gama2,\n",
    "    #'low_high':sham_mean_theta2/sham_mean_alpha2,\n",
    "    'label':0\n",
    "})\n"
   ]
  },
  {
   "cell_type": "code",
   "execution_count": 3054,
   "metadata": {},
   "outputs": [],
   "source": [
    "new_tbi1= pd.DataFrame({\n",
    "    'mean_theta':tbi_mean_theta1,\n",
    "    'mean_alpha':tbi_mean_alpha1,\n",
    "    'mean_sigma':tbi_mean_sigma1,\n",
    "    'mean_beta':tbi_mean_beta1,\n",
    "    'mean_gama':tbi_mean_gama1,\n",
    "    #'low_high':tbi_mean_theta1/tbi_mean_alpha1,\n",
    "    'label':1\n",
    "})\n"
   ]
  },
  {
   "cell_type": "code",
   "execution_count": 3055,
   "metadata": {},
   "outputs": [],
   "source": [
    "new_tbi2= pd.DataFrame({\n",
    "    'mean_theta':tbi_mean_theta2,\n",
    "    'mean_alpha':tbi_mean_alpha2,\n",
    "    'mean_sigma':tbi_mean_sigma2,\n",
    "    'mean_beta':tbi_mean_beta2,\n",
    "    'mean_gama':tbi_mean_gama2,\n",
    "    #'low_high':tbi_mean_theta2/tbi_mean_alpha2,\n",
    "    'label':1\n",
    "})\n"
   ]
  },
  {
   "cell_type": "code",
   "execution_count": 2303,
   "metadata": {},
   "outputs": [],
   "source": [
    "#......................................................................................................................"
   ]
  },
  {
   "cell_type": "code",
   "execution_count": 262,
   "metadata": {},
   "outputs": [],
   "source": [
    "base_sham_theta1=np.mean(sham_mean_theta1[0:5])\n",
    "base_sham_alpha1=np.mean(sham_mean_alpha1[0:5])\n",
    "base_sham_sigma1=np.mean(sham_mean_sigma1[0:5])\n",
    "base_sham_beta1=np.mean(sham_mean_beta1[0:5])\n",
    "base_sham_gama1=np.mean(sham_mean_gama1[0:5])\n",
    "base_sham_theta2=np.mean(sham_mean_theta2[0:5])\n",
    "base_sham_alpha2=np.mean(sham_mean_alpha2[0:5])\n",
    "base_sham_sigma2=np.mean(sham_mean_sigma2[0:5])\n",
    "base_sham_beta2=np.mean(sham_mean_beta2[0:5])\n",
    "base_sham_gama2=np.mean(sham_mean_gama2[0:5])\n",
    "\n",
    "base_tbi_theta1=np.mean(tbi_mean_theta1[0:5])\n",
    "base_tbi_alpha1=np.mean(tbi_mean_alpha1[0:5])\n",
    "base_tbi_sigma1=np.mean(tbi_mean_sigma1[0:5])\n",
    "base_tbi_beta1=np.mean(tbi_mean_beta1[0:5])\n",
    "base_tbi_gama1=np.mean(tbi_mean_gama1[0:5])\n",
    "base_tbi_theta2=np.mean(tbi_mean_theta2[0:5])\n",
    "base_tbi_alpha2=np.mean(tbi_mean_alpha2[0:5])\n",
    "base_tbi_sigma2=np.mean(tbi_mean_sigma2[0:5])\n",
    "base_tbi_beta2=np.mean(tbi_mean_beta2[0:5])\n",
    "base_tbi_gama2=np.mean(tbi_mean_gama2[0:5])"
   ]
  },
  {
   "cell_type": "code",
   "execution_count": 263,
   "metadata": {},
   "outputs": [],
   "source": [
    "base_sham_theta=(base_sham_theta1+base_sham_theta2)/2.0\n",
    "base_sham_alpha=(base_sham_alpha1+base_sham_alpha2)/2.0\n",
    "base_sham_sigma=(base_sham_sigma1+base_sham_sigma2)/2.0\n",
    "base_sham_beta=(base_sham_beta1+base_sham_beta2)/2.0\n",
    "base_sham_gama=(base_sham_gama1+base_sham_gama2)/2.0"
   ]
  },
  {
   "cell_type": "code",
   "execution_count": 264,
   "metadata": {},
   "outputs": [],
   "source": [
    "base_tbi_theta=(base_tbi_theta1+base_tbi_theta2)/2.0\n",
    "base_tbi_alpha=(base_tbi_alpha1+base_tbi_alpha2)/2.0\n",
    "base_tbi_sigma=(base_tbi_sigma1+base_tbi_sigma2)/2.0\n",
    "base_tbi_beta=(base_tbi_beta1+base_tbi_beta2)/2.0\n",
    "base_tbi_gama=(base_tbi_gama1+base_tbi_gama2)/2.0"
   ]
  },
  {
   "cell_type": "code",
   "execution_count": 265,
   "metadata": {},
   "outputs": [],
   "source": [
    "new_sham1= pd.DataFrame({\n",
    "    'mean_theta':10*np.log10(sham_mean_theta1/base_sham_theta),\n",
    "    'mean_alpha':10*np.log10(sham_mean_alpha1/base_sham_alpha),\n",
    "    'mean_sigma':10*np.log10(sham_mean_sigma1/base_sham_sigma),\n",
    "    'mean_beta':10*np.log10(sham_mean_beta1/base_sham_beta),\n",
    "    'mean_gama':10*np.log10(sham_mean_gama1/base_sham_gama),\n",
    "    #'low_high':sham_mean_theta1/sham_mean_alpha1,\n",
    "    'label':0\n",
    "})\n"
   ]
  },
  {
   "cell_type": "code",
   "execution_count": 266,
   "metadata": {},
   "outputs": [],
   "source": [
    "new_sham2= pd.DataFrame({\n",
    "    'mean_theta':10*np.log10(sham_mean_theta2/base_sham_theta),\n",
    "    'mean_alpha':10*np.log10(sham_mean_alpha2/base_sham_alpha),\n",
    "    'mean_sigma':10*np.log10(sham_mean_sigma2/base_sham_sigma),\n",
    "    'mean_beta':10*np.log10(sham_mean_beta2/base_sham_beta),\n",
    "    'mean_gama':10*np.log10(sham_mean_gama2/base_sham_gama),\n",
    "    #'low_high':sham_mean_theta2/sham_mean_alpha2,\n",
    "    'label':0\n",
    "})\n"
   ]
  },
  {
   "cell_type": "code",
   "execution_count": 267,
   "metadata": {},
   "outputs": [],
   "source": [
    "new_tbi1= pd.DataFrame({\n",
    "    'mean_theta':10*np.log10(tbi_mean_theta1/base_tbi_theta),\n",
    "    'mean_alpha':10*np.log10(tbi_mean_alpha1/base_tbi_alpha),\n",
    "    'mean_sigma':10*np.log10(tbi_mean_sigma1/base_tbi_sigma),\n",
    "    'mean_beta':10*np.log10(tbi_mean_beta1/base_tbi_beta),\n",
    "    'mean_gama':10*np.log10(tbi_mean_gama1/base_tbi_gama),\n",
    "    #'low_high':tbi_mean_theta1/tbi_mean_alpha1,\n",
    "    'label':1\n",
    "})\n"
   ]
  },
  {
   "cell_type": "code",
   "execution_count": 268,
   "metadata": {},
   "outputs": [],
   "source": [
    "new_tbi2= pd.DataFrame({\n",
    "    'mean_theta':10*np.log10(tbi_mean_theta2/base_tbi_theta),\n",
    "    'mean_alpha':10*np.log10(tbi_mean_alpha2/base_tbi_alpha),\n",
    "    'mean_sigma':10*np.log10(tbi_mean_sigma2/base_tbi_sigma),\n",
    "    'mean_beta':10*np.log10(tbi_mean_beta2/base_tbi_beta),\n",
    "    'mean_gama':10*np.log10(tbi_mean_gama2/base_tbi_gama),\n",
    "    #'low_high':tbi_mean_theta2/tbi_mean_alpha2,\n",
    "    'label':1\n",
    "})\n"
   ]
  },
  {
   "cell_type": "code",
   "execution_count": 269,
   "metadata": {},
   "outputs": [],
   "source": [
    "#......................................................................................................................."
   ]
  },
  {
   "cell_type": "code",
   "execution_count": 270,
   "metadata": {},
   "outputs": [],
   "source": [
    "big_df1=new_sham2.append(new_tbi1, ignore_index=True)\n",
    "big_df2=new_sham1.append(new_tbi2, ignore_index=True)\n",
    "\n",
    "big_df3=big_df1.append(big_df2, ignore_index=True)"
   ]
  },
  {
   "cell_type": "code",
   "execution_count": 271,
   "metadata": {
    "scrolled": true
   },
   "outputs": [
    {
     "data": {
      "text/html": [
       "<div>\n",
       "<style scoped>\n",
       "    .dataframe tbody tr th:only-of-type {\n",
       "        vertical-align: middle;\n",
       "    }\n",
       "\n",
       "    .dataframe tbody tr th {\n",
       "        vertical-align: top;\n",
       "    }\n",
       "\n",
       "    .dataframe thead th {\n",
       "        text-align: right;\n",
       "    }\n",
       "</style>\n",
       "<table border=\"1\" class=\"dataframe\">\n",
       "  <thead>\n",
       "    <tr style=\"text-align: right;\">\n",
       "      <th></th>\n",
       "      <th>mean_theta</th>\n",
       "      <th>mean_alpha</th>\n",
       "      <th>mean_sigma</th>\n",
       "      <th>mean_beta</th>\n",
       "      <th>mean_gama</th>\n",
       "      <th>label</th>\n",
       "    </tr>\n",
       "  </thead>\n",
       "  <tbody>\n",
       "    <tr>\n",
       "      <th>0</th>\n",
       "      <td>2.249081</td>\n",
       "      <td>1.795331</td>\n",
       "      <td>3.154765</td>\n",
       "      <td>1.563698</td>\n",
       "      <td>-1.296390</td>\n",
       "      <td>0</td>\n",
       "    </tr>\n",
       "    <tr>\n",
       "      <th>1</th>\n",
       "      <td>0.529354</td>\n",
       "      <td>-0.082340</td>\n",
       "      <td>1.165069</td>\n",
       "      <td>0.455122</td>\n",
       "      <td>-0.523414</td>\n",
       "      <td>0</td>\n",
       "    </tr>\n",
       "    <tr>\n",
       "      <th>2</th>\n",
       "      <td>0.448588</td>\n",
       "      <td>-1.001989</td>\n",
       "      <td>-0.810481</td>\n",
       "      <td>-0.063049</td>\n",
       "      <td>-0.283242</td>\n",
       "      <td>0</td>\n",
       "    </tr>\n",
       "    <tr>\n",
       "      <th>3</th>\n",
       "      <td>0.271857</td>\n",
       "      <td>-3.007459</td>\n",
       "      <td>-0.863640</td>\n",
       "      <td>0.106864</td>\n",
       "      <td>0.726119</td>\n",
       "      <td>0</td>\n",
       "    </tr>\n",
       "    <tr>\n",
       "      <th>4</th>\n",
       "      <td>0.681578</td>\n",
       "      <td>-3.183712</td>\n",
       "      <td>-1.060167</td>\n",
       "      <td>-0.341580</td>\n",
       "      <td>-0.862848</td>\n",
       "      <td>0</td>\n",
       "    </tr>\n",
       "    <tr>\n",
       "      <th>5</th>\n",
       "      <td>1.299401</td>\n",
       "      <td>-2.145363</td>\n",
       "      <td>-0.908401</td>\n",
       "      <td>-0.143052</td>\n",
       "      <td>-0.630990</td>\n",
       "      <td>0</td>\n",
       "    </tr>\n",
       "    <tr>\n",
       "      <th>6</th>\n",
       "      <td>0.929685</td>\n",
       "      <td>-1.503779</td>\n",
       "      <td>-0.292436</td>\n",
       "      <td>0.025214</td>\n",
       "      <td>-0.673037</td>\n",
       "      <td>0</td>\n",
       "    </tr>\n",
       "    <tr>\n",
       "      <th>7</th>\n",
       "      <td>1.101506</td>\n",
       "      <td>-0.817115</td>\n",
       "      <td>-0.302595</td>\n",
       "      <td>0.180078</td>\n",
       "      <td>0.078857</td>\n",
       "      <td>0</td>\n",
       "    </tr>\n",
       "    <tr>\n",
       "      <th>8</th>\n",
       "      <td>0.529049</td>\n",
       "      <td>-1.860647</td>\n",
       "      <td>-0.664194</td>\n",
       "      <td>-0.114490</td>\n",
       "      <td>-0.437528</td>\n",
       "      <td>0</td>\n",
       "    </tr>\n",
       "    <tr>\n",
       "      <th>9</th>\n",
       "      <td>0.164740</td>\n",
       "      <td>0.393608</td>\n",
       "      <td>-0.206184</td>\n",
       "      <td>-0.438792</td>\n",
       "      <td>0.061938</td>\n",
       "      <td>0</td>\n",
       "    </tr>\n",
       "    <tr>\n",
       "      <th>10</th>\n",
       "      <td>0.067156</td>\n",
       "      <td>-0.959312</td>\n",
       "      <td>-0.842009</td>\n",
       "      <td>-0.427946</td>\n",
       "      <td>0.245731</td>\n",
       "      <td>0</td>\n",
       "    </tr>\n",
       "    <tr>\n",
       "      <th>11</th>\n",
       "      <td>2.030582</td>\n",
       "      <td>1.726134</td>\n",
       "      <td>2.512464</td>\n",
       "      <td>1.070742</td>\n",
       "      <td>-1.022012</td>\n",
       "      <td>0</td>\n",
       "    </tr>\n",
       "    <tr>\n",
       "      <th>12</th>\n",
       "      <td>2.336782</td>\n",
       "      <td>2.978577</td>\n",
       "      <td>3.877408</td>\n",
       "      <td>1.172345</td>\n",
       "      <td>-1.923668</td>\n",
       "      <td>0</td>\n",
       "    </tr>\n",
       "    <tr>\n",
       "      <th>13</th>\n",
       "      <td>-0.282699</td>\n",
       "      <td>1.692464</td>\n",
       "      <td>0.342769</td>\n",
       "      <td>-0.182496</td>\n",
       "      <td>-0.809297</td>\n",
       "      <td>0</td>\n",
       "    </tr>\n",
       "    <tr>\n",
       "      <th>14</th>\n",
       "      <td>2.235677</td>\n",
       "      <td>2.016157</td>\n",
       "      <td>2.995886</td>\n",
       "      <td>1.516632</td>\n",
       "      <td>-1.118672</td>\n",
       "      <td>0</td>\n",
       "    </tr>\n",
       "    <tr>\n",
       "      <th>15</th>\n",
       "      <td>1.824432</td>\n",
       "      <td>1.163886</td>\n",
       "      <td>1.596232</td>\n",
       "      <td>0.274211</td>\n",
       "      <td>-1.772936</td>\n",
       "      <td>0</td>\n",
       "    </tr>\n",
       "    <tr>\n",
       "      <th>16</th>\n",
       "      <td>2.209193</td>\n",
       "      <td>1.977982</td>\n",
       "      <td>2.297067</td>\n",
       "      <td>0.964853</td>\n",
       "      <td>-1.749207</td>\n",
       "      <td>0</td>\n",
       "    </tr>\n",
       "    <tr>\n",
       "      <th>17</th>\n",
       "      <td>2.408487</td>\n",
       "      <td>2.487269</td>\n",
       "      <td>3.367013</td>\n",
       "      <td>1.465892</td>\n",
       "      <td>-1.525791</td>\n",
       "      <td>0</td>\n",
       "    </tr>\n",
       "    <tr>\n",
       "      <th>18</th>\n",
       "      <td>1.254775</td>\n",
       "      <td>1.799618</td>\n",
       "      <td>2.753404</td>\n",
       "      <td>1.313460</td>\n",
       "      <td>-0.733464</td>\n",
       "      <td>0</td>\n",
       "    </tr>\n",
       "    <tr>\n",
       "      <th>19</th>\n",
       "      <td>0.489427</td>\n",
       "      <td>-2.391227</td>\n",
       "      <td>-0.496876</td>\n",
       "      <td>0.089017</td>\n",
       "      <td>-0.071148</td>\n",
       "      <td>0</td>\n",
       "    </tr>\n",
       "    <tr>\n",
       "      <th>20</th>\n",
       "      <td>-0.001002</td>\n",
       "      <td>-1.889406</td>\n",
       "      <td>-1.047481</td>\n",
       "      <td>-0.164612</td>\n",
       "      <td>-1.431644</td>\n",
       "      <td>0</td>\n",
       "    </tr>\n",
       "    <tr>\n",
       "      <th>21</th>\n",
       "      <td>0.144248</td>\n",
       "      <td>-2.618044</td>\n",
       "      <td>-1.303590</td>\n",
       "      <td>-0.402087</td>\n",
       "      <td>-1.008871</td>\n",
       "      <td>0</td>\n",
       "    </tr>\n",
       "    <tr>\n",
       "      <th>22</th>\n",
       "      <td>0.201150</td>\n",
       "      <td>-1.001841</td>\n",
       "      <td>-1.169994</td>\n",
       "      <td>-0.256561</td>\n",
       "      <td>0.125806</td>\n",
       "      <td>0</td>\n",
       "    </tr>\n",
       "    <tr>\n",
       "      <th>23</th>\n",
       "      <td>1.382159</td>\n",
       "      <td>-2.381069</td>\n",
       "      <td>-0.305622</td>\n",
       "      <td>-0.157292</td>\n",
       "      <td>-0.205758</td>\n",
       "      <td>0</td>\n",
       "    </tr>\n",
       "    <tr>\n",
       "      <th>24</th>\n",
       "      <td>0.076994</td>\n",
       "      <td>-1.735550</td>\n",
       "      <td>-0.552491</td>\n",
       "      <td>-0.176947</td>\n",
       "      <td>0.248963</td>\n",
       "      <td>0</td>\n",
       "    </tr>\n",
       "    <tr>\n",
       "      <th>25</th>\n",
       "      <td>0.409612</td>\n",
       "      <td>-2.785013</td>\n",
       "      <td>-1.223977</td>\n",
       "      <td>0.113792</td>\n",
       "      <td>-0.510014</td>\n",
       "      <td>0</td>\n",
       "    </tr>\n",
       "    <tr>\n",
       "      <th>26</th>\n",
       "      <td>-0.327518</td>\n",
       "      <td>-2.553178</td>\n",
       "      <td>-0.443812</td>\n",
       "      <td>-0.112828</td>\n",
       "      <td>0.282961</td>\n",
       "      <td>0</td>\n",
       "    </tr>\n",
       "    <tr>\n",
       "      <th>27</th>\n",
       "      <td>-0.013963</td>\n",
       "      <td>-1.980948</td>\n",
       "      <td>-0.418793</td>\n",
       "      <td>-0.210425</td>\n",
       "      <td>-0.327314</td>\n",
       "      <td>0</td>\n",
       "    </tr>\n",
       "    <tr>\n",
       "      <th>28</th>\n",
       "      <td>0.584363</td>\n",
       "      <td>-2.284453</td>\n",
       "      <td>-0.415206</td>\n",
       "      <td>0.023274</td>\n",
       "      <td>-0.686558</td>\n",
       "      <td>0</td>\n",
       "    </tr>\n",
       "    <tr>\n",
       "      <th>29</th>\n",
       "      <td>0.464042</td>\n",
       "      <td>-1.982148</td>\n",
       "      <td>-1.126208</td>\n",
       "      <td>-0.205010</td>\n",
       "      <td>-1.044846</td>\n",
       "      <td>0</td>\n",
       "    </tr>\n",
       "    <tr>\n",
       "      <th>...</th>\n",
       "      <td>...</td>\n",
       "      <td>...</td>\n",
       "      <td>...</td>\n",
       "      <td>...</td>\n",
       "      <td>...</td>\n",
       "      <td>...</td>\n",
       "    </tr>\n",
       "    <tr>\n",
       "      <th>2008</th>\n",
       "      <td>2.877040</td>\n",
       "      <td>3.043487</td>\n",
       "      <td>-0.499650</td>\n",
       "      <td>0.166579</td>\n",
       "      <td>-0.492305</td>\n",
       "      <td>1</td>\n",
       "    </tr>\n",
       "    <tr>\n",
       "      <th>2009</th>\n",
       "      <td>4.383400</td>\n",
       "      <td>1.157863</td>\n",
       "      <td>0.190452</td>\n",
       "      <td>0.377256</td>\n",
       "      <td>-0.327701</td>\n",
       "      <td>1</td>\n",
       "    </tr>\n",
       "    <tr>\n",
       "      <th>2010</th>\n",
       "      <td>4.301095</td>\n",
       "      <td>1.225277</td>\n",
       "      <td>0.312109</td>\n",
       "      <td>0.804447</td>\n",
       "      <td>-0.635793</td>\n",
       "      <td>1</td>\n",
       "    </tr>\n",
       "    <tr>\n",
       "      <th>2011</th>\n",
       "      <td>3.225226</td>\n",
       "      <td>1.865896</td>\n",
       "      <td>-0.382592</td>\n",
       "      <td>0.115187</td>\n",
       "      <td>-0.274908</td>\n",
       "      <td>1</td>\n",
       "    </tr>\n",
       "    <tr>\n",
       "      <th>2012</th>\n",
       "      <td>3.410656</td>\n",
       "      <td>1.515842</td>\n",
       "      <td>-1.030791</td>\n",
       "      <td>-0.108673</td>\n",
       "      <td>-0.079182</td>\n",
       "      <td>1</td>\n",
       "    </tr>\n",
       "    <tr>\n",
       "      <th>2013</th>\n",
       "      <td>3.750826</td>\n",
       "      <td>1.684868</td>\n",
       "      <td>-0.682915</td>\n",
       "      <td>-0.154844</td>\n",
       "      <td>0.093696</td>\n",
       "      <td>1</td>\n",
       "    </tr>\n",
       "    <tr>\n",
       "      <th>2014</th>\n",
       "      <td>3.513279</td>\n",
       "      <td>0.164492</td>\n",
       "      <td>-0.987196</td>\n",
       "      <td>-0.324811</td>\n",
       "      <td>-1.290152</td>\n",
       "      <td>1</td>\n",
       "    </tr>\n",
       "    <tr>\n",
       "      <th>2015</th>\n",
       "      <td>3.614254</td>\n",
       "      <td>0.572346</td>\n",
       "      <td>-1.109051</td>\n",
       "      <td>-0.292751</td>\n",
       "      <td>-0.158021</td>\n",
       "      <td>1</td>\n",
       "    </tr>\n",
       "    <tr>\n",
       "      <th>2016</th>\n",
       "      <td>5.982451</td>\n",
       "      <td>1.711912</td>\n",
       "      <td>1.361766</td>\n",
       "      <td>1.315235</td>\n",
       "      <td>-0.573351</td>\n",
       "      <td>1</td>\n",
       "    </tr>\n",
       "    <tr>\n",
       "      <th>2017</th>\n",
       "      <td>3.233745</td>\n",
       "      <td>1.770291</td>\n",
       "      <td>-0.169509</td>\n",
       "      <td>0.200982</td>\n",
       "      <td>-0.662867</td>\n",
       "      <td>1</td>\n",
       "    </tr>\n",
       "    <tr>\n",
       "      <th>2018</th>\n",
       "      <td>3.052395</td>\n",
       "      <td>-0.415333</td>\n",
       "      <td>-1.176508</td>\n",
       "      <td>0.440666</td>\n",
       "      <td>-0.194195</td>\n",
       "      <td>1</td>\n",
       "    </tr>\n",
       "    <tr>\n",
       "      <th>2019</th>\n",
       "      <td>3.024430</td>\n",
       "      <td>-0.621616</td>\n",
       "      <td>-1.147005</td>\n",
       "      <td>-0.176491</td>\n",
       "      <td>-0.364114</td>\n",
       "      <td>1</td>\n",
       "    </tr>\n",
       "    <tr>\n",
       "      <th>2020</th>\n",
       "      <td>3.354622</td>\n",
       "      <td>2.006371</td>\n",
       "      <td>-0.581081</td>\n",
       "      <td>0.150331</td>\n",
       "      <td>-0.513570</td>\n",
       "      <td>1</td>\n",
       "    </tr>\n",
       "    <tr>\n",
       "      <th>2021</th>\n",
       "      <td>4.832298</td>\n",
       "      <td>1.289322</td>\n",
       "      <td>0.317634</td>\n",
       "      <td>1.100722</td>\n",
       "      <td>-0.354246</td>\n",
       "      <td>1</td>\n",
       "    </tr>\n",
       "    <tr>\n",
       "      <th>2022</th>\n",
       "      <td>1.960499</td>\n",
       "      <td>2.065543</td>\n",
       "      <td>-0.900193</td>\n",
       "      <td>0.091325</td>\n",
       "      <td>-0.535590</td>\n",
       "      <td>1</td>\n",
       "    </tr>\n",
       "    <tr>\n",
       "      <th>2023</th>\n",
       "      <td>3.142903</td>\n",
       "      <td>1.709156</td>\n",
       "      <td>0.085414</td>\n",
       "      <td>0.241426</td>\n",
       "      <td>0.060818</td>\n",
       "      <td>1</td>\n",
       "    </tr>\n",
       "    <tr>\n",
       "      <th>2024</th>\n",
       "      <td>2.525802</td>\n",
       "      <td>2.707281</td>\n",
       "      <td>-0.562173</td>\n",
       "      <td>0.618293</td>\n",
       "      <td>0.454558</td>\n",
       "      <td>1</td>\n",
       "    </tr>\n",
       "    <tr>\n",
       "      <th>2025</th>\n",
       "      <td>3.021813</td>\n",
       "      <td>1.499873</td>\n",
       "      <td>0.016859</td>\n",
       "      <td>0.673136</td>\n",
       "      <td>0.226979</td>\n",
       "      <td>1</td>\n",
       "    </tr>\n",
       "    <tr>\n",
       "      <th>2026</th>\n",
       "      <td>4.316407</td>\n",
       "      <td>2.173648</td>\n",
       "      <td>0.330634</td>\n",
       "      <td>0.655998</td>\n",
       "      <td>0.264044</td>\n",
       "      <td>1</td>\n",
       "    </tr>\n",
       "    <tr>\n",
       "      <th>2027</th>\n",
       "      <td>3.607468</td>\n",
       "      <td>1.553411</td>\n",
       "      <td>-1.117672</td>\n",
       "      <td>0.048006</td>\n",
       "      <td>-0.620743</td>\n",
       "      <td>1</td>\n",
       "    </tr>\n",
       "    <tr>\n",
       "      <th>2028</th>\n",
       "      <td>4.538099</td>\n",
       "      <td>2.081936</td>\n",
       "      <td>0.521531</td>\n",
       "      <td>1.392685</td>\n",
       "      <td>0.125372</td>\n",
       "      <td>1</td>\n",
       "    </tr>\n",
       "    <tr>\n",
       "      <th>2029</th>\n",
       "      <td>4.131961</td>\n",
       "      <td>2.319800</td>\n",
       "      <td>-0.137402</td>\n",
       "      <td>0.818348</td>\n",
       "      <td>-0.136840</td>\n",
       "      <td>1</td>\n",
       "    </tr>\n",
       "    <tr>\n",
       "      <th>2030</th>\n",
       "      <td>5.436602</td>\n",
       "      <td>2.490117</td>\n",
       "      <td>1.373820</td>\n",
       "      <td>1.909542</td>\n",
       "      <td>0.738140</td>\n",
       "      <td>1</td>\n",
       "    </tr>\n",
       "    <tr>\n",
       "      <th>2031</th>\n",
       "      <td>6.470543</td>\n",
       "      <td>2.593750</td>\n",
       "      <td>2.516582</td>\n",
       "      <td>2.046871</td>\n",
       "      <td>0.802744</td>\n",
       "      <td>1</td>\n",
       "    </tr>\n",
       "    <tr>\n",
       "      <th>2032</th>\n",
       "      <td>6.147971</td>\n",
       "      <td>2.377120</td>\n",
       "      <td>2.492497</td>\n",
       "      <td>1.686850</td>\n",
       "      <td>0.796833</td>\n",
       "      <td>1</td>\n",
       "    </tr>\n",
       "    <tr>\n",
       "      <th>2033</th>\n",
       "      <td>5.154129</td>\n",
       "      <td>2.646173</td>\n",
       "      <td>0.584264</td>\n",
       "      <td>1.156482</td>\n",
       "      <td>0.492227</td>\n",
       "      <td>1</td>\n",
       "    </tr>\n",
       "    <tr>\n",
       "      <th>2034</th>\n",
       "      <td>4.335424</td>\n",
       "      <td>3.275506</td>\n",
       "      <td>0.389654</td>\n",
       "      <td>0.996365</td>\n",
       "      <td>0.427549</td>\n",
       "      <td>1</td>\n",
       "    </tr>\n",
       "    <tr>\n",
       "      <th>2035</th>\n",
       "      <td>4.377244</td>\n",
       "      <td>2.964506</td>\n",
       "      <td>0.850571</td>\n",
       "      <td>1.466721</td>\n",
       "      <td>0.492513</td>\n",
       "      <td>1</td>\n",
       "    </tr>\n",
       "    <tr>\n",
       "      <th>2036</th>\n",
       "      <td>4.038311</td>\n",
       "      <td>1.985047</td>\n",
       "      <td>0.057374</td>\n",
       "      <td>0.498874</td>\n",
       "      <td>-0.340734</td>\n",
       "      <td>1</td>\n",
       "    </tr>\n",
       "    <tr>\n",
       "      <th>2037</th>\n",
       "      <td>4.502762</td>\n",
       "      <td>2.237445</td>\n",
       "      <td>0.315686</td>\n",
       "      <td>1.057411</td>\n",
       "      <td>0.792070</td>\n",
       "      <td>1</td>\n",
       "    </tr>\n",
       "  </tbody>\n",
       "</table>\n",
       "<p>2038 rows × 6 columns</p>\n",
       "</div>"
      ],
      "text/plain": [
       "      mean_theta  mean_alpha  mean_sigma  mean_beta  mean_gama  label\n",
       "0       2.249081    1.795331    3.154765   1.563698  -1.296390      0\n",
       "1       0.529354   -0.082340    1.165069   0.455122  -0.523414      0\n",
       "2       0.448588   -1.001989   -0.810481  -0.063049  -0.283242      0\n",
       "3       0.271857   -3.007459   -0.863640   0.106864   0.726119      0\n",
       "4       0.681578   -3.183712   -1.060167  -0.341580  -0.862848      0\n",
       "5       1.299401   -2.145363   -0.908401  -0.143052  -0.630990      0\n",
       "6       0.929685   -1.503779   -0.292436   0.025214  -0.673037      0\n",
       "7       1.101506   -0.817115   -0.302595   0.180078   0.078857      0\n",
       "8       0.529049   -1.860647   -0.664194  -0.114490  -0.437528      0\n",
       "9       0.164740    0.393608   -0.206184  -0.438792   0.061938      0\n",
       "10      0.067156   -0.959312   -0.842009  -0.427946   0.245731      0\n",
       "11      2.030582    1.726134    2.512464   1.070742  -1.022012      0\n",
       "12      2.336782    2.978577    3.877408   1.172345  -1.923668      0\n",
       "13     -0.282699    1.692464    0.342769  -0.182496  -0.809297      0\n",
       "14      2.235677    2.016157    2.995886   1.516632  -1.118672      0\n",
       "15      1.824432    1.163886    1.596232   0.274211  -1.772936      0\n",
       "16      2.209193    1.977982    2.297067   0.964853  -1.749207      0\n",
       "17      2.408487    2.487269    3.367013   1.465892  -1.525791      0\n",
       "18      1.254775    1.799618    2.753404   1.313460  -0.733464      0\n",
       "19      0.489427   -2.391227   -0.496876   0.089017  -0.071148      0\n",
       "20     -0.001002   -1.889406   -1.047481  -0.164612  -1.431644      0\n",
       "21      0.144248   -2.618044   -1.303590  -0.402087  -1.008871      0\n",
       "22      0.201150   -1.001841   -1.169994  -0.256561   0.125806      0\n",
       "23      1.382159   -2.381069   -0.305622  -0.157292  -0.205758      0\n",
       "24      0.076994   -1.735550   -0.552491  -0.176947   0.248963      0\n",
       "25      0.409612   -2.785013   -1.223977   0.113792  -0.510014      0\n",
       "26     -0.327518   -2.553178   -0.443812  -0.112828   0.282961      0\n",
       "27     -0.013963   -1.980948   -0.418793  -0.210425  -0.327314      0\n",
       "28      0.584363   -2.284453   -0.415206   0.023274  -0.686558      0\n",
       "29      0.464042   -1.982148   -1.126208  -0.205010  -1.044846      0\n",
       "...          ...         ...         ...        ...        ...    ...\n",
       "2008    2.877040    3.043487   -0.499650   0.166579  -0.492305      1\n",
       "2009    4.383400    1.157863    0.190452   0.377256  -0.327701      1\n",
       "2010    4.301095    1.225277    0.312109   0.804447  -0.635793      1\n",
       "2011    3.225226    1.865896   -0.382592   0.115187  -0.274908      1\n",
       "2012    3.410656    1.515842   -1.030791  -0.108673  -0.079182      1\n",
       "2013    3.750826    1.684868   -0.682915  -0.154844   0.093696      1\n",
       "2014    3.513279    0.164492   -0.987196  -0.324811  -1.290152      1\n",
       "2015    3.614254    0.572346   -1.109051  -0.292751  -0.158021      1\n",
       "2016    5.982451    1.711912    1.361766   1.315235  -0.573351      1\n",
       "2017    3.233745    1.770291   -0.169509   0.200982  -0.662867      1\n",
       "2018    3.052395   -0.415333   -1.176508   0.440666  -0.194195      1\n",
       "2019    3.024430   -0.621616   -1.147005  -0.176491  -0.364114      1\n",
       "2020    3.354622    2.006371   -0.581081   0.150331  -0.513570      1\n",
       "2021    4.832298    1.289322    0.317634   1.100722  -0.354246      1\n",
       "2022    1.960499    2.065543   -0.900193   0.091325  -0.535590      1\n",
       "2023    3.142903    1.709156    0.085414   0.241426   0.060818      1\n",
       "2024    2.525802    2.707281   -0.562173   0.618293   0.454558      1\n",
       "2025    3.021813    1.499873    0.016859   0.673136   0.226979      1\n",
       "2026    4.316407    2.173648    0.330634   0.655998   0.264044      1\n",
       "2027    3.607468    1.553411   -1.117672   0.048006  -0.620743      1\n",
       "2028    4.538099    2.081936    0.521531   1.392685   0.125372      1\n",
       "2029    4.131961    2.319800   -0.137402   0.818348  -0.136840      1\n",
       "2030    5.436602    2.490117    1.373820   1.909542   0.738140      1\n",
       "2031    6.470543    2.593750    2.516582   2.046871   0.802744      1\n",
       "2032    6.147971    2.377120    2.492497   1.686850   0.796833      1\n",
       "2033    5.154129    2.646173    0.584264   1.156482   0.492227      1\n",
       "2034    4.335424    3.275506    0.389654   0.996365   0.427549      1\n",
       "2035    4.377244    2.964506    0.850571   1.466721   0.492513      1\n",
       "2036    4.038311    1.985047    0.057374   0.498874  -0.340734      1\n",
       "2037    4.502762    2.237445    0.315686   1.057411   0.792070      1\n",
       "\n",
       "[2038 rows x 6 columns]"
      ]
     },
     "execution_count": 271,
     "metadata": {},
     "output_type": "execute_result"
    }
   ],
   "source": [
    "big_df3"
   ]
  },
  {
   "cell_type": "code",
   "execution_count": 272,
   "metadata": {},
   "outputs": [],
   "source": [
    "from sklearn.utils import shuffle\n",
    "big_df3 = shuffle(big_df3)"
   ]
  },
  {
   "cell_type": "markdown",
   "metadata": {},
   "source": [
    "Mean removal and feature normalization"
   ]
  },
  {
   "cell_type": "code",
   "execution_count": 273,
   "metadata": {},
   "outputs": [],
   "source": [
    "col_mean=[0]*(len(big_df3.iloc[0])-1)\n",
    "col_std=[0]*(len(big_df3.iloc[0])-1)\n",
    "for i in range(len(big_df3.iloc[0])-1):\n",
    "    col_mean[i]=np.mean(big_df3.iloc[:,i])\n",
    "    big_df3.iloc[:,i]=big_df3.iloc[:,i]-col_mean[i]\n",
    "    col_std[i]=np.std(big_df3.iloc[:,i])\n",
    "    big_df3.iloc[:,i]=big_df3.iloc[:,i]/col_std[i]"
   ]
  },
  {
   "cell_type": "code",
   "execution_count": 275,
   "metadata": {},
   "outputs": [
    {
     "data": {
      "text/html": [
       "<div>\n",
       "<style scoped>\n",
       "    .dataframe tbody tr th:only-of-type {\n",
       "        vertical-align: middle;\n",
       "    }\n",
       "\n",
       "    .dataframe tbody tr th {\n",
       "        vertical-align: top;\n",
       "    }\n",
       "\n",
       "    .dataframe thead th {\n",
       "        text-align: right;\n",
       "    }\n",
       "</style>\n",
       "<table border=\"1\" class=\"dataframe\">\n",
       "  <thead>\n",
       "    <tr style=\"text-align: right;\">\n",
       "      <th></th>\n",
       "      <th>mean_theta</th>\n",
       "      <th>mean_alpha</th>\n",
       "      <th>mean_sigma</th>\n",
       "      <th>mean_beta</th>\n",
       "      <th>mean_gama</th>\n",
       "      <th>label</th>\n",
       "    </tr>\n",
       "  </thead>\n",
       "  <tbody>\n",
       "    <tr>\n",
       "      <th>395</th>\n",
       "      <td>0.479311</td>\n",
       "      <td>0.842004</td>\n",
       "      <td>2.413863</td>\n",
       "      <td>0.372349</td>\n",
       "      <td>-1.672346</td>\n",
       "      <td>0</td>\n",
       "    </tr>\n",
       "    <tr>\n",
       "      <th>849</th>\n",
       "      <td>-0.554723</td>\n",
       "      <td>0.199975</td>\n",
       "      <td>-0.061114</td>\n",
       "      <td>-0.590699</td>\n",
       "      <td>0.442338</td>\n",
       "      <td>0</td>\n",
       "    </tr>\n",
       "    <tr>\n",
       "      <th>1378</th>\n",
       "      <td>-0.546662</td>\n",
       "      <td>-0.695153</td>\n",
       "      <td>-0.046225</td>\n",
       "      <td>-0.807504</td>\n",
       "      <td>0.800361</td>\n",
       "      <td>0</td>\n",
       "    </tr>\n",
       "    <tr>\n",
       "      <th>1356</th>\n",
       "      <td>-0.905798</td>\n",
       "      <td>0.503755</td>\n",
       "      <td>-0.225176</td>\n",
       "      <td>-0.298019</td>\n",
       "      <td>-0.256472</td>\n",
       "      <td>0</td>\n",
       "    </tr>\n",
       "    <tr>\n",
       "      <th>1425</th>\n",
       "      <td>0.570613</td>\n",
       "      <td>1.283072</td>\n",
       "      <td>4.100124</td>\n",
       "      <td>2.314569</td>\n",
       "      <td>-1.503626</td>\n",
       "      <td>0</td>\n",
       "    </tr>\n",
       "  </tbody>\n",
       "</table>\n",
       "</div>"
      ],
      "text/plain": [
       "      mean_theta  mean_alpha  mean_sigma  mean_beta  mean_gama  label\n",
       "395     0.479311    0.842004    2.413863   0.372349  -1.672346      0\n",
       "849    -0.554723    0.199975   -0.061114  -0.590699   0.442338      0\n",
       "1378   -0.546662   -0.695153   -0.046225  -0.807504   0.800361      0\n",
       "1356   -0.905798    0.503755   -0.225176  -0.298019  -0.256472      0\n",
       "1425    0.570613    1.283072    4.100124   2.314569  -1.503626      0"
      ]
     },
     "execution_count": 275,
     "metadata": {},
     "output_type": "execute_result"
    }
   ],
   "source": [
    "big_df3.head()"
   ]
  },
  {
   "cell_type": "code",
   "execution_count": 276,
   "metadata": {},
   "outputs": [],
   "source": [
    "from sklearn.model_selection import train_test_split\n",
    "\n",
    "X=big_df3.drop('label',axis=1)\n",
    "y=big_df3['label']\n",
    "X_train, X_test, y_train, y_test = train_test_split(X, y, test_size=0.3, random_state=101)\n",
    "\n",
    "#from sklearn.preprocessing import StandardScaler\n",
    "#scaler = StandardScaler()\n",
    "# Fit only to the training data\n",
    "#scaler.fit(X_train)\n",
    "# Now apply the transformations to the data:\n",
    "#X_train = scaler.transform(X_train)\n",
    "#X_test = scaler.transform(X_test)"
   ]
  },
  {
   "cell_type": "code",
   "execution_count": 277,
   "metadata": {},
   "outputs": [
    {
     "name": "stdout",
     "output_type": "stream",
     "text": [
      "accuracy=\n"
     ]
    },
    {
     "data": {
      "text/plain": [
       "0.988562091503268"
      ]
     },
     "execution_count": 277,
     "metadata": {},
     "output_type": "execute_result"
    }
   ],
   "source": [
    "from sklearn.tree import DecisionTreeClassifier\n",
    "dtree = DecisionTreeClassifier()\n",
    "dtree.fit(X_train,y_train)\n",
    "predictions=dtree.predict(X_test)\n",
    "\n",
    "from sklearn.metrics import accuracy_score\n",
    "print('accuracy=') \n",
    "accuracy_score(y_test, predictions, normalize=True, sample_weight=None)"
   ]
  },
  {
   "cell_type": "code",
   "execution_count": 278,
   "metadata": {},
   "outputs": [
    {
     "name": "stdout",
     "output_type": "stream",
     "text": [
      "Classification report for decision tree\n",
      "              precision    recall  f1-score   support\n",
      "\n",
      "           0       1.00      0.99      0.99       408\n",
      "           1       0.98      0.99      0.98       204\n",
      "\n",
      "   micro avg       0.99      0.99      0.99       612\n",
      "   macro avg       0.99      0.99      0.99       612\n",
      "weighted avg       0.99      0.99      0.99       612\n",
      "\n"
     ]
    }
   ],
   "source": [
    "print('Classification report for decision tree')\n",
    "from sklearn.metrics import classification_report,confusion_matrix\n",
    "print(classification_report(y_test,predictions))"
   ]
  },
  {
   "cell_type": "code",
   "execution_count": 279,
   "metadata": {},
   "outputs": [
    {
     "name": "stdout",
     "output_type": "stream",
     "text": [
      "Classification report for kNN\n",
      "              precision    recall  f1-score   support\n",
      "\n",
      "           0       1.00      1.00      1.00       408\n",
      "           1       0.99      1.00      0.99       204\n",
      "\n",
      "   micro avg       1.00      1.00      1.00       612\n",
      "   macro avg       0.99      1.00      0.99       612\n",
      "weighted avg       1.00      1.00      1.00       612\n",
      "\n"
     ]
    }
   ],
   "source": [
    "from sklearn.neighbors import KNeighborsClassifier\n",
    "\n",
    "classifier = KNeighborsClassifier(n_neighbors=3)  \n",
    "classifier.fit(X_train, y_train) \n",
    "y_pred = classifier.predict(X_test) \n",
    "print('Classification report for kNN')\n",
    "print(classification_report(y_test, y_pred))  "
   ]
  },
  {
   "cell_type": "code",
   "execution_count": 280,
   "metadata": {},
   "outputs": [
    {
     "data": {
      "text/plain": [
       "0.9950980392156863"
      ]
     },
     "execution_count": 280,
     "metadata": {},
     "output_type": "execute_result"
    }
   ],
   "source": [
    "from sklearn.metrics import accuracy_score\n",
    "accuracy_score(y_test, y_pred, normalize=True, sample_weight=None)"
   ]
  },
  {
   "cell_type": "code",
   "execution_count": 281,
   "metadata": {},
   "outputs": [
    {
     "data": {
      "text/plain": [
       "Text(0, 0.5, 'Mean Error')"
      ]
     },
     "execution_count": 281,
     "metadata": {},
     "output_type": "execute_result"
    },
    {
     "data": {
      "image/png": "[encoded data removed]",
      "text/plain": [
       "<Figure size 864x432 with 1 Axes>"
      ]
     },
     "metadata": {
      "needs_background": "light"
     },
     "output_type": "display_data"
    }
   ],
   "source": [
    "error = []\n",
    "\n",
    "# Calculating error for K values between 1 and 40\n",
    "for i in range(1, 10, 1):  \n",
    "    knn = KNeighborsClassifier(n_neighbors=i)\n",
    "    knn.fit(X_train, y_train)\n",
    "    pred_i = knn.predict(X_test)\n",
    "    error.append(np.mean(pred_i != y_test))\n",
    "\n",
    "plt.figure(figsize=(12, 6))  \n",
    "plt.plot(range(1, 10, 1), error, color='red', linestyle='dashed', marker='o', markerfacecolor='blue', markersize=10)\n",
    "plt.title('Error Rate V/S K Value')  \n",
    "plt.xlabel('K Value')  \n",
    "plt.ylabel('Mean Error')"
   ]
  },
  {
   "cell_type": "code",
   "execution_count": 282,
   "metadata": {},
   "outputs": [
    {
     "name": "stdout",
     "output_type": "stream",
     "text": [
      "Classification report for Neural_network\n",
      "              precision    recall  f1-score   support\n",
      "\n",
      "           0       1.00      1.00      1.00       408\n",
      "           1       0.99      0.99      0.99       204\n",
      "\n",
      "   micro avg       0.99      0.99      0.99       612\n",
      "   macro avg       0.99      0.99      0.99       612\n",
      "weighted avg       0.99      0.99      0.99       612\n",
      "\n"
     ]
    }
   ],
   "source": [
    "from sklearn.neural_network import MLPClassifier\n",
    "mlp = MLPClassifier(hidden_layer_sizes=(100,100),max_iter=10000)\n",
    "mlp.fit(X_train,y_train)\n",
    "predictions = mlp.predict(X_test)\n",
    "print('Classification report for Neural_network')\n",
    "print(classification_report(y_test,predictions))"
   ]
  },
  {
   "cell_type": "code",
   "execution_count": 283,
   "metadata": {},
   "outputs": [
    {
     "data": {
      "text/plain": [
       "0.9934640522875817"
      ]
     },
     "execution_count": 283,
     "metadata": {},
     "output_type": "execute_result"
    }
   ],
   "source": [
    "from sklearn.metrics import accuracy_score\n",
    "accuracy_score(y_test, predictions, normalize=True, sample_weight=None)"
   ]
  },
  {
   "cell_type": "code",
   "execution_count": 284,
   "metadata": {},
   "outputs": [
    {
     "name": "stdout",
     "output_type": "stream",
     "text": [
      "Classification report for Random forest\n",
      "              precision    recall  f1-score   support\n",
      "\n",
      "           0       1.00      1.00      1.00       408\n",
      "           1       0.99      0.99      0.99       204\n",
      "\n",
      "   micro avg       0.99      0.99      0.99       612\n",
      "   macro avg       0.99      0.99      0.99       612\n",
      "weighted avg       0.99      0.99      0.99       612\n",
      "\n"
     ]
    },
    {
     "name": "stderr",
     "output_type": "stream",
     "text": [
      "D:\\Anaconda3\\lib\\site-packages\\sklearn\\ensemble\\forest.py:246: FutureWarning: The default value of n_estimators will change from 10 in version 0.20 to 100 in 0.22.\n",
      "  \"10 in version 0.20 to 100 in 0.22.\", FutureWarning)\n"
     ]
    }
   ],
   "source": [
    "# Import the model we are using\n",
    "from sklearn.ensemble import RandomForestClassifier\n",
    "\n",
    "clf = RandomForestClassifier()\n",
    "clf.fit(X_train, y_train)\n",
    "\n",
    "predictions = clf.predict(X_test)\n",
    "print('Classification report for Random forest')\n",
    "print(classification_report(y_test,predictions))"
   ]
  },
  {
   "cell_type": "code",
   "execution_count": 285,
   "metadata": {},
   "outputs": [
    {
     "data": {
      "text/plain": [
       "0.9934640522875817"
      ]
     },
     "execution_count": 285,
     "metadata": {},
     "output_type": "execute_result"
    }
   ],
   "source": [
    "from sklearn.metrics import accuracy_score\n",
    "accuracy_score(y_test, predictions, normalize=True, sample_weight=None)"
   ]
  },
  {
   "cell_type": "code",
   "execution_count": 286,
   "metadata": {},
   "outputs": [
    {
     "name": "stdout",
     "output_type": "stream",
     "text": [
      "Classification report for SVM\n",
      "              precision    recall  f1-score   support\n",
      "\n",
      "           0       1.00      1.00      1.00       408\n",
      "           1       0.99      0.99      0.99       204\n",
      "\n",
      "   micro avg       0.99      0.99      0.99       612\n",
      "   macro avg       0.99      0.99      0.99       612\n",
      "weighted avg       0.99      0.99      0.99       612\n",
      "\n"
     ]
    },
    {
     "name": "stderr",
     "output_type": "stream",
     "text": [
      "D:\\Anaconda3\\lib\\site-packages\\sklearn\\svm\\base.py:196: FutureWarning: The default value of gamma will change from 'auto' to 'scale' in version 0.22 to account better for unscaled features. Set gamma explicitly to 'auto' or 'scale' to avoid this warning.\n",
      "  \"avoid this warning.\", FutureWarning)\n"
     ]
    }
   ],
   "source": [
    "from sklearn.svm import SVC \n",
    "\n",
    "svclassifier = SVC(kernel='rbf')  \n",
    "svclassifier.fit(X_train, y_train) \n",
    "\n",
    "predictions = svclassifier.predict(X_test) \n",
    "print('Classification report for SVM')\n",
    "print(classification_report(y_test,predictions))"
   ]
  },
  {
   "cell_type": "code",
   "execution_count": 287,
   "metadata": {},
   "outputs": [
    {
     "data": {
      "text/plain": [
       "0.9934640522875817"
      ]
     },
     "execution_count": 287,
     "metadata": {},
     "output_type": "execute_result"
    }
   ],
   "source": [
    "from sklearn.metrics import accuracy_score\n",
    "accuracy_score(y_test, predictions, normalize=True, sample_weight=None)"
   ]
  },
  {
   "cell_type": "code",
   "execution_count": 288,
   "metadata": {},
   "outputs": [
    {
     "data": {
      "image/png": "[encoded data removed]",
      "text/plain": [
       "<Figure size 576x576 with 1 Axes>"
      ]
     },
     "metadata": {
      "needs_background": "light"
     },
     "output_type": "display_data"
    }
   ],
   "source": [
    "from mpl_toolkits.mplot3d import Axes3D\n",
    "c=0\n",
    "fig2 = plt.figure(figsize=(8,8))\n",
    "ax = fig2.add_subplot(111, projection='3d')\n",
    "for x in range(len(big_df3)):\n",
    "    if big_df3.iloc[x,5]==0:\n",
    "        l1=ax.scatter(big_df3.iloc[x,0],big_df3.iloc[x,1],big_df3.iloc[x,2], color='r',label='Control')\n",
    "    else :\n",
    "        l2=ax.scatter(big_df3.iloc[x,0],big_df3.iloc[x,1],big_df3.iloc[x,2],color='b',label='TBI')\n",
    "plt.xlabel('Gama')\n",
    "plt.ylabel('Alpha')\n",
    "ax.set_zlabel('Beta')\n",
    "plt.legend((l1,l2),('Control','TBI'),loc='upper right')\n",
    "plt.show()"
   ]
  },
  {
   "cell_type": "code",
   "execution_count": null,
   "metadata": {},
   "outputs": [],
   "source": []
  },
  {
   "cell_type": "code",
   "execution_count": null,
   "metadata": {},
   "outputs": [],
   "source": []
  },
  {
   "cell_type": "code",
   "execution_count": 8,
   "metadata": {},
   "outputs": [],
   "source": [
    "sham3=pd.read_csv('Sham104_BL5.csv', header=None, index_col=None)#load data\n",
    "tbi3=pd.read_csv('TBI102_BL5.csv', header=None, index_col=None)#load data\n",
    "\n",
    "sham3.columns=['Timestamp_Index','Wake','NREM','REM','EEG','EMG','Mouse_Label']\n",
    "tbi3.columns=['Timestamp_Index','Wake','NREM','REM','EEG','EMG','Mouse_Label']"
   ]
  },
  {
   "cell_type": "code",
   "execution_count": 9,
   "metadata": {},
   "outputs": [
    {
     "data": {
      "text/html": [
       "<div>\n",
       "<style scoped>\n",
       "    .dataframe tbody tr th:only-of-type {\n",
       "        vertical-align: middle;\n",
       "    }\n",
       "\n",
       "    .dataframe tbody tr th {\n",
       "        vertical-align: top;\n",
       "    }\n",
       "\n",
       "    .dataframe thead th {\n",
       "        text-align: right;\n",
       "    }\n",
       "</style>\n",
       "<table border=\"1\" class=\"dataframe\">\n",
       "  <thead>\n",
       "    <tr style=\"text-align: right;\">\n",
       "      <th></th>\n",
       "      <th>Timestamp_Index</th>\n",
       "      <th>Wake</th>\n",
       "      <th>NREM</th>\n",
       "      <th>REM</th>\n",
       "      <th>EEG</th>\n",
       "      <th>EMG</th>\n",
       "      <th>Mouse_Label</th>\n",
       "    </tr>\n",
       "  </thead>\n",
       "  <tbody>\n",
       "    <tr>\n",
       "      <th>0</th>\n",
       "      <td>1.0</td>\n",
       "      <td>1</td>\n",
       "      <td>0</td>\n",
       "      <td>0</td>\n",
       "      <td>16.584</td>\n",
       "      <td>22.1190</td>\n",
       "      <td>0</td>\n",
       "    </tr>\n",
       "    <tr>\n",
       "      <th>1</th>\n",
       "      <td>2.0</td>\n",
       "      <td>1</td>\n",
       "      <td>0</td>\n",
       "      <td>0</td>\n",
       "      <td>-4.523</td>\n",
       "      <td>6.7722</td>\n",
       "      <td>0</td>\n",
       "    </tr>\n",
       "    <tr>\n",
       "      <th>2</th>\n",
       "      <td>3.0</td>\n",
       "      <td>1</td>\n",
       "      <td>0</td>\n",
       "      <td>0</td>\n",
       "      <td>-27.823</td>\n",
       "      <td>-34.7540</td>\n",
       "      <td>0</td>\n",
       "    </tr>\n",
       "    <tr>\n",
       "      <th>3</th>\n",
       "      <td>4.0</td>\n",
       "      <td>1</td>\n",
       "      <td>0</td>\n",
       "      <td>0</td>\n",
       "      <td>-50.163</td>\n",
       "      <td>8.5776</td>\n",
       "      <td>0</td>\n",
       "    </tr>\n",
       "    <tr>\n",
       "      <th>4</th>\n",
       "      <td>5.0</td>\n",
       "      <td>1</td>\n",
       "      <td>0</td>\n",
       "      <td>0</td>\n",
       "      <td>-64.828</td>\n",
       "      <td>-80.7940</td>\n",
       "      <td>0</td>\n",
       "    </tr>\n",
       "  </tbody>\n",
       "</table>\n",
       "</div>"
      ],
      "text/plain": [
       "   Timestamp_Index  Wake  NREM  REM     EEG      EMG  Mouse_Label\n",
       "0              1.0     1     0    0  16.584  22.1190            0\n",
       "1              2.0     1     0    0  -4.523   6.7722            0\n",
       "2              3.0     1     0    0 -27.823 -34.7540            0\n",
       "3              4.0     1     0    0 -50.163   8.5776            0\n",
       "4              5.0     1     0    0 -64.828 -80.7940            0"
      ]
     },
     "execution_count": 9,
     "metadata": {},
     "output_type": "execute_result"
    }
   ],
   "source": [
    "sham3.head()"
   ]
  },
  {
   "cell_type": "code",
   "execution_count": 10,
   "metadata": {},
   "outputs": [
    {
     "data": {
      "text/html": [
       "<div>\n",
       "<style scoped>\n",
       "    .dataframe tbody tr th:only-of-type {\n",
       "        vertical-align: middle;\n",
       "    }\n",
       "\n",
       "    .dataframe tbody tr th {\n",
       "        vertical-align: top;\n",
       "    }\n",
       "\n",
       "    .dataframe thead th {\n",
       "        text-align: right;\n",
       "    }\n",
       "</style>\n",
       "<table border=\"1\" class=\"dataframe\">\n",
       "  <thead>\n",
       "    <tr style=\"text-align: right;\">\n",
       "      <th></th>\n",
       "      <th>Timestamp_Index</th>\n",
       "      <th>Wake</th>\n",
       "      <th>NREM</th>\n",
       "      <th>REM</th>\n",
       "      <th>EEG</th>\n",
       "      <th>EMG</th>\n",
       "      <th>Mouse_Label</th>\n",
       "    </tr>\n",
       "  </thead>\n",
       "  <tbody>\n",
       "    <tr>\n",
       "      <th>0</th>\n",
       "      <td>1.0</td>\n",
       "      <td>1</td>\n",
       "      <td>0</td>\n",
       "      <td>0</td>\n",
       "      <td>-55.381</td>\n",
       "      <td>-0.89944</td>\n",
       "      <td>1</td>\n",
       "    </tr>\n",
       "    <tr>\n",
       "      <th>1</th>\n",
       "      <td>2.0</td>\n",
       "      <td>1</td>\n",
       "      <td>0</td>\n",
       "      <td>0</td>\n",
       "      <td>-63.361</td>\n",
       "      <td>9.95310</td>\n",
       "      <td>1</td>\n",
       "    </tr>\n",
       "    <tr>\n",
       "      <th>2</th>\n",
       "      <td>3.0</td>\n",
       "      <td>1</td>\n",
       "      <td>0</td>\n",
       "      <td>0</td>\n",
       "      <td>-64.578</td>\n",
       "      <td>-6.32570</td>\n",
       "      <td>1</td>\n",
       "    </tr>\n",
       "    <tr>\n",
       "      <th>3</th>\n",
       "      <td>4.0</td>\n",
       "      <td>1</td>\n",
       "      <td>0</td>\n",
       "      <td>0</td>\n",
       "      <td>-60.115</td>\n",
       "      <td>9.04870</td>\n",
       "      <td>1</td>\n",
       "    </tr>\n",
       "    <tr>\n",
       "      <th>4</th>\n",
       "      <td>5.0</td>\n",
       "      <td>1</td>\n",
       "      <td>0</td>\n",
       "      <td>0</td>\n",
       "      <td>-49.836</td>\n",
       "      <td>3.62240</td>\n",
       "      <td>1</td>\n",
       "    </tr>\n",
       "  </tbody>\n",
       "</table>\n",
       "</div>"
      ],
      "text/plain": [
       "   Timestamp_Index  Wake  NREM  REM     EEG      EMG  Mouse_Label\n",
       "0              1.0     1     0    0 -55.381 -0.89944            1\n",
       "1              2.0     1     0    0 -63.361  9.95310            1\n",
       "2              3.0     1     0    0 -64.578 -6.32570            1\n",
       "3              4.0     1     0    0 -60.115  9.04870            1\n",
       "4              5.0     1     0    0 -49.836  3.62240            1"
      ]
     },
     "execution_count": 10,
     "metadata": {},
     "output_type": "execute_result"
    }
   ],
   "source": [
    "tbi3.head()"
   ]
  },
  {
   "cell_type": "code",
   "execution_count": 11,
   "metadata": {},
   "outputs": [],
   "source": [
    "#extract 1min wake data from Control mouse\n",
    "start5=[]\n",
    "stop5=[]\n",
    "check5=[]\n",
    "sham_extract3=list()\n",
    "j5=0\n",
    "l5=0\n",
    "for i in range((24*60*60*256)-60):\n",
    "    if i == 0:\n",
    "        if sham3.iloc[:,1][i]==1:\n",
    "            if sum(sham3.iloc[:,1][i:i+(60*256)])==256*60:\n",
    "                chunk5=sham3.iloc[:,4][i:i+(60*256)]\n",
    "                sham_extract3.append(chunk5)\n",
    "\n",
    "                j5=i\n",
    "                start5.append(j5)\n",
    "                k5=i+(60*256)-1\n",
    "                stop5.append(k5)\n",
    "                l5=l5+1\n",
    "    else:\n",
    "        if i > stop5[l5-1]:\n",
    "            if sham3.iloc[:,1][i]==1:\n",
    "                if sum(sham3.iloc[:,1][i:i+(60*256)])==256*60:\n",
    "                    chunk5=sham3.iloc[:,4][i:i+(60*256)]\n",
    "                    sham_extract3.append(chunk5)\n",
    "\n",
    "                    j5=i\n",
    "                    start5.append(j5)\n",
    "                    k5=i+(60*256)-1\n",
    "                    stop5.append(k5)\n",
    "                    l5=l5+1\n",
    "                    "
   ]
  },
  {
   "cell_type": "code",
   "execution_count": 12,
   "metadata": {},
   "outputs": [
    {
     "data": {
      "text/plain": [
       "922"
      ]
     },
     "execution_count": 12,
     "metadata": {},
     "output_type": "execute_result"
    }
   ],
   "source": [
    "len(sham_extract3)"
   ]
  },
  {
   "cell_type": "code",
   "execution_count": 13,
   "metadata": {},
   "outputs": [],
   "source": [
    "#extract 1min wake data from TBI mouse\n",
    "start6=[]\n",
    "stop6=[]\n",
    "check6=[]\n",
    "tbi_extract3=list()\n",
    "j6=0\n",
    "l6=0\n",
    "for i in range((24*60*60*256)-60):\n",
    "    if i == 0:\n",
    "        if tbi3.iloc[:,1][i]==1:\n",
    "            if sum(tbi3.iloc[:,1][i:i+(60*256)])==256*60:\n",
    "                chunk6=tbi3.iloc[:,4][i:i+(60*256)]\n",
    "                tbi_extract3.append(chunk6)\n",
    "\n",
    "                j6=i\n",
    "                start6.append(j6)\n",
    "                k6=i+(60*256)-1\n",
    "                stop6.append(k6)\n",
    "                l6=l6+1\n",
    "    else:\n",
    "        if i > stop6[l6-1]:\n",
    "            if tbi3.iloc[:,1][i]==1:\n",
    "                if sum(tbi3.iloc[:,1][i:i+(60*256)])==256*60:\n",
    "                    chunk6=tbi3.iloc[:,4][i:i+(60*256)]\n",
    "                    tbi_extract3.append(chunk6)\n",
    "\n",
    "                    j6=i\n",
    "                    start6.append(j6)\n",
    "                    k6=i+(60*256)-1\n",
    "                    stop6.append(k6)\n",
    "                    l6=l6+1\n",
    "                    \n"
   ]
  },
  {
   "cell_type": "code",
   "execution_count": 289,
   "metadata": {},
   "outputs": [],
   "source": [
    "s5=(len(sham_extract3),256*60)\n",
    "sham_fil_theta3=np.zeros(s5)\n",
    "sham_fil_alpha3=np.zeros(s5)\n",
    "sham_fil_sigma3=np.zeros(s5)\n",
    "sham_fil_beta3=np.zeros(s5)\n",
    "sham_fil_gama3=np.zeros(s5)\n",
    "sham_fil_all3=np.zeros(s5)\n",
    "\n",
    "for i in range(len(sham_extract3)):\n",
    "    sham_fil_theta3[i]= butter_bandpass_filter(sham_extract3[i], 4, 7.5, 256, 6)\n",
    "    sham_fil_alpha3[i]= butter_bandpass_filter(sham_extract3[i], 8, 12, 256, 6)\n",
    "    sham_fil_sigma3[i] = butter_bandpass_filter(sham_extract3[i], 13, 16, 256, 6)\n",
    "    sham_fil_beta3[i] = butter_bandpass_filter(sham_extract3[i], 16.5, 25, 256, 6)\n",
    "    sham_fil_gama3[i] = butter_bandpass_filter(sham_extract3[i], 30, 35, 256, 6)\n",
    "    sham_fil_all3[i] = butter_bandpass_filter(sham_extract3[i], 4, 35, 256, 6)\n",
    "    \n",
    "sham_fft_theta3=[0]*len(sham_extract3)\n",
    "sham_fft_alpha3=[0]*len(sham_extract3)\n",
    "sham_fft_sigma3=[0]*len(sham_extract3)\n",
    "sham_fft_beta3=[0]*len(sham_extract3)\n",
    "sham_fft_gama3=[0]*len(sham_extract3)\n",
    "sham_fft_all3=[0]*len(sham_extract3)\n",
    "\n",
    "for i in range(len(sham_extract3)):\n",
    "    sham_fft_theta3[i] = (abs(np.fft.fft(sham_fil_theta3[i])))**2\n",
    "    sham_fft_alpha3[i] = (abs(np.fft.fft(sham_fil_alpha3[i])))**2\n",
    "    sham_fft_sigma3[i] = (abs(np.fft.fft(sham_fil_sigma3[i])))**2\n",
    "    sham_fft_beta3[i] = (abs(np.fft.fft(sham_fil_beta3[i])))**2\n",
    "    sham_fft_gama3[i] = (abs(np.fft.fft(sham_fil_gama3[i])))**2\n",
    "    sham_fft_all3[i] = (abs(np.fft.fft(sham_fil_all3[i])))**2\n",
    "\n",
    "sham_mean_theta3=np.mean(sham_fft_theta3,axis=1)\n",
    "sham_mean_alpha3=np.mean(sham_fft_alpha3,axis=1)\n",
    "sham_mean_sigma3=np.mean(sham_fft_sigma3,axis=1)\n",
    "sham_mean_beta3=np.mean(sham_fft_beta3,axis=1)\n",
    "sham_mean_gama3=np.mean(sham_fft_gama3,axis=1)\n",
    "sham_mean_all3=np.mean(sham_fft_all3,axis=1)"
   ]
  },
  {
   "cell_type": "code",
   "execution_count": 290,
   "metadata": {},
   "outputs": [],
   "source": [
    "s6=(len(tbi_extract3),256*60)\n",
    "tbi_fil_theta3=np.zeros(s6)\n",
    "tbi_fil_alpha3=np.zeros(s6)\n",
    "tbi_fil_sigma3=np.zeros(s6)\n",
    "tbi_fil_beta3=np.zeros(s6)\n",
    "tbi_fil_gama3=np.zeros(s6)\n",
    "tbi_fil_all3=np.zeros(s6)\n",
    "\n",
    "for i in range(len(tbi_extract3)):\n",
    "    tbi_fil_theta3[i]= butter_bandpass_filter(tbi_extract3[i], 4, 7.5, 256, 6)\n",
    "    tbi_fil_alpha3[i]= butter_bandpass_filter(tbi_extract3[i], 8, 12, 256, 6)\n",
    "    tbi_fil_sigma3[i] = butter_bandpass_filter(tbi_extract3[i], 13, 16, 256, 6)\n",
    "    tbi_fil_beta3[i] = butter_bandpass_filter(tbi_extract3[i], 16.5, 25, 256, 6)\n",
    "    tbi_fil_gama3[i] = butter_bandpass_filter(tbi_extract3[i], 30, 35, 256, 6)\n",
    "    tbi_fil_all3[i] = butter_bandpass_filter(tbi_extract3[i], 4, 35, 256, 6)\n",
    "    \n",
    "tbi_fft_theta3=[0]*len(tbi_extract3)\n",
    "tbi_fft_alpha3=[0]*len(tbi_extract3)\n",
    "tbi_fft_sigma3=[0]*len(tbi_extract3)\n",
    "tbi_fft_beta3=[0]*len(tbi_extract3)\n",
    "tbi_fft_gama3=[0]*len(tbi_extract3)\n",
    "tbi_fft_all3=[0]*len(tbi_extract3)\n",
    "\n",
    "for i in range(len(tbi_extract3)):\n",
    "    tbi_fft_theta3[i] = (abs(np.fft.fft(tbi_fil_theta3[i])))**2\n",
    "    tbi_fft_alpha3[i] = (abs(np.fft.fft(tbi_fil_alpha3[i])))**2\n",
    "    tbi_fft_sigma3[i] = (abs(np.fft.fft(tbi_fil_sigma3[i])))**2\n",
    "    tbi_fft_beta3[i] = (abs(np.fft.fft(tbi_fil_beta3[i])))**2\n",
    "    tbi_fft_gama3[i] = (abs(np.fft.fft(tbi_fil_gama3[i])))**2\n",
    "    tbi_fft_all3[i] = (abs(np.fft.fft(tbi_fil_all3[i])))**2\n",
    "\n",
    "tbi_mean_theta3=np.mean(tbi_fft_theta3,axis=1)\n",
    "tbi_mean_alpha3=np.mean(tbi_fft_alpha3,axis=1)\n",
    "tbi_mean_sigma3=np.mean(tbi_fft_sigma3,axis=1)\n",
    "tbi_mean_beta3=np.mean(tbi_fft_beta3,axis=1)\n",
    "tbi_mean_gama3=np.mean(tbi_fft_gama3,axis=1)\n",
    "tbi_mean_all3=np.mean(tbi_fft_all3,axis=1)"
   ]
  },
  {
   "cell_type": "code",
   "execution_count": 3064,
   "metadata": {},
   "outputs": [],
   "source": [
    "new_sham3= pd.DataFrame({\n",
    "    'mean_theta':sham_mean_theta3,\n",
    "    'mean_alpha':sham_mean_alpha3,\n",
    "    'mean_sigma':sham_mean_sigma3,\n",
    "    'mean_beta':sham_mean_beta3,\n",
    "    'mean_gama':sham_mean_gama3,\n",
    "    #'low_high':sham_mean_theta3/sham_mean_alpha3,\n",
    "    'label':0\n",
    "})\n"
   ]
  },
  {
   "cell_type": "code",
   "execution_count": 3065,
   "metadata": {},
   "outputs": [],
   "source": [
    "new_tbi3= pd.DataFrame({\n",
    "    'mean_theta':tbi_mean_theta3,\n",
    "    'mean_alpha':tbi_mean_alpha3,\n",
    "    'mean_sigma':tbi_mean_sigma3,\n",
    "    'mean_beta':tbi_mean_beta3,\n",
    "    'mean_gama':tbi_mean_gama3,\n",
    "    #'low_high':tbi_mean_theta3/tbi_mean_alpha3,\n",
    "    'label':1\n",
    "})\n"
   ]
  },
  {
   "cell_type": "code",
   "execution_count": 34,
   "metadata": {},
   "outputs": [],
   "source": [
    "#.........................................................................."
   ]
  },
  {
   "cell_type": "code",
   "execution_count": 35,
   "metadata": {},
   "outputs": [],
   "source": [
    "base_sham_theta3=np.mean(sham_mean_theta3[0:15])\n",
    "base_sham_alpha3=np.mean(sham_mean_alpha3[0:15])\n",
    "base_sham_sigma3=np.mean(sham_mean_sigma3[0:15])\n",
    "base_sham_beta3=np.mean(sham_mean_beta3[0:15])\n",
    "base_sham_gama3=np.mean(sham_mean_gama3[0:15])\n",
    "\n",
    "\n",
    "base_tbi_theta3=np.mean(tbi_mean_theta3[0:15])\n",
    "base_tbi_alpha3=np.mean(tbi_mean_alpha3[0:15])\n",
    "base_tbi_sigma3=np.mean(tbi_mean_sigma3[0:15])\n",
    "base_tbi_beta3=np.mean(tbi_mean_beta3[0:15])\n",
    "base_tbi_gama3=np.mean(tbi_mean_gama3[0:15])"
   ]
  },
  {
   "cell_type": "code",
   "execution_count": 36,
   "metadata": {},
   "outputs": [],
   "source": [
    "base_sham_theta=(base_sham_theta1+base_sham_theta2+base_sham_theta3)/3.0\n",
    "base_sham_alpha=(base_sham_alpha1+base_sham_alpha2+base_sham_alpha3)/3.0\n",
    "base_sham_sigma=(base_sham_sigma1+base_sham_sigma2+base_sham_sigma3)/3.0\n",
    "base_sham_beta=(base_sham_beta1+base_sham_beta2+base_sham_beta3)/3.0\n",
    "base_sham_gama=(base_sham_gama1+base_sham_gama2+base_sham_gama3)/3.0"
   ]
  },
  {
   "cell_type": "code",
   "execution_count": 2891,
   "metadata": {},
   "outputs": [],
   "source": [
    "base_tbi_theta=(base_tbi_theta1+base_tbi_theta2+base_tbi_theta3)/3.0\n",
    "base_tbi_alpha=(base_tbi_alpha1+base_tbi_alpha2+base_tbi_alpha3)/3.0\n",
    "base_tbi_sigma=(base_tbi_sigma1+base_tbi_sigma2+base_tbi_sigma3)/3.0\n",
    "base_tbi_beta=(base_tbi_beta1+base_tbi_beta2+base_tbi_beta3)/3.0\n",
    "base_tbi_gama=(base_tbi_gama1+base_tbi_gama2+base_tbi_gama3)/3.0"
   ]
  },
  {
   "cell_type": "code",
   "execution_count": 291,
   "metadata": {},
   "outputs": [],
   "source": [
    "new_sham3= pd.DataFrame({\n",
    "    'mean_theta':10*np.log10(sham_mean_theta3/base_sham_theta),\n",
    "    'mean_alpha':10*np.log10(sham_mean_alpha3/base_sham_alpha),\n",
    "    'mean_sigma':10*np.log10(sham_mean_sigma3/base_sham_sigma),\n",
    "    'mean_beta':10*np.log10(sham_mean_beta3/base_sham_beta),\n",
    "    'mean_gama':10*np.log10(sham_mean_gama3/base_sham_gama),\n",
    "    #'low_high':sham_mean_theta3/sham_mean_alpha3,\n",
    "    'label':0\n",
    "})\n"
   ]
  },
  {
   "cell_type": "code",
   "execution_count": 292,
   "metadata": {},
   "outputs": [],
   "source": [
    "new_tbi3= pd.DataFrame({\n",
    "    'mean_theta':10*np.log10(tbi_mean_theta3/base_tbi_theta),\n",
    "    'mean_alpha':10*np.log10(tbi_mean_alpha3/base_tbi_alpha),\n",
    "    'mean_sigma':10*np.log10(tbi_mean_sigma3/base_tbi_sigma),\n",
    "    'mean_beta':10*np.log10(tbi_mean_beta3/base_tbi_beta),\n",
    "    'mean_gama':10*np.log10(tbi_mean_gama3/base_tbi_gama),\n",
    "    #'low_high':tbi_mean_theta3/tbi_mean_alpha3,\n",
    "    'label':1\n",
    "})\n"
   ]
  },
  {
   "cell_type": "code",
   "execution_count": 293,
   "metadata": {},
   "outputs": [],
   "source": [
    "#.........................................................................."
   ]
  },
  {
   "cell_type": "code",
   "execution_count": 297,
   "metadata": {},
   "outputs": [],
   "source": [
    "new_big_df=new_sham3.append(new_tbi3, ignore_index=True)"
   ]
  },
  {
   "cell_type": "code",
   "execution_count": 295,
   "metadata": {},
   "outputs": [],
   "source": [
    "new_big_df=new_big_df4.append(big_df3, ignore_index=True)"
   ]
  },
  {
   "cell_type": "code",
   "execution_count": 298,
   "metadata": {
    "scrolled": true
   },
   "outputs": [
    {
     "data": {
      "text/html": [
       "<div>\n",
       "<style scoped>\n",
       "    .dataframe tbody tr th:only-of-type {\n",
       "        vertical-align: middle;\n",
       "    }\n",
       "\n",
       "    .dataframe tbody tr th {\n",
       "        vertical-align: top;\n",
       "    }\n",
       "\n",
       "    .dataframe thead th {\n",
       "        text-align: right;\n",
       "    }\n",
       "</style>\n",
       "<table border=\"1\" class=\"dataframe\">\n",
       "  <thead>\n",
       "    <tr style=\"text-align: right;\">\n",
       "      <th></th>\n",
       "      <th>mean_theta</th>\n",
       "      <th>mean_alpha</th>\n",
       "      <th>mean_sigma</th>\n",
       "      <th>mean_beta</th>\n",
       "      <th>mean_gama</th>\n",
       "      <th>label</th>\n",
       "    </tr>\n",
       "  </thead>\n",
       "  <tbody>\n",
       "    <tr>\n",
       "      <th>0</th>\n",
       "      <td>0.124515</td>\n",
       "      <td>-0.818452</td>\n",
       "      <td>0.134485</td>\n",
       "      <td>1.154808</td>\n",
       "      <td>1.552650</td>\n",
       "      <td>0</td>\n",
       "    </tr>\n",
       "    <tr>\n",
       "      <th>1</th>\n",
       "      <td>0.089209</td>\n",
       "      <td>-0.404844</td>\n",
       "      <td>0.926770</td>\n",
       "      <td>1.327693</td>\n",
       "      <td>0.594123</td>\n",
       "      <td>0</td>\n",
       "    </tr>\n",
       "    <tr>\n",
       "      <th>2</th>\n",
       "      <td>-0.433487</td>\n",
       "      <td>-0.208367</td>\n",
       "      <td>1.427958</td>\n",
       "      <td>1.547028</td>\n",
       "      <td>1.058829</td>\n",
       "      <td>0</td>\n",
       "    </tr>\n",
       "    <tr>\n",
       "      <th>3</th>\n",
       "      <td>1.166104</td>\n",
       "      <td>-0.192689</td>\n",
       "      <td>0.670886</td>\n",
       "      <td>1.141923</td>\n",
       "      <td>1.699727</td>\n",
       "      <td>0</td>\n",
       "    </tr>\n",
       "    <tr>\n",
       "      <th>4</th>\n",
       "      <td>0.873879</td>\n",
       "      <td>2.109097</td>\n",
       "      <td>2.111993</td>\n",
       "      <td>2.140555</td>\n",
       "      <td>0.650500</td>\n",
       "      <td>0</td>\n",
       "    </tr>\n",
       "    <tr>\n",
       "      <th>5</th>\n",
       "      <td>0.938936</td>\n",
       "      <td>0.797123</td>\n",
       "      <td>1.263954</td>\n",
       "      <td>1.823474</td>\n",
       "      <td>0.937108</td>\n",
       "      <td>0</td>\n",
       "    </tr>\n",
       "    <tr>\n",
       "      <th>6</th>\n",
       "      <td>-0.061630</td>\n",
       "      <td>1.581360</td>\n",
       "      <td>0.158367</td>\n",
       "      <td>1.312295</td>\n",
       "      <td>2.299411</td>\n",
       "      <td>0</td>\n",
       "    </tr>\n",
       "    <tr>\n",
       "      <th>7</th>\n",
       "      <td>0.208198</td>\n",
       "      <td>1.412951</td>\n",
       "      <td>0.914494</td>\n",
       "      <td>1.442370</td>\n",
       "      <td>1.626946</td>\n",
       "      <td>0</td>\n",
       "    </tr>\n",
       "    <tr>\n",
       "      <th>8</th>\n",
       "      <td>0.490367</td>\n",
       "      <td>-0.650834</td>\n",
       "      <td>0.004254</td>\n",
       "      <td>1.150213</td>\n",
       "      <td>1.357658</td>\n",
       "      <td>0</td>\n",
       "    </tr>\n",
       "    <tr>\n",
       "      <th>9</th>\n",
       "      <td>1.342366</td>\n",
       "      <td>1.648596</td>\n",
       "      <td>0.829585</td>\n",
       "      <td>1.088652</td>\n",
       "      <td>1.671078</td>\n",
       "      <td>0</td>\n",
       "    </tr>\n",
       "    <tr>\n",
       "      <th>10</th>\n",
       "      <td>0.459280</td>\n",
       "      <td>1.636610</td>\n",
       "      <td>2.196376</td>\n",
       "      <td>1.937148</td>\n",
       "      <td>2.134786</td>\n",
       "      <td>0</td>\n",
       "    </tr>\n",
       "    <tr>\n",
       "      <th>11</th>\n",
       "      <td>0.263052</td>\n",
       "      <td>1.052734</td>\n",
       "      <td>1.098172</td>\n",
       "      <td>1.764409</td>\n",
       "      <td>2.021313</td>\n",
       "      <td>0</td>\n",
       "    </tr>\n",
       "    <tr>\n",
       "      <th>12</th>\n",
       "      <td>0.034697</td>\n",
       "      <td>-0.702051</td>\n",
       "      <td>0.901247</td>\n",
       "      <td>1.203971</td>\n",
       "      <td>1.483862</td>\n",
       "      <td>0</td>\n",
       "    </tr>\n",
       "    <tr>\n",
       "      <th>13</th>\n",
       "      <td>1.334007</td>\n",
       "      <td>0.294853</td>\n",
       "      <td>1.382023</td>\n",
       "      <td>1.317736</td>\n",
       "      <td>1.933279</td>\n",
       "      <td>0</td>\n",
       "    </tr>\n",
       "    <tr>\n",
       "      <th>14</th>\n",
       "      <td>0.720572</td>\n",
       "      <td>-0.560411</td>\n",
       "      <td>1.001790</td>\n",
       "      <td>1.577378</td>\n",
       "      <td>1.679117</td>\n",
       "      <td>0</td>\n",
       "    </tr>\n",
       "    <tr>\n",
       "      <th>15</th>\n",
       "      <td>1.160047</td>\n",
       "      <td>0.750896</td>\n",
       "      <td>0.536223</td>\n",
       "      <td>1.401042</td>\n",
       "      <td>1.363810</td>\n",
       "      <td>0</td>\n",
       "    </tr>\n",
       "    <tr>\n",
       "      <th>16</th>\n",
       "      <td>0.738581</td>\n",
       "      <td>-0.349048</td>\n",
       "      <td>0.444832</td>\n",
       "      <td>0.808791</td>\n",
       "      <td>1.560974</td>\n",
       "      <td>0</td>\n",
       "    </tr>\n",
       "    <tr>\n",
       "      <th>17</th>\n",
       "      <td>0.208583</td>\n",
       "      <td>1.349656</td>\n",
       "      <td>1.440654</td>\n",
       "      <td>1.905616</td>\n",
       "      <td>1.382642</td>\n",
       "      <td>0</td>\n",
       "    </tr>\n",
       "    <tr>\n",
       "      <th>18</th>\n",
       "      <td>0.041249</td>\n",
       "      <td>2.048220</td>\n",
       "      <td>1.180020</td>\n",
       "      <td>1.059245</td>\n",
       "      <td>1.379513</td>\n",
       "      <td>0</td>\n",
       "    </tr>\n",
       "    <tr>\n",
       "      <th>19</th>\n",
       "      <td>0.165128</td>\n",
       "      <td>1.646698</td>\n",
       "      <td>0.778410</td>\n",
       "      <td>1.104800</td>\n",
       "      <td>1.669391</td>\n",
       "      <td>0</td>\n",
       "    </tr>\n",
       "    <tr>\n",
       "      <th>20</th>\n",
       "      <td>0.024898</td>\n",
       "      <td>1.861279</td>\n",
       "      <td>0.303419</td>\n",
       "      <td>1.106427</td>\n",
       "      <td>1.041755</td>\n",
       "      <td>0</td>\n",
       "    </tr>\n",
       "    <tr>\n",
       "      <th>21</th>\n",
       "      <td>0.080019</td>\n",
       "      <td>1.131211</td>\n",
       "      <td>0.171907</td>\n",
       "      <td>0.849264</td>\n",
       "      <td>1.578707</td>\n",
       "      <td>0</td>\n",
       "    </tr>\n",
       "    <tr>\n",
       "      <th>22</th>\n",
       "      <td>0.418436</td>\n",
       "      <td>2.024552</td>\n",
       "      <td>0.325627</td>\n",
       "      <td>0.874367</td>\n",
       "      <td>1.460066</td>\n",
       "      <td>0</td>\n",
       "    </tr>\n",
       "    <tr>\n",
       "      <th>23</th>\n",
       "      <td>0.245568</td>\n",
       "      <td>0.438781</td>\n",
       "      <td>1.726543</td>\n",
       "      <td>1.196074</td>\n",
       "      <td>1.175921</td>\n",
       "      <td>0</td>\n",
       "    </tr>\n",
       "    <tr>\n",
       "      <th>24</th>\n",
       "      <td>-0.402795</td>\n",
       "      <td>3.210535</td>\n",
       "      <td>1.960379</td>\n",
       "      <td>1.600506</td>\n",
       "      <td>1.326091</td>\n",
       "      <td>0</td>\n",
       "    </tr>\n",
       "    <tr>\n",
       "      <th>25</th>\n",
       "      <td>-0.850699</td>\n",
       "      <td>2.902822</td>\n",
       "      <td>1.404992</td>\n",
       "      <td>1.966578</td>\n",
       "      <td>1.750036</td>\n",
       "      <td>0</td>\n",
       "    </tr>\n",
       "    <tr>\n",
       "      <th>26</th>\n",
       "      <td>-0.296063</td>\n",
       "      <td>2.218389</td>\n",
       "      <td>1.387163</td>\n",
       "      <td>1.288134</td>\n",
       "      <td>1.908708</td>\n",
       "      <td>0</td>\n",
       "    </tr>\n",
       "    <tr>\n",
       "      <th>27</th>\n",
       "      <td>-0.199326</td>\n",
       "      <td>2.634927</td>\n",
       "      <td>2.008846</td>\n",
       "      <td>1.685682</td>\n",
       "      <td>1.665800</td>\n",
       "      <td>0</td>\n",
       "    </tr>\n",
       "    <tr>\n",
       "      <th>28</th>\n",
       "      <td>1.642367</td>\n",
       "      <td>2.900270</td>\n",
       "      <td>3.664629</td>\n",
       "      <td>3.050637</td>\n",
       "      <td>2.205974</td>\n",
       "      <td>0</td>\n",
       "    </tr>\n",
       "    <tr>\n",
       "      <th>29</th>\n",
       "      <td>4.350976</td>\n",
       "      <td>5.166206</td>\n",
       "      <td>5.568911</td>\n",
       "      <td>4.466816</td>\n",
       "      <td>1.201843</td>\n",
       "      <td>0</td>\n",
       "    </tr>\n",
       "    <tr>\n",
       "      <th>...</th>\n",
       "      <td>...</td>\n",
       "      <td>...</td>\n",
       "      <td>...</td>\n",
       "      <td>...</td>\n",
       "      <td>...</td>\n",
       "      <td>...</td>\n",
       "    </tr>\n",
       "    <tr>\n",
       "      <th>1793</th>\n",
       "      <td>-1.382724</td>\n",
       "      <td>-0.191668</td>\n",
       "      <td>-3.889895</td>\n",
       "      <td>-2.574230</td>\n",
       "      <td>-1.109069</td>\n",
       "      <td>1</td>\n",
       "    </tr>\n",
       "    <tr>\n",
       "      <th>1794</th>\n",
       "      <td>-1.018769</td>\n",
       "      <td>-3.732618</td>\n",
       "      <td>-4.975084</td>\n",
       "      <td>-3.088953</td>\n",
       "      <td>-1.817349</td>\n",
       "      <td>1</td>\n",
       "    </tr>\n",
       "    <tr>\n",
       "      <th>1795</th>\n",
       "      <td>-1.070392</td>\n",
       "      <td>-2.566272</td>\n",
       "      <td>-4.483996</td>\n",
       "      <td>-2.959361</td>\n",
       "      <td>-2.155460</td>\n",
       "      <td>1</td>\n",
       "    </tr>\n",
       "    <tr>\n",
       "      <th>1796</th>\n",
       "      <td>-1.409431</td>\n",
       "      <td>-0.666107</td>\n",
       "      <td>-3.876130</td>\n",
       "      <td>-2.657114</td>\n",
       "      <td>-1.360563</td>\n",
       "      <td>1</td>\n",
       "    </tr>\n",
       "    <tr>\n",
       "      <th>1797</th>\n",
       "      <td>-1.206811</td>\n",
       "      <td>-0.292637</td>\n",
       "      <td>-3.808453</td>\n",
       "      <td>-2.552844</td>\n",
       "      <td>-1.832926</td>\n",
       "      <td>1</td>\n",
       "    </tr>\n",
       "    <tr>\n",
       "      <th>1798</th>\n",
       "      <td>-1.434339</td>\n",
       "      <td>-1.353105</td>\n",
       "      <td>-4.219624</td>\n",
       "      <td>-3.025234</td>\n",
       "      <td>-1.410013</td>\n",
       "      <td>1</td>\n",
       "    </tr>\n",
       "    <tr>\n",
       "      <th>1799</th>\n",
       "      <td>-1.212926</td>\n",
       "      <td>-3.744300</td>\n",
       "      <td>-4.190955</td>\n",
       "      <td>-2.689647</td>\n",
       "      <td>-2.240080</td>\n",
       "      <td>1</td>\n",
       "    </tr>\n",
       "    <tr>\n",
       "      <th>1800</th>\n",
       "      <td>-1.447099</td>\n",
       "      <td>-3.199575</td>\n",
       "      <td>-3.850283</td>\n",
       "      <td>-3.484393</td>\n",
       "      <td>-1.632517</td>\n",
       "      <td>1</td>\n",
       "    </tr>\n",
       "    <tr>\n",
       "      <th>1801</th>\n",
       "      <td>-0.699847</td>\n",
       "      <td>-3.332600</td>\n",
       "      <td>-4.293555</td>\n",
       "      <td>-2.887718</td>\n",
       "      <td>-1.996282</td>\n",
       "      <td>1</td>\n",
       "    </tr>\n",
       "    <tr>\n",
       "      <th>1802</th>\n",
       "      <td>-1.238335</td>\n",
       "      <td>-2.933700</td>\n",
       "      <td>-4.147080</td>\n",
       "      <td>-2.843712</td>\n",
       "      <td>-2.295032</td>\n",
       "      <td>1</td>\n",
       "    </tr>\n",
       "    <tr>\n",
       "      <th>1803</th>\n",
       "      <td>-0.651804</td>\n",
       "      <td>-2.831995</td>\n",
       "      <td>-4.418166</td>\n",
       "      <td>-2.959549</td>\n",
       "      <td>-2.818410</td>\n",
       "      <td>1</td>\n",
       "    </tr>\n",
       "    <tr>\n",
       "      <th>1804</th>\n",
       "      <td>-1.497634</td>\n",
       "      <td>-2.200047</td>\n",
       "      <td>-3.594690</td>\n",
       "      <td>-2.679241</td>\n",
       "      <td>-2.078400</td>\n",
       "      <td>1</td>\n",
       "    </tr>\n",
       "    <tr>\n",
       "      <th>1805</th>\n",
       "      <td>-1.630552</td>\n",
       "      <td>0.948062</td>\n",
       "      <td>-3.405316</td>\n",
       "      <td>-1.775251</td>\n",
       "      <td>-1.104856</td>\n",
       "      <td>1</td>\n",
       "    </tr>\n",
       "    <tr>\n",
       "      <th>1806</th>\n",
       "      <td>-1.384265</td>\n",
       "      <td>-0.500448</td>\n",
       "      <td>-3.899080</td>\n",
       "      <td>-2.865253</td>\n",
       "      <td>-1.682084</td>\n",
       "      <td>1</td>\n",
       "    </tr>\n",
       "    <tr>\n",
       "      <th>1807</th>\n",
       "      <td>-1.480589</td>\n",
       "      <td>-0.788757</td>\n",
       "      <td>-4.014616</td>\n",
       "      <td>-2.652751</td>\n",
       "      <td>-1.247833</td>\n",
       "      <td>1</td>\n",
       "    </tr>\n",
       "    <tr>\n",
       "      <th>1808</th>\n",
       "      <td>-1.212802</td>\n",
       "      <td>-1.882192</td>\n",
       "      <td>-3.668125</td>\n",
       "      <td>-2.913226</td>\n",
       "      <td>-1.334073</td>\n",
       "      <td>1</td>\n",
       "    </tr>\n",
       "    <tr>\n",
       "      <th>1809</th>\n",
       "      <td>-0.607739</td>\n",
       "      <td>-2.896898</td>\n",
       "      <td>-4.134316</td>\n",
       "      <td>-2.778386</td>\n",
       "      <td>-1.883381</td>\n",
       "      <td>1</td>\n",
       "    </tr>\n",
       "    <tr>\n",
       "      <th>1810</th>\n",
       "      <td>-0.928041</td>\n",
       "      <td>-3.434238</td>\n",
       "      <td>-3.843639</td>\n",
       "      <td>-3.106490</td>\n",
       "      <td>-2.343524</td>\n",
       "      <td>1</td>\n",
       "    </tr>\n",
       "    <tr>\n",
       "      <th>1811</th>\n",
       "      <td>-1.139347</td>\n",
       "      <td>-3.072359</td>\n",
       "      <td>-3.638260</td>\n",
       "      <td>-2.669351</td>\n",
       "      <td>-1.983735</td>\n",
       "      <td>1</td>\n",
       "    </tr>\n",
       "    <tr>\n",
       "      <th>1812</th>\n",
       "      <td>-0.931396</td>\n",
       "      <td>-2.379708</td>\n",
       "      <td>-3.492228</td>\n",
       "      <td>-2.765832</td>\n",
       "      <td>-2.218620</td>\n",
       "      <td>1</td>\n",
       "    </tr>\n",
       "    <tr>\n",
       "      <th>1813</th>\n",
       "      <td>-1.057922</td>\n",
       "      <td>-3.743012</td>\n",
       "      <td>-3.930694</td>\n",
       "      <td>-2.887095</td>\n",
       "      <td>-2.772971</td>\n",
       "      <td>1</td>\n",
       "    </tr>\n",
       "    <tr>\n",
       "      <th>1814</th>\n",
       "      <td>-0.400966</td>\n",
       "      <td>-2.138879</td>\n",
       "      <td>-3.610222</td>\n",
       "      <td>-2.912487</td>\n",
       "      <td>-2.603698</td>\n",
       "      <td>1</td>\n",
       "    </tr>\n",
       "    <tr>\n",
       "      <th>1815</th>\n",
       "      <td>3.008729</td>\n",
       "      <td>0.731858</td>\n",
       "      <td>-0.283931</td>\n",
       "      <td>-0.342583</td>\n",
       "      <td>-2.715249</td>\n",
       "      <td>1</td>\n",
       "    </tr>\n",
       "    <tr>\n",
       "      <th>1816</th>\n",
       "      <td>-0.739779</td>\n",
       "      <td>-2.521711</td>\n",
       "      <td>-2.559780</td>\n",
       "      <td>-2.601459</td>\n",
       "      <td>-2.342128</td>\n",
       "      <td>1</td>\n",
       "    </tr>\n",
       "    <tr>\n",
       "      <th>1817</th>\n",
       "      <td>0.222357</td>\n",
       "      <td>-2.294803</td>\n",
       "      <td>-2.722447</td>\n",
       "      <td>-2.239430</td>\n",
       "      <td>-2.781314</td>\n",
       "      <td>1</td>\n",
       "    </tr>\n",
       "    <tr>\n",
       "      <th>1818</th>\n",
       "      <td>-0.155658</td>\n",
       "      <td>-2.169816</td>\n",
       "      <td>-3.237205</td>\n",
       "      <td>-1.923977</td>\n",
       "      <td>-2.384151</td>\n",
       "      <td>1</td>\n",
       "    </tr>\n",
       "    <tr>\n",
       "      <th>1819</th>\n",
       "      <td>-0.424803</td>\n",
       "      <td>-2.971728</td>\n",
       "      <td>-3.706074</td>\n",
       "      <td>-2.888845</td>\n",
       "      <td>-1.746252</td>\n",
       "      <td>1</td>\n",
       "    </tr>\n",
       "    <tr>\n",
       "      <th>1820</th>\n",
       "      <td>-1.178440</td>\n",
       "      <td>-0.949723</td>\n",
       "      <td>-4.549703</td>\n",
       "      <td>-2.723703</td>\n",
       "      <td>-2.678652</td>\n",
       "      <td>1</td>\n",
       "    </tr>\n",
       "    <tr>\n",
       "      <th>1821</th>\n",
       "      <td>-1.754262</td>\n",
       "      <td>-1.374332</td>\n",
       "      <td>-3.643411</td>\n",
       "      <td>-2.750824</td>\n",
       "      <td>-1.834519</td>\n",
       "      <td>1</td>\n",
       "    </tr>\n",
       "    <tr>\n",
       "      <th>1822</th>\n",
       "      <td>-0.721987</td>\n",
       "      <td>-2.976507</td>\n",
       "      <td>-3.500980</td>\n",
       "      <td>-2.781483</td>\n",
       "      <td>-2.369331</td>\n",
       "      <td>1</td>\n",
       "    </tr>\n",
       "  </tbody>\n",
       "</table>\n",
       "<p>1823 rows × 6 columns</p>\n",
       "</div>"
      ],
      "text/plain": [
       "      mean_theta  mean_alpha  mean_sigma  mean_beta  mean_gama  label\n",
       "0       0.124515   -0.818452    0.134485   1.154808   1.552650      0\n",
       "1       0.089209   -0.404844    0.926770   1.327693   0.594123      0\n",
       "2      -0.433487   -0.208367    1.427958   1.547028   1.058829      0\n",
       "3       1.166104   -0.192689    0.670886   1.141923   1.699727      0\n",
       "4       0.873879    2.109097    2.111993   2.140555   0.650500      0\n",
       "5       0.938936    0.797123    1.263954   1.823474   0.937108      0\n",
       "6      -0.061630    1.581360    0.158367   1.312295   2.299411      0\n",
       "7       0.208198    1.412951    0.914494   1.442370   1.626946      0\n",
       "8       0.490367   -0.650834    0.004254   1.150213   1.357658      0\n",
       "9       1.342366    1.648596    0.829585   1.088652   1.671078      0\n",
       "10      0.459280    1.636610    2.196376   1.937148   2.134786      0\n",
       "11      0.263052    1.052734    1.098172   1.764409   2.021313      0\n",
       "12      0.034697   -0.702051    0.901247   1.203971   1.483862      0\n",
       "13      1.334007    0.294853    1.382023   1.317736   1.933279      0\n",
       "14      0.720572   -0.560411    1.001790   1.577378   1.679117      0\n",
       "15      1.160047    0.750896    0.536223   1.401042   1.363810      0\n",
       "16      0.738581   -0.349048    0.444832   0.808791   1.560974      0\n",
       "17      0.208583    1.349656    1.440654   1.905616   1.382642      0\n",
       "18      0.041249    2.048220    1.180020   1.059245   1.379513      0\n",
       "19      0.165128    1.646698    0.778410   1.104800   1.669391      0\n",
       "20      0.024898    1.861279    0.303419   1.106427   1.041755      0\n",
       "21      0.080019    1.131211    0.171907   0.849264   1.578707      0\n",
       "22      0.418436    2.024552    0.325627   0.874367   1.460066      0\n",
       "23      0.245568    0.438781    1.726543   1.196074   1.175921      0\n",
       "24     -0.402795    3.210535    1.960379   1.600506   1.326091      0\n",
       "25     -0.850699    2.902822    1.404992   1.966578   1.750036      0\n",
       "26     -0.296063    2.218389    1.387163   1.288134   1.908708      0\n",
       "27     -0.199326    2.634927    2.008846   1.685682   1.665800      0\n",
       "28      1.642367    2.900270    3.664629   3.050637   2.205974      0\n",
       "29      4.350976    5.166206    5.568911   4.466816   1.201843      0\n",
       "...          ...         ...         ...        ...        ...    ...\n",
       "1793   -1.382724   -0.191668   -3.889895  -2.574230  -1.109069      1\n",
       "1794   -1.018769   -3.732618   -4.975084  -3.088953  -1.817349      1\n",
       "1795   -1.070392   -2.566272   -4.483996  -2.959361  -2.155460      1\n",
       "1796   -1.409431   -0.666107   -3.876130  -2.657114  -1.360563      1\n",
       "1797   -1.206811   -0.292637   -3.808453  -2.552844  -1.832926      1\n",
       "1798   -1.434339   -1.353105   -4.219624  -3.025234  -1.410013      1\n",
       "1799   -1.212926   -3.744300   -4.190955  -2.689647  -2.240080      1\n",
       "1800   -1.447099   -3.199575   -3.850283  -3.484393  -1.632517      1\n",
       "1801   -0.699847   -3.332600   -4.293555  -2.887718  -1.996282      1\n",
       "1802   -1.238335   -2.933700   -4.147080  -2.843712  -2.295032      1\n",
       "1803   -0.651804   -2.831995   -4.418166  -2.959549  -2.818410      1\n",
       "1804   -1.497634   -2.200047   -3.594690  -2.679241  -2.078400      1\n",
       "1805   -1.630552    0.948062   -3.405316  -1.775251  -1.104856      1\n",
       "1806   -1.384265   -0.500448   -3.899080  -2.865253  -1.682084      1\n",
       "1807   -1.480589   -0.788757   -4.014616  -2.652751  -1.247833      1\n",
       "1808   -1.212802   -1.882192   -3.668125  -2.913226  -1.334073      1\n",
       "1809   -0.607739   -2.896898   -4.134316  -2.778386  -1.883381      1\n",
       "1810   -0.928041   -3.434238   -3.843639  -3.106490  -2.343524      1\n",
       "1811   -1.139347   -3.072359   -3.638260  -2.669351  -1.983735      1\n",
       "1812   -0.931396   -2.379708   -3.492228  -2.765832  -2.218620      1\n",
       "1813   -1.057922   -3.743012   -3.930694  -2.887095  -2.772971      1\n",
       "1814   -0.400966   -2.138879   -3.610222  -2.912487  -2.603698      1\n",
       "1815    3.008729    0.731858   -0.283931  -0.342583  -2.715249      1\n",
       "1816   -0.739779   -2.521711   -2.559780  -2.601459  -2.342128      1\n",
       "1817    0.222357   -2.294803   -2.722447  -2.239430  -2.781314      1\n",
       "1818   -0.155658   -2.169816   -3.237205  -1.923977  -2.384151      1\n",
       "1819   -0.424803   -2.971728   -3.706074  -2.888845  -1.746252      1\n",
       "1820   -1.178440   -0.949723   -4.549703  -2.723703  -2.678652      1\n",
       "1821   -1.754262   -1.374332   -3.643411  -2.750824  -1.834519      1\n",
       "1822   -0.721987   -2.976507   -3.500980  -2.781483  -2.369331      1\n",
       "\n",
       "[1823 rows x 6 columns]"
      ]
     },
     "execution_count": 298,
     "metadata": {},
     "output_type": "execute_result"
    }
   ],
   "source": [
    "new_big_df"
   ]
  },
  {
   "cell_type": "code",
   "execution_count": 299,
   "metadata": {},
   "outputs": [],
   "source": [
    "from sklearn.utils import shuffle\n",
    "new_big_df = shuffle(new_big_df)"
   ]
  },
  {
   "cell_type": "code",
   "execution_count": 300,
   "metadata": {},
   "outputs": [],
   "source": [
    "for i in range(len(new_big_df.iloc[0])-1):\n",
    "    #col_mean[i]=np.mean(new_big_df.iloc[:,i])\n",
    "    new_big_df.iloc[:,i]=new_big_df.iloc[:,i]-col_mean[i]\n",
    "    #col_std[i]=np.max(new_big_df.iloc[:,i])\n",
    "    new_big_df.iloc[:,i]=new_big_df.iloc[:,i]/col_std[i]"
   ]
  },
  {
   "cell_type": "code",
   "execution_count": 301,
   "metadata": {},
   "outputs": [
    {
     "data": {
      "text/html": [
       "<div>\n",
       "<style scoped>\n",
       "    .dataframe tbody tr th:only-of-type {\n",
       "        vertical-align: middle;\n",
       "    }\n",
       "\n",
       "    .dataframe tbody tr th {\n",
       "        vertical-align: top;\n",
       "    }\n",
       "\n",
       "    .dataframe thead th {\n",
       "        text-align: right;\n",
       "    }\n",
       "</style>\n",
       "<table border=\"1\" class=\"dataframe\">\n",
       "  <thead>\n",
       "    <tr style=\"text-align: right;\">\n",
       "      <th></th>\n",
       "      <th>mean_theta</th>\n",
       "      <th>mean_alpha</th>\n",
       "      <th>mean_sigma</th>\n",
       "      <th>mean_beta</th>\n",
       "      <th>mean_gama</th>\n",
       "      <th>label</th>\n",
       "    </tr>\n",
       "  </thead>\n",
       "  <tbody>\n",
       "    <tr>\n",
       "      <th>445</th>\n",
       "      <td>-0.274492</td>\n",
       "      <td>-0.102467</td>\n",
       "      <td>1.436237</td>\n",
       "      <td>1.695577</td>\n",
       "      <td>2.824696</td>\n",
       "      <td>0</td>\n",
       "    </tr>\n",
       "    <tr>\n",
       "      <th>941</th>\n",
       "      <td>0.552686</td>\n",
       "      <td>0.176403</td>\n",
       "      <td>0.335866</td>\n",
       "      <td>-0.234474</td>\n",
       "      <td>-4.145483</td>\n",
       "      <td>1</td>\n",
       "    </tr>\n",
       "    <tr>\n",
       "      <th>1568</th>\n",
       "      <td>-0.392040</td>\n",
       "      <td>-1.063157</td>\n",
       "      <td>-3.111906</td>\n",
       "      <td>-3.631702</td>\n",
       "      <td>-2.847403</td>\n",
       "      <td>1</td>\n",
       "    </tr>\n",
       "    <tr>\n",
       "      <th>653</th>\n",
       "      <td>1.123049</td>\n",
       "      <td>0.820634</td>\n",
       "      <td>2.591030</td>\n",
       "      <td>4.304368</td>\n",
       "      <td>2.152437</td>\n",
       "      <td>0</td>\n",
       "    </tr>\n",
       "    <tr>\n",
       "      <th>556</th>\n",
       "      <td>-0.501273</td>\n",
       "      <td>-0.230683</td>\n",
       "      <td>1.310554</td>\n",
       "      <td>1.807636</td>\n",
       "      <td>1.991437</td>\n",
       "      <td>0</td>\n",
       "    </tr>\n",
       "  </tbody>\n",
       "</table>\n",
       "</div>"
      ],
      "text/plain": [
       "      mean_theta  mean_alpha  mean_sigma  mean_beta  mean_gama  label\n",
       "445    -0.274492   -0.102467    1.436237   1.695577   2.824696      0\n",
       "941     0.552686    0.176403    0.335866  -0.234474  -4.145483      1\n",
       "1568   -0.392040   -1.063157   -3.111906  -3.631702  -2.847403      1\n",
       "653     1.123049    0.820634    2.591030   4.304368   2.152437      0\n",
       "556    -0.501273   -0.230683    1.310554   1.807636   1.991437      0"
      ]
     },
     "execution_count": 301,
     "metadata": {},
     "output_type": "execute_result"
    }
   ],
   "source": [
    "new_big_df.head()"
   ]
  },
  {
   "cell_type": "code",
   "execution_count": 302,
   "metadata": {},
   "outputs": [],
   "source": [
    "from sklearn.model_selection import train_test_split\n",
    "\n",
    "#X=new_big_df.drop('label',axis=1)\n",
    "#y=new_big_df['label']\n",
    "#X_train, X_test, y_train, y_test = train_test_split(X, y, test_size=0.3, random_state=101)\n",
    "\n",
    "X_train=big_df3.drop('label',axis=1)\n",
    "y_train=big_df3['label']\n",
    "X_test=new_big_df.drop('label',axis=1)\n",
    "y_test=new_big_df['label']\n",
    "\n",
    "#from sklearn.preprocessing import StandardScaler\n",
    "#scaler = StandardScaler()\n",
    "## Fit only to the training data\n",
    "#scaler.fit(X_train)\n",
    "## Now apply the transformations to the data:\n",
    "#X_train = scaler.transform(X_train)\n",
    "#X_test = scaler.transform(X_test)\n"
   ]
  },
  {
   "cell_type": "code",
   "execution_count": 331,
   "metadata": {},
   "outputs": [
    {
     "name": "stdout",
     "output_type": "stream",
     "text": [
      "Classification report for decision tree\n",
      "              precision    recall  f1-score   support\n",
      "\n",
      "           0       0.70      0.80      0.75       922\n",
      "           1       0.76      0.65      0.70       901\n",
      "\n",
      "   micro avg       0.73      0.73      0.73      1823\n",
      "   macro avg       0.73      0.73      0.73      1823\n",
      "weighted avg       0.73      0.73      0.73      1823\n",
      "\n"
     ]
    }
   ],
   "source": [
    "from sklearn.tree import DecisionTreeClassifier\n",
    "dtree = DecisionTreeClassifier()\n",
    "dtree.fit(X_train,y_train)\n",
    "predictions=dtree.predict(X_test)\n",
    "\n",
    "print('Classification report for decision tree')\n",
    "from sklearn.metrics import classification_report,confusion_matrix\n",
    "print(classification_report(y_test,predictions))"
   ]
  },
  {
   "cell_type": "code",
   "execution_count": 332,
   "metadata": {},
   "outputs": [
    {
     "data": {
      "text/plain": [
       "0.7284695556774547"
      ]
     },
     "execution_count": 332,
     "metadata": {},
     "output_type": "execute_result"
    }
   ],
   "source": [
    "from sklearn.metrics import accuracy_score\n",
    "accuracy_score(y_test, predictions, normalize=True, sample_weight=None)"
   ]
  },
  {
   "cell_type": "code",
   "execution_count": 337,
   "metadata": {},
   "outputs": [
    {
     "name": "stdout",
     "output_type": "stream",
     "text": [
      "Classification report for kNN\n",
      "              precision    recall  f1-score   support\n",
      "\n",
      "           0       0.78      0.64      0.70       922\n",
      "           1       0.69      0.81      0.74       901\n",
      "\n",
      "   micro avg       0.72      0.72      0.72      1823\n",
      "   macro avg       0.73      0.72      0.72      1823\n",
      "weighted avg       0.73      0.72      0.72      1823\n",
      "\n"
     ]
    }
   ],
   "source": [
    "from sklearn.neighbors import KNeighborsClassifier\n",
    "\n",
    "classifier = KNeighborsClassifier(n_neighbors=6)  \n",
    "classifier.fit(X_train, y_train) \n",
    "y_pred = classifier.predict(X_test) \n",
    "print('Classification report for kNN')\n",
    "print(classification_report(y_test, y_pred))  "
   ]
  },
  {
   "cell_type": "code",
   "execution_count": 338,
   "metadata": {},
   "outputs": [
    {
     "data": {
      "text/plain": [
       "0.7235326385079539"
      ]
     },
     "execution_count": 338,
     "metadata": {},
     "output_type": "execute_result"
    }
   ],
   "source": [
    "from sklearn.metrics import accuracy_score\n",
    "accuracy_score(y_test, y_pred, normalize=True, sample_weight=None)"
   ]
  },
  {
   "cell_type": "code",
   "execution_count": 336,
   "metadata": {},
   "outputs": [
    {
     "data": {
      "text/plain": [
       "Text(0, 0.5, 'Mean Error')"
      ]
     },
     "execution_count": 336,
     "metadata": {},
     "output_type": "execute_result"
    },
    {
     "data": {
      "image/png": "[encoded data removed]",
      "text/plain": [
       "<Figure size 864x432 with 1 Axes>"
      ]
     },
     "metadata": {
      "needs_background": "light"
     },
     "output_type": "display_data"
    }
   ],
   "source": [
    "error = []\n",
    "\n",
    "# Calculating error for K values between 1 and 40\n",
    "for i in range(2, 80, 1):  \n",
    "    knn = KNeighborsClassifier(n_neighbors=i)\n",
    "    knn.fit(X_train, y_train)\n",
    "    pred_i = knn.predict(X_test)\n",
    "    error.append(np.mean(pred_i != y_test))\n",
    "\n",
    "plt.figure(figsize=(12, 6))  \n",
    "plt.plot(range(2, 80, 1), error, color='red', linestyle='dashed', marker='o', markerfacecolor='blue', markersize=10)\n",
    "plt.title('Error Rate V/S K Value')  \n",
    "plt.xlabel('K Value')  \n",
    "plt.ylabel('Mean Error')"
   ]
  },
  {
   "cell_type": "code",
   "execution_count": 343,
   "metadata": {},
   "outputs": [
    {
     "name": "stdout",
     "output_type": "stream",
     "text": [
      "Classification report for Neural_network\n",
      "              precision    recall  f1-score   support\n",
      "\n",
      "           0       0.44      0.59      0.51       922\n",
      "           1       0.35      0.23      0.28       901\n",
      "\n",
      "   micro avg       0.41      0.41      0.41      1823\n",
      "   macro avg       0.40      0.41      0.39      1823\n",
      "weighted avg       0.40      0.41      0.39      1823\n",
      "\n"
     ]
    }
   ],
   "source": [
    "from sklearn.neural_network import MLPClassifier\n",
    "#mlp = MLPClassifier(hidden_layer_sizes=(10,10,10,10,10),max_iter=10000)\n",
    "mlp = MLPClassifier(hidden_layer_sizes=(100,100),max_iter=10000)\n",
    "mlp.fit(X_train,y_train)\n",
    "predictions = mlp.predict(X_test)\n",
    "print('Classification report for Neural_network')\n",
    "print(classification_report(y_test,predictions))"
   ]
  },
  {
   "cell_type": "code",
   "execution_count": 344,
   "metadata": {},
   "outputs": [
    {
     "data": {
      "text/plain": [
       "0.4125068568294021"
      ]
     },
     "execution_count": 344,
     "metadata": {},
     "output_type": "execute_result"
    }
   ],
   "source": [
    "from sklearn.metrics import accuracy_score\n",
    "accuracy_score(y_test, predictions, normalize=True, sample_weight=None)"
   ]
  },
  {
   "cell_type": "code",
   "execution_count": 347,
   "metadata": {},
   "outputs": [
    {
     "name": "stdout",
     "output_type": "stream",
     "text": [
      "Classification report for Random forest\n",
      "              precision    recall  f1-score   support\n",
      "\n",
      "           0       0.75      0.80      0.77       922\n",
      "           1       0.78      0.72      0.75       901\n",
      "\n",
      "   micro avg       0.76      0.76      0.76      1823\n",
      "   macro avg       0.77      0.76      0.76      1823\n",
      "weighted avg       0.76      0.76      0.76      1823\n",
      "\n"
     ]
    },
    {
     "name": "stderr",
     "output_type": "stream",
     "text": [
      "D:\\Anaconda3\\lib\\site-packages\\sklearn\\ensemble\\forest.py:246: FutureWarning: The default value of n_estimators will change from 10 in version 0.20 to 100 in 0.22.\n",
      "  \"10 in version 0.20 to 100 in 0.22.\", FutureWarning)\n"
     ]
    }
   ],
   "source": [
    "# Import the model we are using\n",
    "from sklearn.ensemble import RandomForestClassifier\n",
    "\n",
    "clf = RandomForestClassifier()\n",
    "clf.fit(X_train, y_train)\n",
    "\n",
    "predictions = clf.predict(X_test)\n",
    "print('Classification report for Random forest')\n",
    "print(classification_report(y_test,predictions))"
   ]
  },
  {
   "cell_type": "code",
   "execution_count": 348,
   "metadata": {},
   "outputs": [
    {
     "data": {
      "text/plain": [
       "0.7635765222161273"
      ]
     },
     "execution_count": 348,
     "metadata": {},
     "output_type": "execute_result"
    }
   ],
   "source": [
    "from sklearn.metrics import accuracy_score\n",
    "accuracy_score(y_test, predictions, normalize=True, sample_weight=None)"
   ]
  },
  {
   "cell_type": "code",
   "execution_count": 361,
   "metadata": {},
   "outputs": [
    {
     "name": "stdout",
     "output_type": "stream",
     "text": [
      "Classification report for SVM\n",
      "              precision    recall  f1-score   support\n",
      "\n",
      "           0       0.81      0.53      0.64       922\n",
      "           1       0.65      0.87      0.74       901\n",
      "\n",
      "   micro avg       0.70      0.70      0.70      1823\n",
      "   macro avg       0.73      0.70      0.69      1823\n",
      "weighted avg       0.73      0.70      0.69      1823\n",
      "\n"
     ]
    }
   ],
   "source": [
    "from sklearn.svm import SVC \n",
    "\n",
    "svclassifier = SVC(kernel='rbf')  \n",
    "svclassifier.fit(X_train, y_train) \n",
    "\n",
    "predictions = svclassifier.predict(X_test) \n",
    "print('Classification report for SVM')\n",
    "print(classification_report(y_test,predictions))"
   ]
  },
  {
   "cell_type": "code",
   "execution_count": 362,
   "metadata": {},
   "outputs": [
    {
     "data": {
      "text/plain": [
       "0.7004936917169501"
      ]
     },
     "execution_count": 362,
     "metadata": {},
     "output_type": "execute_result"
    }
   ],
   "source": [
    "from sklearn.metrics import accuracy_score\n",
    "accuracy_score(y_test, predictions, normalize=True, sample_weight=None)"
   ]
  },
  {
   "cell_type": "code",
   "execution_count": 2480,
   "metadata": {},
   "outputs": [],
   "source": [
    "from xgboost import XGBClassifier"
   ]
  },
  {
   "cell_type": "code",
   "execution_count": 295,
   "metadata": {},
   "outputs": [
    {
     "name": "stdout",
     "output_type": "stream",
     "text": [
      "Classification report for Random forest\n",
      "              precision    recall  f1-score   support\n",
      "\n",
      "           0       0.62      0.72      0.67       922\n",
      "           1       0.66      0.54      0.59       901\n",
      "\n",
      "   micro avg       0.63      0.63      0.63      1823\n",
      "   macro avg       0.64      0.63      0.63      1823\n",
      "weighted avg       0.64      0.63      0.63      1823\n",
      "\n"
     ]
    }
   ],
   "source": [
    "model = XGBClassifier()\n",
    "model.fit(X_train, y_train)\n",
    "\n",
    "y_pred = model.predict(X_test)\n",
    "#predictions = [round(value) for value in y_pred]\n",
    "\n",
    "print('Classification report for Random forest')\n",
    "print(classification_report(y_test,predictions))"
   ]
  },
  {
   "cell_type": "code",
   "execution_count": 88,
   "metadata": {},
   "outputs": [
    {
     "data": {
      "image/png": "[encoded data removed]",
      "text/plain": [
       "<Figure size 576x576 with 1 Axes>"
      ]
     },
     "metadata": {
      "needs_background": "light"
     },
     "output_type": "display_data"
    }
   ],
   "source": [
    "from mpl_toolkits.mplot3d import Axes3D\n",
    "c=0\n",
    "fig2 = plt.figure(figsize=(8,8))\n",
    "ax = fig2.add_subplot(111, projection='3d')\n",
    "for x in range(len(new_big_df)):\n",
    "    if new_big_df.iloc[x,5]==0:\n",
    "        l1=ax.scatter(new_big_df.iloc[x,0],new_big_df.iloc[x,1],new_big_df.iloc[x,2], color='r',label='Control')\n",
    "    else :\n",
    "        l2=ax.scatter(new_big_df.iloc[x,0],new_big_df.iloc[x,1],new_big_df.iloc[x,2],color='b',label='TBI')\n",
    "plt.xlabel('Theta')\n",
    "plt.ylabel('Alpha')\n",
    "ax.set_zlabel('Sigma')\n",
    "plt.legend((l1,l2),('Control','TBI'),loc='upper right')\n",
    "plt.show()"
   ]
  },
  {
   "cell_type": "code",
   "execution_count": null,
   "metadata": {},
   "outputs": [],
   "source": []
  },
  {
   "cell_type": "code",
   "execution_count": null,
   "metadata": {},
   "outputs": [],
   "source": []
  },
  {
   "cell_type": "code",
   "execution_count": null,
   "metadata": {},
   "outputs": [],
   "source": []
  },
  {
   "cell_type": "code",
   "execution_count": 519,
   "metadata": {},
   "outputs": [],
   "source": [
    "df3=pd.read_csv('563_Stage.txt',header=None, index_col=None)\n",
    "df3=df3.drop(df3.index[[0,1,2,3,4,5,6,7,8,9,10,11,12,13,14,15]])\n",
    "\n",
    "df4=pd.read_csv('424_Stage.txt',header=None, index_col=None)\n",
    "df4=df4.drop(df4.index[[0,1,2,3,4,5,6,7,8,9,10,11,12,13,14,15]])"
   ]
  },
  {
   "cell_type": "code",
   "execution_count": 520,
   "metadata": {},
   "outputs": [],
   "source": [
    "x3=df3.loc[16]\n",
    "a3=x3.str.split(expand=True)\n",
    "\n",
    "x4=df4.loc[16]\n",
    "a4=x4.str.split(expand=True)"
   ]
  },
  {
   "cell_type": "code",
   "execution_count": 521,
   "metadata": {},
   "outputs": [],
   "source": [
    "for i in range(17,len(df3)+16):\n",
    "    x3=df3.loc[i]\n",
    "    b3=x3.str.split(expand=True)\n",
    "    a3=a3.append(b3)\n",
    "    \n",
    "for i in range(17,len(df4)+16):\n",
    "    x4=df4.loc[i]\n",
    "    b4=x4.str.split(expand=True)\n",
    "    a4=a4.append(b4)"
   ]
  },
  {
   "cell_type": "code",
   "execution_count": 522,
   "metadata": {},
   "outputs": [],
   "source": [
    "a3.columns = a3.iloc[0]\n",
    "a3 = a3[a3.iloc[:,20] != 'Stg']\n",
    "\n",
    "a4.columns = a4.iloc[0]\n",
    "a4 = a4[a4.iloc[:,20] != 'Stg']"
   ]
  },
  {
   "cell_type": "code",
   "execution_count": 523,
   "metadata": {},
   "outputs": [],
   "source": [
    "import pyedflib\n",
    "f3 = pyedflib.EdfReader(\"563.edf\")\n",
    "\n",
    "f4 = pyedflib.EdfReader(\"424.edf\")"
   ]
  },
  {
   "cell_type": "code",
   "execution_count": 524,
   "metadata": {
    "scrolled": true
   },
   "outputs": [
    {
     "name": "stdout",
     "output_type": "stream",
     "text": [
      "Extracting EDF parameters from 563.edf...\n",
      "EDF file detected\n",
      "Setting channel info structure...\n",
      "Creating raw.info structure...\n",
      "Reading 0 ... 5227399  =      0.000 ... 26136.995 secs...\n"
     ]
    },
    {
     "name": "stderr",
     "output_type": "stream",
     "text": [
      "<ipython-input-524-aaed5c27b6c3>:2: RuntimeWarning: Interpolating stim channel. Events may jitter.\n",
      "  raw3 = mne.io.read_raw_edf(\"563.edf\", preload=True)\n"
     ]
    },
    {
     "name": "stdout",
     "output_type": "stream",
     "text": [
      "Extracting EDF parameters from 424.edf...\n",
      "EDF file detected\n",
      "Setting channel info structure...\n",
      "Creating raw.info structure...\n",
      "Reading 0 ... 5531399  =      0.000 ... 27656.995 secs...\n"
     ]
    }
   ],
   "source": [
    "import mne\n",
    "raw3 = mne.io.read_raw_edf(\"563.edf\", preload=True)\n",
    "raw4 = mne.io.read_raw_edf(\"424.edf\", preload=True)\n",
    "\n",
    "raw3_eeg = raw3[:, :][0]\n",
    "raw4_eeg = raw4[:, :][0]"
   ]
  },
  {
   "cell_type": "code",
   "execution_count": 525,
   "metadata": {},
   "outputs": [],
   "source": [
    "raw_control=(raw3_eeg[2,:])\n",
    "raw_tbi=(raw4_eeg[2,:])"
   ]
  },
  {
   "cell_type": "code",
   "execution_count": 526,
   "metadata": {},
   "outputs": [
    {
     "data": {
      "text/plain": [
       "67"
      ]
     },
     "execution_count": 526,
     "metadata": {},
     "output_type": "execute_result"
    }
   ],
   "source": [
    "j3=0\n",
    "k3=[0]*67\n",
    "data_control=np.zeros((67,(200*60)))\n",
    "for i in range(len(a3)-1):\n",
    "    if j3==0:\n",
    "        if a3.iloc[i,20]=='W':\n",
    "            if a3.iloc[i+1,20]=='W':\n",
    "                data_control[j3]=raw_control[i*200*30:i*200*30+(200*60)]\n",
    "                k3[j3]=i+1\n",
    "                j3=j3+1\n",
    "                \n",
    "    else:\n",
    "        if i>k3[j3-1]:\n",
    "            if a3.iloc[i,20]=='W':\n",
    "                if a3.iloc[i+1,20]=='W':\n",
    "                    data_control[j3]=raw_control[i*200*30:i*200*30+(200*60)]\n",
    "                    k3[j3]=i+1\n",
    "                    j3=j3+1\n",
    "j3  "
   ]
  },
  {
   "cell_type": "code",
   "execution_count": 527,
   "metadata": {},
   "outputs": [
    {
     "data": {
      "text/plain": [
       "45"
      ]
     },
     "execution_count": 527,
     "metadata": {},
     "output_type": "execute_result"
    }
   ],
   "source": [
    "j4=0\n",
    "k4=[0]*45\n",
    "data_tbi=np.zeros((45,(200*60)))\n",
    "for i in range(len(a4)-1):\n",
    "    if j4==0:\n",
    "        if a4.iloc[i,20]=='W':\n",
    "            if a4.iloc[i+1,20]=='W':\n",
    "                data_tbi[j4]=raw_tbi[i*200*30:i*200*30+(200*60)]\n",
    "                k4[j4]=i+1\n",
    "                j4=j4+1\n",
    "                \n",
    "    else:\n",
    "        if i>k4[j4-1]:\n",
    "            if a4.iloc[i,20]=='W':\n",
    "                if a4.iloc[i+1,20]=='W':\n",
    "                    data_tbi[j4]=raw_tbi[i*200*30:i*200*30+(200*60)]\n",
    "                    k4[j4]=i+1\n",
    "                    j4=j4+1\n",
    "j4  "
   ]
  },
  {
   "cell_type": "code",
   "execution_count": 528,
   "metadata": {},
   "outputs": [],
   "source": [
    "s3=(len(data_control),200*60)\n",
    "\n",
    "fil_theta3=np.zeros(s3)\n",
    "fil_alpha3=np.zeros(s3)\n",
    "fil_sigma3=np.zeros(s3)\n",
    "fil_beta3=np.zeros(s3)\n",
    "fil_gama3=np.zeros(s3)\n",
    "\n",
    "for i in range(len(data_control)):\n",
    "    fil_theta3[i]= butter_bandpass_filter(data_control[i], 4, 7.5, 256, 6)\n",
    "    fil_alpha3[i]= butter_bandpass_filter(data_control[i], 8, 12, 256, 6)\n",
    "    fil_sigma3[i] = butter_bandpass_filter(data_control[i], 13, 16, 256, 6)\n",
    "    fil_beta3[i] = butter_bandpass_filter(data_control[i], 16.5, 25, 256, 6)\n",
    "    fil_gama3[i] = butter_bandpass_filter(data_control[i], 30, 35, 256, 6)\n",
    "    \n",
    "fft_wake_theta3=[0]*len(data_control)\n",
    "fft_wake_alpha3=[0]*len(data_control)\n",
    "fft_wake_sigma3=[0]*len(data_control)\n",
    "fft_wake_beta3=[0]*len(data_control)\n",
    "fft_wake_gama3=[0]*len(data_control)\n",
    "for i in range(len(data_control)):\n",
    "    fft_wake_theta3[i] = (abs(np.fft.fft(fil_theta3[i])))**2\n",
    "    fft_wake_alpha3[i] = (abs(np.fft.fft(fil_alpha3[i])))**2\n",
    "    fft_wake_sigma3[i] = (abs(np.fft.fft(fil_sigma3[i])))**2\n",
    "    fft_wake_beta3[i] = (abs(np.fft.fft(fil_beta3[i])))**2\n",
    "    fft_wake_gama3[i] = (abs(np.fft.fft(fil_gama3[i])))**2\n",
    "mean_wake_theta3=np.mean(fft_wake_theta3,axis=1)\n",
    "mean_wake_alpha3=np.mean(fft_wake_alpha3,axis=1)\n",
    "mean_wake_sigma3=np.mean(fft_wake_sigma3,axis=1)\n",
    "mean_wake_beta3=np.mean(fft_wake_beta3,axis=1)\n",
    "mean_wake_gama3=np.mean(fft_wake_gama3,axis=1)"
   ]
  },
  {
   "cell_type": "code",
   "execution_count": 529,
   "metadata": {},
   "outputs": [],
   "source": [
    "s4=(len(data_tbi),200*60)\n",
    "\n",
    "fil_theta4=np.zeros(s4)\n",
    "fil_alpha4=np.zeros(s4)\n",
    "fil_sigma4=np.zeros(s4)\n",
    "fil_beta4=np.zeros(s4)\n",
    "fil_gama4=np.zeros(s4)\n",
    "\n",
    "for i in range(len(data_tbi)):\n",
    "    fil_theta4[i]= butter_bandpass_filter(data_tbi[i], 4, 7.5, 256, 6)\n",
    "    fil_alpha4[i]= butter_bandpass_filter(data_tbi[i], 8, 12, 256, 6)\n",
    "    fil_sigma4[i] = butter_bandpass_filter(data_tbi[i], 13, 16, 256, 6)\n",
    "    fil_beta4[i] = butter_bandpass_filter(data_tbi[i], 16.5, 25, 256, 6)\n",
    "    fil_gama4[i] = butter_bandpass_filter(data_tbi[i], 30, 35, 256, 6)\n",
    "    \n",
    "fft_wake_theta4=[0]*len(data_tbi)\n",
    "fft_wake_alpha4=[0]*len(data_tbi)\n",
    "fft_wake_sigma4=[0]*len(data_tbi)\n",
    "fft_wake_beta4=[0]*len(data_tbi)\n",
    "fft_wake_gama4=[0]*len(data_tbi)\n",
    "for i in range(len(data_tbi)):\n",
    "    fft_wake_theta4[i] = (abs(np.fft.fft(fil_theta4[i])))**2\n",
    "    fft_wake_alpha4[i] = (abs(np.fft.fft(fil_alpha4[i])))**2\n",
    "    fft_wake_sigma4[i] = (abs(np.fft.fft(fil_sigma4[i])))**2\n",
    "    fft_wake_beta4[i] = (abs(np.fft.fft(fil_beta4[i])))**2\n",
    "    fft_wake_gama4[i] = (abs(np.fft.fft(fil_gama4[i])))**2\n",
    "mean_wake_theta4=np.mean(fft_wake_theta4,axis=1)\n",
    "mean_wake_alpha4=np.mean(fft_wake_alpha4,axis=1)\n",
    "mean_wake_sigma4=np.mean(fft_wake_sigma4,axis=1)\n",
    "mean_wake_beta4=np.mean(fft_wake_beta4,axis=1)\n",
    "mean_wake_gama4=np.mean(fft_wake_gama4,axis=1)"
   ]
  },
  {
   "cell_type": "code",
   "execution_count": 436,
   "metadata": {},
   "outputs": [],
   "source": [
    "new_df_human3= pd.DataFrame({\n",
    "'mean_theta':mean_wake_theta3,\n",
    "'mean_alpha':mean_wake_alpha3,\n",
    "'mean_sigma':mean_wake_sigma3,\n",
    "'mean_beta':mean_wake_beta3,\n",
    "'mean_gama':mean_wake_gama3,\n",
    "'label':0\n",
    "})\n",
    "\n",
    "new_df_human4= pd.DataFrame({\n",
    "'mean_theta':mean_wake_theta4,\n",
    "'mean_alpha':mean_wake_alpha4,\n",
    "'mean_sigma':mean_wake_sigma4,\n",
    "'mean_beta':mean_wake_beta4,\n",
    "'mean_gama':mean_wake_gama4,\n",
    "'label':1\n",
    "})\n",
    "\n",
    "human_df=new_df_human3.append(new_df_human4, ignore_index=True)"
   ]
  },
  {
   "cell_type": "code",
   "execution_count": 532,
   "metadata": {},
   "outputs": [],
   "source": [
    "new_df_human3= pd.DataFrame({\n",
    "'mean_theta':10*np.log10(mean_wake_theta3/base_sham_theta),\n",
    "'mean_alpha':10*np.log10(mean_wake_alpha3/base_sham_alpha),\n",
    "'mean_sigma':10*np.log10(mean_wake_sigma3/base_sham_sigma),\n",
    "'mean_beta':10*np.log10(mean_wake_beta3/base_sham_beta),\n",
    "'mean_gama':10*np.log10(mean_wake_gama3/base_sham_gama),\n",
    "'label':0\n",
    "})\n",
    "\n",
    "new_df_human4= pd.DataFrame({\n",
    "'mean_theta':10*np.log10(mean_wake_theta4/base_tbi_theta),\n",
    "'mean_alpha':10*np.log10(mean_wake_alpha4/base_tbi_alpha),\n",
    "'mean_sigma':10*np.log10(mean_wake_sigma4/base_tbi_sigma),\n",
    "'mean_beta':10*np.log10(mean_wake_beta4/base_tbi_beta),\n",
    "'mean_gama':10*np.log10(mean_wake_gama4/base_tbi_gama),\n",
    "'label':1\n",
    "})\n",
    "\n",
    "human_df=new_df_human3.append(new_df_human4, ignore_index=True)"
   ]
  },
  {
   "cell_type": "code",
   "execution_count": 533,
   "metadata": {},
   "outputs": [],
   "source": [
    "human_df = shuffle(human_df)"
   ]
  },
  {
   "cell_type": "code",
   "execution_count": 438,
   "metadata": {},
   "outputs": [],
   "source": [
    "for i in range(len(human_df.iloc[0])-1):\n",
    "    col_mean2=np.mean(human_df.iloc[:,i])\n",
    "    human_df.iloc[:,i]=human_df.iloc[:,i]-col_mean2\n",
    "    col_std2=np.std(human_df.iloc[:,i])\n",
    "    human_df.iloc[:,i]=human_df.iloc[:,i]/col_std2"
   ]
  },
  {
   "cell_type": "code",
   "execution_count": 535,
   "metadata": {},
   "outputs": [],
   "source": [
    "for i in range(len(human_df.iloc[0])-1):\n",
    "    #col_mean2=np.mean(human_df.iloc[:,i])\n",
    "    human_df.iloc[:,i]=human_df.iloc[:,i]-col_mean[i]\n",
    "    #col_std2=np.std(human_df.iloc[:,i])\n",
    "    human_df.iloc[:,i]=human_df.iloc[:,i]/col_std[i]"
   ]
  },
  {
   "cell_type": "code",
   "execution_count": 323,
   "metadata": {},
   "outputs": [],
   "source": [
    "combine_df=big_df.append(human_df, ignore_index=True)"
   ]
  },
  {
   "cell_type": "code",
   "execution_count": 324,
   "metadata": {},
   "outputs": [],
   "source": [
    "combine_df = shuffle(combine_df)"
   ]
  },
  {
   "cell_type": "code",
   "execution_count": 49,
   "metadata": {
    "scrolled": true
   },
   "outputs": [
    {
     "ename": "NameError",
     "evalue": "name 'combine_df' is not defined",
     "output_type": "error",
     "traceback": [
      "\u001b[1;31m---------------------------------------------------------------------------\u001b[0m",
      "\u001b[1;31mNameError\u001b[0m                                 Traceback (most recent call last)",
      "\u001b[1;32m<ipython-input-49-f09fe5f9c7a7>\u001b[0m in \u001b[0;36m<module>\u001b[1;34m\u001b[0m\n\u001b[1;32m----> 1\u001b[1;33m \u001b[0mcombine_df\u001b[0m\u001b[1;33m\u001b[0m\u001b[1;33m\u001b[0m\u001b[0m\n\u001b[0m",
      "\u001b[1;31mNameError\u001b[0m: name 'combine_df' is not defined"
     ]
    }
   ],
   "source": [
    "combine_df"
   ]
  },
  {
   "cell_type": "code",
   "execution_count": 326,
   "metadata": {},
   "outputs": [],
   "source": [
    "from sklearn.model_selection import train_test_split\n",
    "X=combine_df.drop('label',axis=1)\n",
    "y=combine_df['label']\n",
    "X_train, X_test, y_train, y_test = train_test_split(X, y, test_size=0.3, random_state=101)"
   ]
  },
  {
   "cell_type": "code",
   "execution_count": 355,
   "metadata": {},
   "outputs": [],
   "source": [
    "big_df=big_df3.append(new_big_df, ignore_index=True)"
   ]
  },
  {
   "cell_type": "code",
   "execution_count": 536,
   "metadata": {},
   "outputs": [],
   "source": [
    "X_train=new_big_df.drop('label',axis=1)\n",
    "y_train=new_big_df['label']\n",
    "\n",
    "X_test=human_df.drop('label',axis=1)\n",
    "y_test=human_df['label']"
   ]
  },
  {
   "cell_type": "code",
   "execution_count": 539,
   "metadata": {},
   "outputs": [
    {
     "name": "stdout",
     "output_type": "stream",
     "text": [
      "              precision    recall  f1-score   support\n",
      "\n",
      "           0       0.00      0.00      0.00        67\n",
      "           1       0.40      1.00      0.57        45\n",
      "\n",
      "   micro avg       0.40      0.40      0.40       112\n",
      "   macro avg       0.20      0.50      0.29       112\n",
      "weighted avg       0.16      0.40      0.23       112\n",
      "\n"
     ]
    },
    {
     "name": "stderr",
     "output_type": "stream",
     "text": [
      "D:\\Anaconda3\\lib\\site-packages\\sklearn\\metrics\\classification.py:1143: UndefinedMetricWarning: Precision and F-score are ill-defined and being set to 0.0 in labels with no predicted samples.\n",
      "  'precision', 'predicted', average, warn_for)\n"
     ]
    }
   ],
   "source": [
    "from sklearn.tree import DecisionTreeClassifier\n",
    "dtree = DecisionTreeClassifier()\n",
    "dtree.fit(X_train,y_train)\n",
    "predictions=dtree.predict(X_test)\n",
    "\n",
    "from sklearn.metrics import classification_report,confusion_matrix\n",
    "print(classification_report(y_test,predictions))"
   ]
  },
  {
   "cell_type": "code",
   "execution_count": 541,
   "metadata": {},
   "outputs": [
    {
     "name": "stdout",
     "output_type": "stream",
     "text": [
      "Classification report for kNN\n",
      "              precision    recall  f1-score   support\n",
      "\n",
      "           0       0.00      0.00      0.00        67\n",
      "           1       0.40      1.00      0.57        45\n",
      "\n",
      "   micro avg       0.40      0.40      0.40       112\n",
      "   macro avg       0.20      0.50      0.29       112\n",
      "weighted avg       0.16      0.40      0.23       112\n",
      "\n"
     ]
    },
    {
     "name": "stderr",
     "output_type": "stream",
     "text": [
      "D:\\Anaconda3\\lib\\site-packages\\sklearn\\metrics\\classification.py:1143: UndefinedMetricWarning: Precision and F-score are ill-defined and being set to 0.0 in labels with no predicted samples.\n",
      "  'precision', 'predicted', average, warn_for)\n"
     ]
    }
   ],
   "source": [
    "from sklearn.neighbors import KNeighborsClassifier\n",
    "\n",
    "classifier = KNeighborsClassifier(n_neighbors=1000)  \n",
    "classifier.fit(X_train, y_train) \n",
    "y_pred = classifier.predict(X_test) \n",
    "print('Classification report for kNN')\n",
    "print(classification_report(y_test, y_pred))"
   ]
  },
  {
   "cell_type": "code",
   "execution_count": 542,
   "metadata": {},
   "outputs": [
    {
     "data": {
      "text/plain": [
       "Text(0, 0.5, 'Mean Error')"
      ]
     },
     "execution_count": 542,
     "metadata": {},
     "output_type": "execute_result"
    },
    {
     "data": {
      "image/png": "[encoded data removed]",
      "text/plain": [
       "<Figure size 864x432 with 1 Axes>"
      ]
     },
     "metadata": {
      "needs_background": "light"
     },
     "output_type": "display_data"
    }
   ],
   "source": [
    "error = []\n",
    "\n",
    "for i in range(1, 1200, 50):  \n",
    "    knn = KNeighborsClassifier(n_neighbors=i)\n",
    "    knn.fit(X_train, y_train)\n",
    "    pred_i = knn.predict(X_test)\n",
    "    error.append(np.mean(pred_i != y_test))\n",
    "\n",
    "plt.figure(figsize=(12, 6))  \n",
    "plt.plot(range(1, 1200, 50), error, color='red', linestyle='dashed', marker='o', markerfacecolor='blue', markersize=10)\n",
    "plt.title('Error Rate V/S K Value')  \n",
    "plt.xlabel('K Value')  \n",
    "plt.ylabel('Mean Error')"
   ]
  },
  {
   "cell_type": "code",
   "execution_count": 543,
   "metadata": {},
   "outputs": [
    {
     "name": "stdout",
     "output_type": "stream",
     "text": [
      "Classification report for Neural_network\n",
      "              precision    recall  f1-score   support\n",
      "\n",
      "           0       0.00      0.00      0.00        67\n",
      "           1       0.40      1.00      0.57        45\n",
      "\n",
      "   micro avg       0.40      0.40      0.40       112\n",
      "   macro avg       0.20      0.50      0.29       112\n",
      "weighted avg       0.16      0.40      0.23       112\n",
      "\n"
     ]
    },
    {
     "name": "stderr",
     "output_type": "stream",
     "text": [
      "D:\\Anaconda3\\lib\\site-packages\\sklearn\\metrics\\classification.py:1143: UndefinedMetricWarning: Precision and F-score are ill-defined and being set to 0.0 in labels with no predicted samples.\n",
      "  'precision', 'predicted', average, warn_for)\n"
     ]
    }
   ],
   "source": [
    "from sklearn.neural_network import MLPClassifier\n",
    "mlp = MLPClassifier(hidden_layer_sizes=(100,100),max_iter=10000)\n",
    "mlp.fit(X_train,y_train)\n",
    "predictions = mlp.predict(X_test)\n",
    "print('Classification report for Neural_network')\n",
    "print(classification_report(y_test,predictions))"
   ]
  },
  {
   "cell_type": "code",
   "execution_count": 544,
   "metadata": {},
   "outputs": [
    {
     "name": "stdout",
     "output_type": "stream",
     "text": [
      "Classification report for Random forest\n",
      "              precision    recall  f1-score   support\n",
      "\n",
      "           0       0.00      0.00      0.00        67\n",
      "           1       0.40      1.00      0.57        45\n",
      "\n",
      "   micro avg       0.40      0.40      0.40       112\n",
      "   macro avg       0.20      0.50      0.29       112\n",
      "weighted avg       0.16      0.40      0.23       112\n",
      "\n"
     ]
    },
    {
     "name": "stderr",
     "output_type": "stream",
     "text": [
      "D:\\Anaconda3\\lib\\site-packages\\sklearn\\ensemble\\forest.py:246: FutureWarning: The default value of n_estimators will change from 10 in version 0.20 to 100 in 0.22.\n",
      "  \"10 in version 0.20 to 100 in 0.22.\", FutureWarning)\n",
      "D:\\Anaconda3\\lib\\site-packages\\sklearn\\metrics\\classification.py:1143: UndefinedMetricWarning: Precision and F-score are ill-defined and being set to 0.0 in labels with no predicted samples.\n",
      "  'precision', 'predicted', average, warn_for)\n"
     ]
    }
   ],
   "source": [
    "# Import the model we are using\n",
    "from sklearn.ensemble import RandomForestClassifier\n",
    "\n",
    "clf = RandomForestClassifier()\n",
    "clf.fit(X_train, y_train)\n",
    "\n",
    "predictions = clf.predict(X_test)\n",
    "print('Classification report for Random forest')\n",
    "print(classification_report(y_test,predictions))"
   ]
  },
  {
   "cell_type": "code",
   "execution_count": 340,
   "metadata": {},
   "outputs": [
    {
     "data": {
      "image/png": "[encoded data removed]",
      "text/plain": [
       "<Figure size 576x576 with 1 Axes>"
      ]
     },
     "metadata": {
      "needs_background": "light"
     },
     "output_type": "display_data"
    }
   ],
   "source": [
    "from mpl_toolkits.mplot3d import Axes3D\n",
    "c=0\n",
    "fig2 = plt.figure(figsize=(8,8))\n",
    "ax = fig2.add_subplot(111, projection='3d')\n",
    "for x in range(len(combine_df)):\n",
    "    if combine_df.iloc[x,5]==0:\n",
    "        l1=ax.scatter(combine_df.iloc[x,1],combine_df.iloc[x,2],combine_df.iloc[x,3], color='r',label='Control')\n",
    "    else :\n",
    "        l2=ax.scatter(combine_df.iloc[x,1],combine_df.iloc[x,2],combine_df.iloc[x,3],color='b',label='TBI')\n",
    "plt.xlabel('Gama')\n",
    "plt.ylabel('Alpha')\n",
    "ax.set_zlabel('Beta')\n",
    "plt.legend((l1,l2),('Control','TBI'),loc='upper right')\n",
    "plt.show()"
   ]
  },
  {
   "cell_type": "code",
   "execution_count": 47,
   "metadata": {},
   "outputs": [
    {
     "data": {
      "image/png": "[encoded data removed]",
      "text/plain": [
       "<Figure size 432x288 with 1 Axes>"
      ]
     },
     "metadata": {
      "needs_background": "light"
     },
     "output_type": "display_data"
    }
   ],
   "source": [
    "Decision_tree = [94,95,99]\n",
    "kNN= [96,97,98]\n",
    "Neural_network= [96,97,99]\n",
    "Random_forest= [96,97,99]\n",
    "SVM = [95,98,99]\n",
    "index = ['1/2min', '1min', '2min']\n",
    "df3 = pd.DataFrame({'Decision_tree': Decision_tree,'Random_forest': Random_forest,'Neural_network': Neural_network,'kNN': kNN,'SVM':SVM}, index=index)\n",
    "ax = df3.plot.bar(rot=0)\n",
    "ax.set_ylim([92,100])\n",
    "plt.xlabel('Epoch length')\n",
    "plt.ylabel('Classification accuracy')\n",
    "ax.grid(zorder=0)"
   ]
  },
  {
   "cell_type": "code",
   "execution_count": 144,
   "metadata": {},
   "outputs": [
    {
     "data": {
      "image/png": "[encoded data removed]",
      "text/plain": [
       "<Figure size 432x288 with 1 Axes>"
      ]
     },
     "metadata": {
      "needs_background": "light"
     },
     "output_type": "display_data"
    }
   ],
   "source": [
    "sham_means, sham_std = (np.mean(sham_mean_theta1), np.mean(sham_mean_theta2), np.mean(sham_mean_theta3)), (np.std(sham_mean_theta1), np.std(sham_mean_theta2), np.std(sham_mean_theta3))\n",
    "tbi_means, tbi_std = (np.mean(tbi_mean_theta1), np.mean(tbi_mean_theta2), np.mean(tbi_mean_theta3)), (np.std(tbi_mean_theta1), np.std(tbi_mean_theta2), np.std(tbi_mean_theta3))\n",
    "\n",
    "ind = np.arange(len(sham_means))  # the x locations for the groups\n",
    "width = 0.35  # the width of the bars\n",
    "\n",
    "fig, ax = plt.subplots()\n",
    "rects1 = ax.bar(ind - width/2, sham_means, width, yerr=sham_std,\n",
    "                label='Men')\n",
    "rects2 = ax.bar(ind + width/2, tbi_means, width, yerr=tbi_std,\n",
    "                label='Women')"
   ]
  },
  {
   "cell_type": "code",
   "execution_count": 148,
   "metadata": {},
   "outputs": [
    {
     "data": {
      "text/plain": [
       "F_onewayResult(statistic=83.05689635747176, pvalue=1.499938805758968e-35)"
      ]
     },
     "execution_count": 148,
     "metadata": {},
     "output_type": "execute_result"
    }
   ],
   "source": [
    "import scipy.stats as stats\n",
    "stats.f_oneway(sham_mean_theta1, sham_mean_theta2, sham_mean_theta3)"
   ]
  },
  {
   "cell_type": "code",
   "execution_count": 2655,
   "metadata": {},
   "outputs": [],
   "source": [
    "np.savetxt('extract1.txt', sham_extract1, fmt=\"%f\")"
   ]
  },
  {
   "cell_type": "code",
   "execution_count": 2659,
   "metadata": {},
   "outputs": [
    {
     "name": "stderr",
     "output_type": "stream",
     "text": [
      "IOPub data rate exceeded.\n",
      "The notebook server will temporarily stop sending output\n",
      "to the client in order to avoid crashing it.\n",
      "To change this limit, set the config variable\n",
      "`--NotebookApp.iopub_data_rate_limit`.\n",
      "\n",
      "Current values:\n",
      "NotebookApp.iopub_data_rate_limit=1000000.0 (bytes/sec)\n",
      "NotebookApp.rate_limit_window=3.0 (secs)\n",
      "\n"
     ]
    }
   ],
   "source": [
    "file = open('extract1.txt', 'r') \n",
    "print(file.read())"
   ]
  },
  {
   "cell_type": "code",
   "execution_count": null,
   "metadata": {},
   "outputs": [],
   "source": []
  }
 ],
 "metadata": {
  "kernelspec": {
   "display_name": "Python 3",
   "language": "python",
   "name": "python3"
  },
  "language_info": {
   "codemirror_mode": {
    "name": "ipython",
    "version": 3
   },
   "file_extension": ".py",
   "mimetype": "text/x-python",
   "name": "python",
   "nbconvert_exporter": "python",
   "pygments_lexer": "ipython3",
   "version": "3.7.1"
  }
 },
 "nbformat": 4,
 "nbformat_minor": 2
}
