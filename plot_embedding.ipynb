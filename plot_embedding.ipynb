{
 "cells": [
  {
   "cell_type": "code",
   "execution_count": 1,
   "metadata": {},
   "outputs": [],
   "source": [
    "from featureextraction import generate_embeddings\n",
    "import h5py\n",
    "import matplotlib.pyplot as plt\n",
    "from models import get_baseline_convolutional_encoder, build_siamese_net\n",
    "import numpy as np\n",
    "import os\n",
    "import random\n",
    "from scipy.signal import decimate\n",
    "from sklearn.manifold import TSNE\n",
    "import tensorflow as tf\n",
    "import yaml"
   ]
  },
  {
   "cell_type": "code",
   "execution_count": null,
   "metadata": {},
   "outputs": [],
   "source": [
    "# define species set\n",
    "dataset_folds = [line.rstrip().split(',') for line in open('cv_folds.txt')]\n",
    "train_set = dataset_folds[0][0:7]\n",
    "test_set = dataset_folds[0][7:]\n",
    "\n",
    "# load parameters from config_file\n",
    "config_file = 'siam13_4c_ew32_25.yaml'\n",
    "models_path = 'models'\n",
    "model_file = os.path.join(models_path, config_file)\n",
    "with open(model_file) as cfile:\n",
    "    config_params = yaml.safe_load(cfile)\n",
    "eeg_epoch_width_in_s = config_params['epoch_width']\n",
    "num_classes = config_params['num_classes']\n",
    "decimate_factor = 4"
   ]
  },
  {
   "cell_type": "code",
   "execution_count": null,
   "metadata": {},
   "outputs": [],
   "source": [
    "# read EEG epochs - randomly sample num_samples from each class of each species\n",
    "num_samples = 128\n",
    "epochs_path = 'data/epochs_{}c'.format(num_classes)\n",
    "file_template = '{}_BL5_ew{}.h5'\n",
    "train_sw_s_epochs = []\n",
    "train_ss_s_epochs = []\n",
    "train_tw_s_epochs = []\n",
    "train_ts_s_epochs = []\n",
    "for species in train_set:\n",
    "    print('Working on', species)\n",
    "    file_path = os.path.join(epochs_path, file_template.format(species, eeg_epoch_width_in_s))\n",
    "    with h5py.File(file_path, 'r') as file:\n",
    "        if 'Sham' in species:\n",
    "            train_sw_s_epochs.extend(random.sample(list(file['eeg']['wake']), num_samples))\n",
    "            train_ss_s_epochs.extend(random.sample(list(file['eeg']['sleep']), num_samples))\n",
    "        elif 'TBI' in species:\n",
    "            train_tw_s_epochs.extend(random.sample(list(file['eeg']['wake']), num_samples))\n",
    "            train_ts_s_epochs.extend(random.sample(list(file['eeg']['sleep']), num_samples))\n",
    "test_sw_s_epochs = []\n",
    "test_ss_s_epochs = []\n",
    "test_tw_s_epochs = []\n",
    "test_ts_s_epochs = []\n",
    "for species in test_set:\n",
    "    print('Working on', species)\n",
    "    file_path = os.path.join(epochs_path, file_template.format(species, eeg_epoch_width_in_s))\n",
    "    with h5py.File(file_path, 'r') as file:\n",
    "        if 'Sham' in species:\n",
    "            test_sw_s_epochs.extend(random.sample(list(file['eeg']['wake']), num_samples))\n",
    "            test_ss_s_epochs.extend(random.sample(list(file['eeg']['sleep']), num_samples))\n",
    "        elif 'TBI' in species:\n",
    "            test_tw_s_epochs.extend(random.sample(list(file['eeg']['wake']), num_samples))\n",
    "            test_ts_s_epochs.extend(random.sample(list(file['eeg']['sleep']), num_samples))"
   ]
  },
  {
   "cell_type": "code",
   "execution_count": null,
   "metadata": {},
   "outputs": [],
   "source": [
    "# generate embeddings for EEG epochs\n",
    "train_sw_epochs = generate_embeddings(decimate(train_sw_s_epochs, 4), model_file)\n",
    "train_ss_epochs = generate_embeddings(decimate(train_ss_s_epochs, 4), model_file)\n",
    "train_tw_epochs = generate_embeddings(decimate(train_tw_s_epochs, 4), model_file)\n",
    "train_ts_epochs = generate_embeddings(decimate(train_ts_s_epochs, 4), model_file)\n",
    "test_sw_epochs = generate_embeddings(decimate(test_sw_s_epochs, 4), model_file)\n",
    "test_ss_epochs = generate_embeddings(decimate(test_ss_s_epochs, 4), model_file)\n",
    "test_tw_epochs = generate_embeddings(decimate(test_tw_s_epochs, 4), model_file)\n",
    "test_ts_epochs = generate_embeddings(decimate(test_ts_s_epochs, 4), model_file)"
   ]
  },
  {
   "cell_type": "code",
   "execution_count": null,
   "metadata": {},
   "outputs": [],
   "source": [
    "# reduce dimensionality using t-SNE\n",
    "tsne = TSNE(perplexity=30, early_exaggeration=12.0, learning_rate=600.0, method='exact', init='pca', verbose=1,\n",
    "            n_iter=40000)\n",
    "train_sw_epochs = tsne.fit_transform(train_sw_epochs)\n",
    "train_ss_epochs = tsne.fit_transform(train_ss_epochs)\n",
    "train_tw_epochs = tsne.fit_transform(train_tw_epochs)\n",
    "train_ts_epochs = tsne.fit_transform(train_ts_epochs)\n",
    "test_sw_epochs = tsne.fit_transform(test_sw_epochs)\n",
    "test_ss_epochs = tsne.fit_transform(test_ss_epochs)\n",
    "test_tw_epochs = tsne.fit_transform(test_tw_epochs)\n",
    "test_ts_epochs = tsne.fit_transform(test_ts_epochs)"
   ]
  },
  {
   "cell_type": "code",
   "execution_count": null,
   "metadata": {},
   "outputs": [],
   "source": [
    "# plot embeddings\n",
    "plt.figure(figsize=(24.0, 24.0))\n",
    "fig, ax = plt.subplots()\n",
    "ax.scatter(train_sw_epochs[:, 0], train_sw_epochs[:, 1], label='train_sw')\n",
    "ax.scatter(train_ss_epochs[:, 0], train_ss_epochs[:, 1],label='train_ss')\n",
    "ax.scatter(train_tw_epochs[:, 0], train_tw_epochs[:, 1], label='train_tw')\n",
    "ax.scatter(train_ts_epochs[:, 0], train_ts_epochs[:, 1], label='train_ts')\n",
    "ax.legend()\n",
    "ax.grid(True)\n",
    "plt.savefig('{}_train.png'.format(config_file))\n",
    "plt.show()"
   ]
  },
  {
   "cell_type": "code",
   "execution_count": null,
   "metadata": {},
   "outputs": [],
   "source": [
    "plot embeddings\n",
    "plt.figure(figsize=(24.0, 24.0))\n",
    "fig, ax = plt.subplots()\n",
    "ax.scatter(test_sw_epochs[:, 0], test_sw_epochs[:, 1], label='test_sw')\n",
    "ax.scatter(test_ss_epochs[:, 0], test_ss_epochs[:, 1], label='test_ss')\n",
    "ax.scatter(test_tw_epochs[:, 0], test_tw_epochs[:, 1], label='test_tw')\n",
    "ax.scatter(test_ts_epochs[:, 0], test_ts_epochs[:, 1], label='test_ts')\n",
    "x.legend()\n",
    "ax.grid(True)\n",
    "plt.savefig('{}_test.png'.format(config_file))\n",
    "plt.show()"
   ]
  }
 ],
 "metadata": {
  "kernelspec": {
   "display_name": "Python 3",
   "language": "python",
   "name": "python3"
  },
  "language_info": {
   "codemirror_mode": {
    "name": "ipython",
    "version": 3
   },
   "file_extension": ".py",
   "mimetype": "text/x-python",
   "name": "python",
   "nbconvert_exporter": "python",
   "pygments_lexer": "ipython3",
   "version": "3.7.4-final"
  }
 },
 "nbformat": 4,
 "nbformat_minor": 4
}