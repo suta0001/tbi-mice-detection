{
 "cells": [
  {
   "cell_type": "code",
   "execution_count": 1,
   "metadata": {},
   "outputs": [
    {
     "name": "stderr",
     "output_type": "stream",
     "text": [
      "/home/NETID/sutandia/venv/capstone/lib/python3.6/site-packages/tensorflow/python/framework/dtypes.py:516: FutureWarning: Passing (type, 1) or '1type' as a synonym of type is deprecated; in a future version of numpy, it will be understood as (type, (1,)) / '(1,)type'.\n",
      "  _np_qint8 = np.dtype([(\"qint8\", np.int8, 1)])\n",
      "/home/NETID/sutandia/venv/capstone/lib/python3.6/site-packages/tensorflow/python/framework/dtypes.py:517: FutureWarning: Passing (type, 1) or '1type' as a synonym of type is deprecated; in a future version of numpy, it will be understood as (type, (1,)) / '(1,)type'.\n",
      "  _np_quint8 = np.dtype([(\"quint8\", np.uint8, 1)])\n",
      "/home/NETID/sutandia/venv/capstone/lib/python3.6/site-packages/tensorflow/python/framework/dtypes.py:518: FutureWarning: Passing (type, 1) or '1type' as a synonym of type is deprecated; in a future version of numpy, it will be understood as (type, (1,)) / '(1,)type'.\n",
      "  _np_qint16 = np.dtype([(\"qint16\", np.int16, 1)])\n",
      "/home/NETID/sutandia/venv/capstone/lib/python3.6/site-packages/tensorflow/python/framework/dtypes.py:519: FutureWarning: Passing (type, 1) or '1type' as a synonym of type is deprecated; in a future version of numpy, it will be understood as (type, (1,)) / '(1,)type'.\n",
      "  _np_quint16 = np.dtype([(\"quint16\", np.uint16, 1)])\n",
      "/home/NETID/sutandia/venv/capstone/lib/python3.6/site-packages/tensorflow/python/framework/dtypes.py:520: FutureWarning: Passing (type, 1) or '1type' as a synonym of type is deprecated; in a future version of numpy, it will be understood as (type, (1,)) / '(1,)type'.\n",
      "  _np_qint32 = np.dtype([(\"qint32\", np.int32, 1)])\n",
      "/home/NETID/sutandia/venv/capstone/lib/python3.6/site-packages/tensorflow/python/framework/dtypes.py:525: FutureWarning: Passing (type, 1) or '1type' as a synonym of type is deprecated; in a future version of numpy, it will be understood as (type, (1,)) / '(1,)type'.\n",
      "  np_resource = np.dtype([(\"resource\", np.ubyte, 1)])\n",
      "/home/NETID/sutandia/venv/capstone/lib/python3.6/site-packages/tensorboard/compat/tensorflow_stub/dtypes.py:541: FutureWarning: Passing (type, 1) or '1type' as a synonym of type is deprecated; in a future version of numpy, it will be understood as (type, (1,)) / '(1,)type'.\n",
      "  _np_qint8 = np.dtype([(\"qint8\", np.int8, 1)])\n",
      "/home/NETID/sutandia/venv/capstone/lib/python3.6/site-packages/tensorboard/compat/tensorflow_stub/dtypes.py:542: FutureWarning: Passing (type, 1) or '1type' as a synonym of type is deprecated; in a future version of numpy, it will be understood as (type, (1,)) / '(1,)type'.\n",
      "  _np_quint8 = np.dtype([(\"quint8\", np.uint8, 1)])\n",
      "/home/NETID/sutandia/venv/capstone/lib/python3.6/site-packages/tensorboard/compat/tensorflow_stub/dtypes.py:543: FutureWarning: Passing (type, 1) or '1type' as a synonym of type is deprecated; in a future version of numpy, it will be understood as (type, (1,)) / '(1,)type'.\n",
      "  _np_qint16 = np.dtype([(\"qint16\", np.int16, 1)])\n",
      "/home/NETID/sutandia/venv/capstone/lib/python3.6/site-packages/tensorboard/compat/tensorflow_stub/dtypes.py:544: FutureWarning: Passing (type, 1) or '1type' as a synonym of type is deprecated; in a future version of numpy, it will be understood as (type, (1,)) / '(1,)type'.\n",
      "  _np_quint16 = np.dtype([(\"quint16\", np.uint16, 1)])\n",
      "/home/NETID/sutandia/venv/capstone/lib/python3.6/site-packages/tensorboard/compat/tensorflow_stub/dtypes.py:545: FutureWarning: Passing (type, 1) or '1type' as a synonym of type is deprecated; in a future version of numpy, it will be understood as (type, (1,)) / '(1,)type'.\n",
      "  _np_qint32 = np.dtype([(\"qint32\", np.int32, 1)])\n",
      "/home/NETID/sutandia/venv/capstone/lib/python3.6/site-packages/tensorboard/compat/tensorflow_stub/dtypes.py:550: FutureWarning: Passing (type, 1) or '1type' as a synonym of type is deprecated; in a future version of numpy, it will be understood as (type, (1,)) / '(1,)type'.\n",
      "  np_resource = np.dtype([(\"resource\", np.ubyte, 1)])\n"
     ]
    }
   ],
   "source": [
    "import h5py\n",
    "import matplotlib.pyplot as plt\n",
    "from models import get_baseline_convolutional_encoder, build_siamese_net\n",
    "import numpy as np\n",
    "import os\n",
    "import random\n",
    "from scipy.signal import decimate\n",
    "from sklearn.manifold import TSNE\n",
    "import tensorflow as tf\n",
    "import yaml"
   ]
  },
  {
   "cell_type": "code",
   "execution_count": 2,
   "metadata": {},
   "outputs": [
    {
     "name": "stdout",
     "output_type": "stream",
     "text": [
      "Working on Sham104\n",
      "Working on TBI103\n",
      "Working on Sham102\n",
      "Working on TBI101\n"
     ]
    }
   ],
   "source": [
    "# define train and test sets\n",
    "train_set = ['Sham104', 'TBI103']\n",
    "test_set = ['Sham102', 'TBI101']\n",
    "\n",
    "# read EEG epochs - randomly sample num_samples from each class of each species\n",
    "num_classes = 4\n",
    "eeg_epoch_width_in_s = 32\n",
    "num_samples = 100\n",
    "epochs_path = 'data/epochs_{}c'.format(num_classes)\n",
    "file_template = '{}_BL5_ew{}.h5'\n",
    "train_sw_epochs = []\n",
    "train_ss_epochs = []\n",
    "train_tw_epochs = []\n",
    "train_ts_epochs = []\n",
    "for species in train_set:\n",
    "    print('Working on', species)\n",
    "    file_path = os.path.join(epochs_path, file_template.format(species, eeg_epoch_width_in_s))\n",
    "    with h5py.File(file_path, 'r') as file:\n",
    "        if 'Sham' in species:\n",
    "            train_sw_epochs.extend(random.sample(list(file['eeg']['wake']), num_samples))\n",
    "            train_ss_epochs.extend(random.sample(list(file['eeg']['sleep']), num_samples))\n",
    "        elif 'TBI' in species:\n",
    "            train_tw_epochs.extend(random.sample(list(file['eeg']['wake']), num_samples))\n",
    "            train_ts_epochs.extend(random.sample(list(file['eeg']['sleep']), num_samples))\n",
    "test_sw_epochs = []\n",
    "test_ss_epochs = []\n",
    "test_tw_epochs = []\n",
    "test_ts_epochs = []\n",
    "for species in test_set:\n",
    "    print('Working on', species)\n",
    "    file_path = os.path.join(epochs_path, file_template.format(species, eeg_epoch_width_in_s))\n",
    "    with h5py.File(file_path, 'r') as file:\n",
    "        if 'Sham' in species:\n",
    "            test_sw_epochs.extend(random.sample(list(file['eeg']['wake']), num_samples))\n",
    "            test_ss_epochs.extend(random.sample(list(file['eeg']['sleep']), num_samples))\n",
    "        elif 'TBI' in species:\n",
    "            test_tw_epochs.extend(random.sample(list(file['eeg']['wake']), num_samples))\n",
    "            test_ts_epochs.extend(random.sample(list(file['eeg']['sleep']), num_samples))"
   ]
  },
  {
   "cell_type": "code",
   "execution_count": 3,
   "metadata": {},
   "outputs": [
    {
     "name": "stdout",
     "output_type": "stream",
     "text": [
      "WARNING:tensorflow:From /home/NETID/sutandia/venv/capstone/lib/python3.6/site-packages/tensorflow/python/ops/init_ops.py:1251: calling VarianceScaling.__init__ (from tensorflow.python.ops.init_ops) with dtype is deprecated and will be removed in a future version.\n",
      "Instructions for updating:\n",
      "Call initializer instance with the dtype argument instead of passing it to the constructor\n"
     ]
    }
   ],
   "source": [
    "# load a siamese model and generate embeddings for EEG epochs\n",
    "models_path = 'models'\n",
    "config_file = 'basesiamrs_4c_ew32_1000'\n",
    "model_file = '{}_0_best.h5'.format(config_file)\n",
    "with open(os.path.join(models_path, config_file + '.yaml')) as cfile:\n",
    "    config_params = yaml.safe_load(cfile)\n",
    "filters = config_params['filters']\n",
    "embedding_dimension = config_params['embedding_dimension']\n",
    "dropout = config_params['dropout']\n",
    "num_tsteps = eeg_epoch_width_in_s * 1024 // (4 * 4)\n",
    "with tf.device('/cpu:0'):\n",
    "    encoder = get_baseline_convolutional_encoder(filters, embedding_dimension, dropout=dropout, input_shape=(num_tsteps, 1))\n",
    "    encoder.compile(optimizer='Adam', loss='binary_crossentropy', metrics=['accuracy'])\n",
    "    encoder.load_weights(os.path.join(models_path, model_file), by_name=True)\n",
    "    shape = (num_samples, num_tsteps, 1)\n",
    "    train_sw_epochs = encoder.predict(np.array(decimate(train_sw_epochs, 4)).reshape(shape))\n",
    "    train_ss_epochs = encoder.predict(np.array(decimate(train_ss_epochs, 4)).reshape(shape))\n",
    "    train_tw_epochs = encoder.predict(np.array(decimate(train_tw_epochs, 4)).reshape(shape))\n",
    "    train_ts_epochs = encoder.predict(np.array(decimate(train_ts_epochs, 4)).reshape(shape))\n",
    "    test_sw_epochs = encoder.predict(np.array(decimate(test_sw_epochs, 4)).reshape(shape))\n",
    "    test_ss_epochs = encoder.predict(np.array(decimate(test_ss_epochs, 4)).reshape(shape))\n",
    "    test_tw_epochs = encoder.predict(np.array(decimate(test_tw_epochs, 4)).reshape(shape))\n",
    "    test_ts_epochs = encoder.predict(np.array(decimate(test_ts_epochs, 4)).reshape(shape))    "
   ]
  },
  {
   "cell_type": "code",
   "execution_count": 6,
   "metadata": {},
   "outputs": [
    {
     "name": "stdout",
     "output_type": "stream",
     "text": [
      "[t-SNE] Computing pairwise distances...\n",
      "[t-SNE] Computed conditional probabilities for sample 100 / 100\n",
      "[t-SNE] Mean sigma: 109.330192\n",
      "[t-SNE] KL divergence after 250 iterations with early exaggeration: 77.930872\n",
      "[t-SNE] KL divergence after 8100 iterations: 0.329613\n",
      "[t-SNE] Computing pairwise distances...\n",
      "[t-SNE] Computed conditional probabilities for sample 100 / 100\n",
      "[t-SNE] Mean sigma: 9.821450\n",
      "[t-SNE] KL divergence after 250 iterations with early exaggeration: 57.536299\n",
      "[t-SNE] KL divergence after 1000 iterations: 0.723526\n",
      "[t-SNE] Computing pairwise distances...\n",
      "[t-SNE] Computed conditional probabilities for sample 100 / 100\n",
      "[t-SNE] Mean sigma: 27.496543\n",
      "[t-SNE] KL divergence after 250 iterations with early exaggeration: 82.093674\n",
      "[t-SNE] KL divergence after 8600 iterations: 0.159698\n",
      "[t-SNE] Computing pairwise distances...\n",
      "[t-SNE] Computed conditional probabilities for sample 100 / 100\n",
      "[t-SNE] Mean sigma: 9.853132\n",
      "[t-SNE] KL divergence after 250 iterations with early exaggeration: 86.194880\n",
      "[t-SNE] KL divergence after 8550 iterations: 0.174442\n",
      "[t-SNE] Computing pairwise distances...\n",
      "[t-SNE] Computed conditional probabilities for sample 100 / 100\n",
      "[t-SNE] Mean sigma: 118.836736\n",
      "[t-SNE] KL divergence after 250 iterations with early exaggeration: 86.141208\n",
      "[t-SNE] KL divergence after 9250 iterations: 0.227998\n",
      "[t-SNE] Computing pairwise distances...\n",
      "[t-SNE] Computed conditional probabilities for sample 100 / 100\n",
      "[t-SNE] Mean sigma: 36.927006\n",
      "[t-SNE] KL divergence after 250 iterations with early exaggeration: 80.878892\n",
      "[t-SNE] KL divergence after 7100 iterations: 0.246474\n",
      "[t-SNE] Computing pairwise distances...\n",
      "[t-SNE] Computed conditional probabilities for sample 100 / 100\n",
      "[t-SNE] Mean sigma: 36.250857\n",
      "[t-SNE] KL divergence after 250 iterations with early exaggeration: 80.399947\n",
      "[t-SNE] KL divergence after 9350 iterations: 0.270689\n",
      "[t-SNE] Computing pairwise distances...\n",
      "[t-SNE] Computed conditional probabilities for sample 100 / 100\n",
      "[t-SNE] Mean sigma: 137.130213\n",
      "[t-SNE] KL divergence after 250 iterations with early exaggeration: 81.058338\n",
      "[t-SNE] KL divergence after 12650 iterations: 0.299846\n"
     ]
    }
   ],
   "source": [
    "# reduce dimensionality using t-SNE\n",
    "tsne = TSNE(perplexity=30, early_exaggeration=12.0, learning_rate=600.0, method='exact', init='pca', verbose=1,\n",
    "            n_iter=40000)\n",
    "train_sw_epochs = tsne.fit_transform(train_sw_epochs)\n",
    "train_ss_epochs = tsne.fit_transform(train_ss_epochs)\n",
    "train_tw_epochs = tsne.fit_transform(train_tw_epochs)\n",
    "train_ts_epochs = tsne.fit_transform(train_ts_epochs)\n",
    "test_sw_epochs = tsne.fit_transform(test_sw_epochs)\n",
    "test_ss_epochs = tsne.fit_transform(test_ss_epochs)\n",
    "test_tw_epochs = tsne.fit_transform(test_tw_epochs)\n",
    "test_ts_epochs = tsne.fit_transform(test_ts_epochs)"
   ]
  },
  {
   "cell_type": "code",
   "execution_count": 10,
   "metadata": {},
   "outputs": [
    {
     "data": {
      "text/plain": [
       "<Figure size 864x864 with 0 Axes>"
      ]
     },
     "metadata": {},
     "output_type": "display_data"
    },
    {
     "data": {
      "image/png": "[encoded data removed]",
      "text/plain": [
       "<Figure size 432x288 with 1 Axes>"
      ]
     },
     "metadata": {
      "needs_background": "light"
     },
     "output_type": "display_data"
    }
   ],
   "source": [
    "# plot t-SNE embeddings\n",
    "plt.figure(figsize=(12.0, 12.0))\n",
    "fig, ax = plt.subplots()\n",
    "#ax.scatter(train_sw_epochs[:, 0], train_sw_epochs[:, 1], label='train_sw')\n",
    "#ax.scatter(train_ss_epochs[:, 0], train_ss_epochs[:, 1], label='train_ss')\n",
    "#ax.scatter(train_tw_epochs[:, 0], train_tw_epochs[:, 1], label='train_tw')\n",
    "#ax.scatter(train_ts_epochs[:, 0], train_ts_epochs[:, 1], label='train_ts')\n",
    "#ax.scatter(test_sw_epochs[:, 0], test_sw_epochs[:, 1], label='test_sw')\n",
    "#ax.scatter(test_ss_epochs[:, 0], test_ss_epochs[:, 1], label='test_ss')\n",
    "#ax.scatter(test_tw_epochs[:, 0], test_tw_epochs[:, 1], label='test_tw')\n",
    "#ax.scatter(test_ts_epochs[:, 0], test_ts_epochs[:, 1], label='test_ts')\n",
    "ax.legend()\n",
    "ax.grid(True)\n",
    "\n",
    "plt.show()"
   ]
  },
  {
   "cell_type": "code",
   "execution_count": null,
   "metadata": {},
   "outputs": [],
   "source": []
  }
 ],
 "metadata": {
  "kernelspec": {
   "display_name": "Python 3",
   "language": "python",
   "name": "python3"
  },
  "language_info": {
   "codemirror_mode": {
    "name": "ipython",
    "version": 3
   },
   "file_extension": ".py",
   "mimetype": "text/x-python",
   "name": "python",
   "nbconvert_exporter": "python",
   "pygments_lexer": "ipython3",
   "version": "3.6.8"
  }
 },
 "nbformat": 4,
 "nbformat_minor": 4
}
