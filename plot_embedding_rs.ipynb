{
 "cells": [
  {
   "cell_type": "code",
   "execution_count": 1,
   "metadata": {},
   "outputs": [],
   "source": [
    "from featureextraction import generate_embeddings\n",
    "import h5py\n",
    "import matplotlib.pyplot as plt\n",
    "from models import get_baseline_convolutional_encoder, build_siamese_net\n",
    "import numpy as np\n",
    "import os\n",
    "import random\n",
    "from scipy.signal import decimate\n",
    "from sklearn.manifold import TSNE\n",
    "import tensorflow as tf\n",
    "import yaml"
   ]
  },
  {
   "cell_type": "code",
   "execution_count": 2,
   "metadata": {},
   "outputs": [],
   "source": [
    "# define species set\n",
    "dataset_folds = [line.rstrip().split(',') for line in open('cv_folds.txt')]\n",
    "species_set = dataset_folds[0]\n",
    "\n",
    "# load parameters from config_file\n",
    "config_file = 'siamrs13_4c_ew32_25.yaml'\n",
    "models_path = 'models'\n",
    "model_file = os.path.join(models_path, config_file)\n",
    "with open(model_file) as cfile:\n",
    "    config_params = yaml.safe_load(cfile)\n",
    "eeg_epoch_width_in_s = config_params['epoch_width']\n",
    "num_classes = config_params['num_classes']\n",
    "decimate_factor = 4"
   ]
  },
  {
   "cell_type": "code",
   "execution_count": null,
   "metadata": {},
   "outputs": [],
   "source": [
    "# read EEG epochs - randomly sample num_samples from each class of each species\n",
    "num_samples = 128\n",
    "epochs_path = 'data/epochs_{}c'.format(num_classes)\n",
    "file_template = '{}_BL5_ew{}.h5'\n",
    "sw_s_epochs = []\n",
    "ss_s_epochs = []\n",
    "tw_s_epochs = []\n",
    "ts_s_epochs = []\n",
    "for species in species_set:\n",
    "    print('Working on', species)\n",
    "    file_path = os.path.join(epochs_path, file_template.format(species, eeg_epoch_width_in_s))\n",
    "    with h5py.File(file_path, 'r') as file:\n",
    "        if 'Sham' in species:\n",
    "            sw_s_epochs.extend(random.sample(list(file['eeg']['wake']), num_samples))\n",
    "            ss_s_epochs.extend(random.sample(list(file['eeg']['sleep']), num_samples))\n",
    "        elif 'TBI' in species:\n",
    "            tw_s_epochs.extend(random.sample(list(file['eeg']['wake']), num_samples))\n",
    "            ts_s_epochs.extend(random.sample(list(file['eeg']['sleep']), num_samples))"
   ]
  },
  {
   "cell_type": "code",
   "execution_count": null,
   "metadata": {},
   "outputs": [],
   "source": [
    "# generate embeddings for EEG epochs\n",
    "sw_epochs = generate_embeddings(decimate(sw_s_epochs, decimate_factor), model_file)\n",
    "ss_epochs = generate_embeddings(decimate(ss_s_epochs, decimate_factor), model_file)\n",
    "tw_epochs = generate_embeddings(decimate(tw_s_epochs, decimate_factor), model_file)\n",
    "ts_epochs = generate_embeddings(decimate(ts_s_epochs, decimate_factor), model_file)"
   ]
  },
  {
   "cell_type": "code",
   "execution_count": null,
   "metadata": {},
   "outputs": [],
   "source": [
    "# reduce dimensionality using t-SNE\n",
    "tsne = TSNE(perplexity=30, early_exaggeration=12.0, learning_rate=600.0, method='exact', init='pca', verbose=1,\n",
    "            n_iter=40000)\n",
    "sw_epochs = tsne.fit_transform(sw_epochs)\n",
    "ss_epochs = tsne.fit_transform(ss_epochs)\n",
    "tw_epochs = tsne.fit_transform(tw_epochs)\n",
    "ts_epochs = tsne.fit_transform(ts_epochs)"
   ]
  },
  {
   "cell_type": "code",
   "execution_count": null,
   "metadata": {},
   "outputs": [],
   "source": [
    "# plot embeddings\n",
    "plt.figure(figsize=(24.0, 24.0))\n",
    "fig, ax = plt.subplots()\n",
    "ax.scatter(sw_epochs[:, 0], sw_epochs[:, 1], label='sw')\n",
    "ax.scatter(ss_epochs[:, 0], ss_epochs[:, 1], label='ss')\n",
    "ax.scatter(tw_epochs[:, 0], tw_epochs[:, 1], label='tw')\n",
    "ax.scatter(ts_epochs[:, 0], ts_epochs[:, 1], label='ts')\n",
    "ax.legend()\n",
    "ax.grid(True)\n",
    "plt.savefig('{}_all.png'.format(config_File))\n",
    "plt.show()"
   ]
  },
  {
   "cell_type": "code",
   "execution_count": null,
   "metadata": {},
   "outputs": [],
   "source": []
  }
 ],
 "metadata": {
  "kernelspec": {
   "display_name": "Python 3",
   "language": "python",
   "name": "python3"
  },
  "language_info": {
   "codemirror_mode": {
    "name": "ipython",
    "version": 3
   },
   "file_extension": ".py",
   "mimetype": "text/x-python",
   "name": "python",
   "nbconvert_exporter": "python",
   "pygments_lexer": "ipython3",
   "version": "3.7.4-final"
  }
 },
 "nbformat": 4,
 "nbformat_minor": 4
}