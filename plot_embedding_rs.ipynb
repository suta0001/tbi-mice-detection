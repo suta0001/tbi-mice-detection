{
 "cells": [
  {
   "cell_type": "code",
   "execution_count": 1,
   "metadata": {},
   "outputs": [],
   "source": [
    "from featureextraction import generate_embeddings\n",
    "from eval_embedding_rs import predict_labels_based_on_distance\n",
    "import h5py\n",
    "import matplotlib.pyplot as plt\n",
    "from models import get_baseline_convolutional_encoder, build_siamese_net\n",
    "import numpy as np\n",
    "import os\n",
    "import random\n",
    "from scipy.signal import decimate\n",
    "from sklearn.manifold import TSNE\n",
    "import tensorflow as tf\n",
    "import yaml"
   ]
  },
  {
   "cell_type": "code",
   "execution_count": 7,
   "metadata": {},
   "outputs": [],
   "source": [
    "# define species set\n",
    "dataset_folds = [line.rstrip().split(',') for line in open('cv_folds.txt')]\n",
    "species_set = dataset_folds[0]\n",
    "\n",
    "# load parameters from config_file\n",
    "config_file = 'siamrs13_4c_ew32_25.yaml'\n",
    "models_path = 'models'\n",
    "model_file = os.path.join(models_path, config_file)\n",
    "with open(model_file) as cfile:\n",
    "    config_params = yaml.safe_load(cfile)\n",
    "eeg_epoch_width_in_s = config_params['epoch_width']\n",
    "num_classes = config_params['num_classes']\n",
    "decimate_factor = 4"
   ]
  },
  {
   "cell_type": "code",
   "execution_count": 3,
   "metadata": {},
   "outputs": [
    {
     "output_type": "stream",
     "name": "stdout",
     "text": "Working on Sham104\nWorking on Sham105\nWorking on Sham107\nWorking on Sham108\nWorking on TBI103\nWorking on TBI104\nWorking on TBI106\nWorking on Sham102\nWorking on Sham103\nWorking on TBI101\nWorking on TBI102\n"
    }
   ],
   "source": [
    "# read EEG epochs - randomly sample num_samples from each class of each species\n",
    "num_samples = 128\n",
    "epochs_path = 'data/epochs_{}c'.format(num_classes)\n",
    "file_template = '{}_BL5_ew{}.h5'\n",
    "sw_s_epochs = []\n",
    "ss_s_epochs = []\n",
    "tw_s_epochs = []\n",
    "ts_s_epochs = []\n",
    "for species in species_set:\n",
    "    print('Working on', species)\n",
    "    file_path = os.path.join(epochs_path, file_template.format(species, eeg_epoch_width_in_s))\n",
    "    with h5py.File(file_path, 'r') as file:\n",
    "        if 'Sham' in species:\n",
    "            sw_s_epochs.extend(random.sample(list(file['eeg']['wake']), num_samples))\n",
    "            ss_s_epochs.extend(random.sample(list(file['eeg']['sleep']), num_samples))\n",
    "        elif 'TBI' in species:\n",
    "            tw_s_epochs.extend(random.sample(list(file['eeg']['wake']), num_samples))\n",
    "            ts_s_epochs.extend(random.sample(list(file['eeg']['sleep']), num_samples))"
   ]
  },
  {
   "cell_type": "code",
   "execution_count": 4,
   "metadata": {},
   "outputs": [
    {
     "output_type": "stream",
     "name": "stdout",
     "text": "WARNING:tensorflow:From C:\\Program Files\\Python37\\lib\\site-packages\\tensorflow_core\\python\\ops\\resource_variable_ops.py:1630: calling BaseResourceVariable.__init__ (from tensorflow.python.ops.resource_variable_ops) with constraint is deprecated and will be removed in a future version.\nInstructions for updating:\nIf using Keras pass *_constraint arguments to layers.\n"
    }
   ],
   "source": [
    "# generate embeddings for EEG epochs\n",
    "sw_epochs = generate_embeddings(decimate(sw_s_epochs, decimate_factor), model_file)\n",
    "ss_epochs = generate_embeddings(decimate(ss_s_epochs, decimate_factor), model_file)\n",
    "tw_epochs = generate_embeddings(decimate(tw_s_epochs, decimate_factor), model_file)\n",
    "ts_epochs = generate_embeddings(decimate(ts_s_epochs, decimate_factor), model_file)"
   ]
  },
  {
   "cell_type": "code",
   "execution_count": 5,
   "metadata": {},
   "outputs": [
    {
     "output_type": "stream",
     "name": "stdout",
     "text": "[t-SNE] Computing pairwise distances...\n[t-SNE] Computed conditional probabilities for sample 768 / 768\n[t-SNE] Mean sigma: 3.819419\n[t-SNE] KL divergence after 250 iterations with early exaggeration: 63.766579\n[t-SNE] KL divergence after 7050 iterations: 0.452443\n[t-SNE] Computing pairwise distances...\n[t-SNE] Computed conditional probabilities for sample 768 / 768\n[t-SNE] Mean sigma: 3.676067\n[t-SNE] KL divergence after 250 iterations with early exaggeration: 65.021561\n[t-SNE] KL divergence after 7000 iterations: 0.449196\n[t-SNE] Computing pairwise distances...\n[t-SNE] Computed conditional probabilities for sample 640 / 640\n[t-SNE] Mean sigma: 4.502927\n[t-SNE] KL divergence after 250 iterations with early exaggeration: 63.169674\n[t-SNE] KL divergence after 6550 iterations: 0.402334\n[t-SNE] Computing pairwise distances...\n[t-SNE] Computed conditional probabilities for sample 640 / 640\n[t-SNE] Mean sigma: 4.822864\n[t-SNE] KL divergence after 250 iterations with early exaggeration: 64.728165\n[t-SNE] KL divergence after 4500 iterations: 0.446523\n"
    }
   ],
   "source": [
    "# reduce dimensionality using t-SNE\n",
    "tsne = TSNE(perplexity=30, early_exaggeration=12.0, learning_rate=600.0, method='exact', init='pca', verbose=1,\n",
    "            n_iter=40000)\n",
    "sw_epochs = tsne.fit_transform(sw_epochs)\n",
    "ss_epochs = tsne.fit_transform(ss_epochs)\n",
    "tw_epochs = tsne.fit_transform(tw_epochs)\n",
    "ts_epochs = tsne.fit_transform(ts_epochs)"
   ]
  },
  {
   "cell_type": "code",
   "execution_count": null,
   "metadata": {},
   "outputs": [],
   "source": [
    "# plot embeddings\n",
    "plt.figure(figsize=(24.0, 24.0))\n",
    "fig, ax = plt.subplots()\n",
    "ax.scatter(sw_epochs[:, 0], sw_epochs[:, 1], label='sw')\n",
    "ax.scatter(ss_epochs[:, 0], ss_epochs[:, 1], label='ss')\n",
    "ax.scatter(tw_epochs[:, 0], tw_epochs[:, 1], label='tw')\n",
    "ax.scatter(ts_epochs[:, 0], ts_epochs[:, 1], label='ts')\n",
    "ax.legend()\n",
    "ax.grid(True)\n",
    "plt.savefig('{}_all.png'.format(config_file))\n",
    "plt.show()"
   ]
  },
  {
   "cell_type": "code",
   "execution_count": null,
   "metadata": {},
   "outputs": [],
   "source": [
    "predicted_labels = predict_labels_based_on_distance()"
   ]
  }
 ],
 "metadata": {
  "kernelspec": {
   "display_name": "Python 3.7.3 64-bit",
   "language": "python",
   "name": "python37364bit65cba5211a384c30abc28e77614c4c82"
  },
  "language_info": {
   "codemirror_mode": {
    "name": "ipython",
    "version": 3
   },
   "file_extension": ".py",
   "mimetype": "text/x-python",
   "name": "python",
   "nbconvert_exporter": "python",
   "pygments_lexer": "ipython3",
   "version": "3.7.3-final"
  }
 },
 "nbformat": 4,
 "nbformat_minor": 4
}